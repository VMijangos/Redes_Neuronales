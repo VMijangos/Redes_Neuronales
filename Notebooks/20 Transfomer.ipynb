{
 "cells": [
  {
   "cell_type": "markdown",
   "id": "7e87a1f8",
   "metadata": {},
   "source": [
    "# Transformer\n",
    "\n",
    "Los Transformer son un modelo de red neuronal que ha tenido un impacto reciente en el PLN. Su arquitectura se basa en la atención, pero, a diferencia de las RNNs, no utiliza recurrencias, lo que le permite cómputos más rápidos y paralelizables.\n",
    "\n",
    "Aquí revisamos de manera simple una arquitectura de Transformer según lo presentan Vaswani et al. (2017). Este notebook se basa en el trabajo de \"The Annotated Transformer\" del grupo de NLP de la Universidad de Harvard disponible en <a>https://nlp.seas.harvard.edu/2018/04/03/attention.html</a>.\n",
    "Se icieron algunas modificaciones para actualizarlo a una versión reciente de Pytroch. Además, se simplificaron algunos métodos."
   ]
  },
  {
   "cell_type": "code",
   "execution_count": 1,
   "id": "16b20b58",
   "metadata": {},
   "outputs": [],
   "source": [
    "import time\n",
    "import copy\n",
    "from math import ceil\n",
    "from tqdm import tqdm\n",
    "import numpy as np\n",
    "import torch\n",
    "import torch.nn as nn\n",
    "from torch import from_numpy\n",
    "import math, copy\n",
    "from torch.autograd import Variable\n",
    "import matplotlib.pyplot as plt\n",
    "from seaborn import heatmap\n",
    "from collections import defaultdict\n",
    "from tqdm import tqdm"
   ]
  },
  {
   "cell_type": "markdown",
   "id": "684f2fa1",
   "metadata": {},
   "source": [
    "# Arquitectura del Transformer\n",
    "\n",
    "#### Copias de encoder y decoder\n",
    "\n",
    "El modelo de Transformer se compone de un encoder y un decoder; ambas capas, además, se clonan. Es decir, se tiene $N$ capas similares del encoder y el decoder. Decimos que son similares, puesto que tienen la misma arquitectura, pero los parámetros que se aprenden pueden variar. Estas copias buscan enriquecer el procesamiento. Para hacer estas copias de las capas definimos una función:"
   ]
  },
  {
   "cell_type": "code",
   "execution_count": 2,
   "id": "f1327bc6",
   "metadata": {},
   "outputs": [],
   "source": [
    "def clones(module, N):\n",
    "    \"Produce N capas identicas (para encoder y decoder).\"\n",
    "    return nn.ModuleList([copy.deepcopy(module) for _ in range(N)])"
   ]
  },
  {
   "cell_type": "markdown",
   "id": "0ed2a50e",
   "metadata": {},
   "source": [
    "#### Suma y normalización\n",
    "\n",
    "Asimismo, a cada sub-capa en el encoder y el decoder se le agrega una normalización y una conexión residual que suma la sub-capa inmediatamente anterior.\n",
    "\n",
    "La normalización consiste en llevar a los datos a una distibución normal estandar. Para esto se aplica la normalización siguiente (Lei Ba et al., 2016):\n",
    "\n",
    "$$LayerNorm(X) = a \\odot \\frac{X-\\mu}{\\sigma^2 + \\epsilon} + b$$\n",
    "\n",
    "Donde $\\mu$ es la media de la distribución y $\\sigma^2$ la desviación estándar. El factor $\\epsilon$ evita la división por 0 (en el caso de que la desviación estándar sea igual a 0). $a$ es un factor de ganancia y $b$ un bias. \n",
    "\n",
    "La suma se realiza entonces como:\n",
    "\n",
    "$$x + SubLayer(LayerNorm(x))$$\n",
    "\n",
    "Donde $SubLayer()$ es la función que se implementa en la sub-capa."
   ]
  },
  {
   "cell_type": "code",
   "execution_count": 3,
   "id": "48bb77f6",
   "metadata": {},
   "outputs": [],
   "source": [
    "class LayerNorm(nn.Module):\n",
    "    \"Normalización de las capas.\"\n",
    "    def __init__(self, features, eps=1e-6):\n",
    "        super(LayerNorm, self).__init__()\n",
    "        self.a_2 = nn.Parameter(torch.ones(features))\n",
    "        self.b_2 = nn.Parameter(torch.zeros(features))\n",
    "        self.eps = eps\n",
    "\n",
    "    #Se normalizan los datos en una distribución N(0,1)\n",
    "    def forward(self, x):\n",
    "        mean = x.mean(-1, keepdim=True)\n",
    "        std = x.std(-1, keepdim=True)\n",
    "        return self.a_2 * (x - mean) / (std + self.eps) + self.b_2\n",
    "        \n",
    "class SublayerConnection(nn.Module):\n",
    "    \"\"\"\n",
    "    Conexión residual que se agrega después de la normalización.\n",
    "    \"\"\"\n",
    "    def __init__(self, size, dropout):\n",
    "        super(SublayerConnection, self).__init__()\n",
    "        #Aplica normalización\n",
    "        self.norm = LayerNorm(size)\n",
    "        #Aplica dropout\n",
    "        self.dropout = nn.Dropout(dropout)\n",
    "\n",
    "    def forward(self, x, sublayer):\n",
    "        #Se suma a la capa actual, la normalización\n",
    "        return x + self.dropout(sublayer(self.norm(x)))"
   ]
  },
  {
   "cell_type": "markdown",
   "id": "879b42e1",
   "metadata": {},
   "source": [
    "## Encoder\n",
    "\n",
    "El encoder se compone de $N$ copias de una capa que se compone de:\n",
    "* Auto-atención\n",
    "* Red FeedForward\n",
    "\n",
    "Además, entre cada capa, se aplica una capa de normalización y suma."
   ]
  },
  {
   "cell_type": "code",
   "execution_count": 4,
   "id": "46fffe64",
   "metadata": {},
   "outputs": [],
   "source": [
    "class Encoder(nn.Module):\n",
    "    \"El encoder es un conjunto de N capas simialres\"\n",
    "    def __init__(self, layer, N):\n",
    "        super(Encoder, self).__init__()\n",
    "        #Clone encoder layers\n",
    "        self.layers = clones(layer, N)\n",
    "        #Normalización\n",
    "        self.norm = LayerNorm(layer.size)\n",
    "        \n",
    "    def forward(self, x, mask):\n",
    "        \"A cada capa se le pasa la entrada x\"\n",
    "        for layer in self.layers:\n",
    "            x = layer(x, mask)\n",
    "        #Se obtienen las capas con normalización\n",
    "        return self.norm(x)\n",
    "    \n",
    "class EncoderLayer(nn.Module):\n",
    "    \"Capa de Encoder (de la cuál se harán las copias)\"\n",
    "    def __init__(self, size, self_attn, feed_forward, dropout):\n",
    "        super(EncoderLayer, self).__init__()\n",
    "        #Auto-atención\n",
    "        self.self_attn = self_attn\n",
    "        #FeedForward\n",
    "        self.feed_forward = feed_forward\n",
    "        #Conexión residual y copias\n",
    "        #Se crean dos sub-capas: para la auto-atención, y para la FeedForward\n",
    "        self.sublayer = clones(SublayerConnection(size, dropout), 2)\n",
    "        #Tamaño\n",
    "        self.size = size\n",
    "\n",
    "    def forward(self, x, mask):\n",
    "        #Se aplica una capa de auto-atención y se aplica la función de sub-capa\n",
    "        x = self.sublayer[0](x, lambda x: self.self_attn(x, x, x, mask))\n",
    "        #Aplica la sub-capa de FeedForward\n",
    "        return self.sublayer[1](x, self.feed_forward)"
   ]
  },
  {
   "cell_type": "markdown",
   "id": "738217f9",
   "metadata": {},
   "source": [
    "## Decoder\n",
    "\n",
    "El decoder se compone de $N$ copias de una capa que se compone de:\n",
    "* Auto-atención enmascarada, el enmascaramiento \"oculta\" los siguientes elementos en la cadena de salida.\n",
    "* Atención, entre los elementos de la entrada (salida del encoder) y de la salida.\n",
    "* Red FeedForward\n",
    "\n",
    "Además, entre cada capa, se aplica una capa de normalización y suma."
   ]
  },
  {
   "cell_type": "code",
   "execution_count": 5,
   "id": "9096a7ac",
   "metadata": {},
   "outputs": [],
   "source": [
    "class Decoder(nn.Module):\n",
    "    \"El decoder es un conjunto de N capas similares.\"\n",
    "    def __init__(self, layer, N):\n",
    "        super(Decoder, self).__init__()\n",
    "        #Copia de capas decoder\n",
    "        self.layers = clones(layer, N)\n",
    "        #Normalización\n",
    "        self.norm = LayerNorm(layer.size)\n",
    "        \n",
    "    def forward(self, x, memory, src_mask, tgt_mask):\n",
    "        \"A cada capa se le pasa la entrada x, la salida del encode (memory) y máscaras\"\n",
    "        for layer in self.layers:\n",
    "            x = layer(x, memory, src_mask, tgt_mask)\n",
    "        #Se aplica normalización\n",
    "        return self.norm(x)\n",
    "        \n",
    "class DecoderLayer(nn.Module):\n",
    "    \"Capa de Decoder\"\n",
    "    def __init__(self, size, self_attn, src_attn, feed_forward, dropout):\n",
    "        super(DecoderLayer, self).__init__()\n",
    "        #Tamaño\n",
    "        self.size = size\n",
    "        #Auto-atención enmascarada\n",
    "        self.self_attn = self_attn\n",
    "        #Atención (entre encoder y decoder)\n",
    "        self.src_attn = src_attn\n",
    "        #FeedForward\n",
    "        self.feed_forward = feed_forward\n",
    "        #Conexión residual y copias\n",
    "        #Se crean 3 sub-capas: auto-atención enmascarada, atención y FeedForward\n",
    "        self.sublayer = clones(SublayerConnection(size, dropout), 3)\n",
    " \n",
    "    def forward(self, x, memory, src_mask, tgt_mask):\n",
    "        #Salida del encoder\n",
    "        m = memory\n",
    "        #Capa de auto-atención enmascarada\n",
    "        x = self.sublayer[0](x, lambda x: self.self_attn(x, x, x, tgt_mask))\n",
    "        #Capa de atención con la memoria (salida del encoder)\n",
    "        x = self.sublayer[1](x, lambda x: self.src_attn(x, m, m, src_mask))\n",
    "        #Capa de FeedForward\n",
    "        return self.sublayer[2](x, self.feed_forward)"
   ]
  },
  {
   "cell_type": "markdown",
   "id": "9d83fbd4",
   "metadata": {},
   "source": [
    "## Atención\n",
    "\n",
    "La base del modelo de Transformer es la atención. Tanto el encoder como el decoder ocupan capas de atención. Pero podemos ver que se incorporan diferentes tipos de atención: auto-atención, auto-atención enmascarada y la atención (común); la auto-atención se ocupa en el encoder y busca codificar la entrada encontrando relaciones entre los elementos de la cadena de entrada. Algo similar pasa en la auto-atención enmascarada, que se ocupa en el decoder, pues busca encontrar relaciones en la salida, pero como no se conocen los elementos de salida, se asume que estos están enmascarados.\n",
    "\n",
    "Finalmente, la atención, propiamente dicha, se aplica entre la salida del encoder y los elementos del decoder (que han pasado por la auto-atención enmascarada). En general, la atención de los Transformers se define como:\n",
    "\n",
    "$$Attention(Q,K,V) = Softmax(\\frac{QK^T}{\\sqrt{d_k}})V$$\n",
    "\n",
    "Donde $Q$ se conce como matriz query, $K$ como key y $V$ como value, y $d_k$ es la dimensión del modelo. En los modelos de auto-atención (sea enmascarada o no) estos tres elementos son copias de uno mismo. \n",
    "Pero en la atención, el query proviene del decoder, mientras que key y value provienen del encoder.\n",
    "\n",
    "La atención en los Transformers es multi-cabezal; es decir, se crean $h$ copias de atención de la capa de atención que después se concatenan y se procesan. Esto permite que diferentes cabezales puedan poner atención a casos particulares."
   ]
  },
  {
   "cell_type": "code",
   "execution_count": 6,
   "id": "eebd53f8",
   "metadata": {},
   "outputs": [],
   "source": [
    "def attention(query, key, value, mask=None, dropout=None):\n",
    "    \"Obtiene los pesos de atención\"\n",
    "    #Dimensión del modelo\n",
    "    d_k = query.size(-1)\n",
    "    #Calcula el producto escalado QK\n",
    "    scores = torch.matmul(query, key.transpose(-2, -1)) \\\n",
    "             / math.sqrt(d_k)\n",
    "    #Si la atención es enmascarada\n",
    "    if mask is not None:\n",
    "        scores = scores.masked_fill(mask == 0, -1e9)\n",
    "    #Aplica softmax a los pesos\n",
    "    p_attn = nn.functional.softmax(scores, dim = -1)\n",
    " \n",
    "    #Se puede aplicar una regularización dropout\n",
    "    if dropout is not None:\n",
    "        p_attn = dropout(p_attn)\n",
    "    #Regresa la atención softmax por V y los pesos de atención\n",
    "    return torch.matmul(p_attn, value), p_attn\n",
    "    \n",
    "class MultiHeadedAttention(nn.Module):\n",
    "    def __init__(self, h, d_model, dropout=0.1):\n",
    "        \"Multi-Head Attention\"\n",
    "        super(MultiHeadedAttention, self).__init__()\n",
    "        #dimensión del modelo debe dividir h\n",
    "        assert d_model % h == 0\n",
    "        #Dimensión del modelo\n",
    "        self.d_k = d_model // h\n",
    "        #Número de cabezales\n",
    "        self.h = h\n",
    "        #Copias de capas lineales\n",
    "        self.linears = clones(nn.Linear(d_model, d_model), 4)\n",
    "        #Atención\n",
    "        self.attn = None\n",
    "        #Dropout\n",
    "        self.dropout = nn.Dropout(p=dropout)\n",
    "        \n",
    "    def forward(self, query, key, value, mask=None):\n",
    "        #Si hay enmascaramiento\n",
    "        if mask is not None:\n",
    "            # Se aplica la misma máscara a todos los cabezales\n",
    "            mask = mask.unsqueeze(1)\n",
    "        #Número de bathces\n",
    "        nbatches = query.size(0)\n",
    "        \n",
    "        # 1) Realiza todas las proyecciones lineales en batch de d_model a h*d_k\n",
    "        query, key, value = \\\n",
    "            [l(x).view(nbatches, -1, self.h, self.d_k).transpose(1, 2)\n",
    "             for l, x in zip(self.linears, (query, key, value))]\n",
    "        \n",
    "        # 2) Aplica atención a todos los vectores proyectodos en el batch\n",
    "        x, self.attn = attention(query, key, value, mask=mask, \n",
    "                                 dropout=self.dropout)\n",
    "        \n",
    "        # 3) Concatena los cabezales de atención\n",
    "        x = x.transpose(1, 2).contiguous() \\\n",
    "             .view(nbatches, -1, self.h * self.d_k)\n",
    "        return self.linears[-1](x)"
   ]
  },
  {
   "cell_type": "markdown",
   "id": "83f37c6e",
   "metadata": {},
   "source": [
    "### FeedForward\n",
    "\n",
    "La capa de FeedForward se presenta tanto en el encoder y el decoder después de las capas de atención. Esta es una simple capa definida como:\n",
    "\n",
    "$$FFN(x) = W_2 h(x)+b_2$$\n",
    "\n",
    "Donde:\n",
    "\n",
    "$$h(x) = ReLU(W_1x+b_1)$$"
   ]
  },
  {
   "cell_type": "code",
   "execution_count": 7,
   "id": "ea6c4c16",
   "metadata": {},
   "outputs": [],
   "source": [
    "class PositionwiseFeedForward(nn.Module):\n",
    "    \"Capa FeedForward\"\n",
    "    def __init__(self, d_model, d_ff, dropout=0.1):\n",
    "        super(PositionwiseFeedForward, self).__init__()\n",
    "        #Primera capa FeedForward\n",
    "        self.w_1 = nn.Linear(d_model, d_ff)\n",
    "        #Segunda capa FeedForward\n",
    "        self.w_2 = nn.Linear(d_ff, d_model)\n",
    "        #Dropout\n",
    "        self.dropout = nn.Dropout(dropout)\n",
    "\n",
    "    def forward(self, x):\n",
    "        #Aplica ReLU a la primera capa\n",
    "        #La segunda capa es lineal\n",
    "        return self.w_2(self.dropout(nn.functional.relu(self.w_1(x))))"
   ]
  },
  {
   "cell_type": "markdown",
   "id": "a5b4ec7a",
   "metadata": {},
   "source": [
    "### Embeddings\n",
    "\n",
    "Los embeddings en los modelos de Tranformer son contextualizados, pero para contextualizarlos, se utiliza una codificación posicional.\n",
    "\n",
    "En primer lugar se ocupa una capa típica de embedding (estáticos). Estos embeddings se escalan multiplicando por $\\sqrt{d}$ donde $d$ es la dimensión de los embeddings.\n",
    "\n",
    "Cuando se tienen estos embeddings, se les suma una codificación posicional que indica la posición del elemento en la cadena. Esta codificación de posición es un vector que tiene senos en las entradas pares y cosenos en las impares. Es decir, las entradas pares del vector son:\n",
    "\n",
    "$$PE_{2i}(t) = \\sin \\Big(\\frac{t}{10000^{2 i/d}} \\Big)$$\n",
    "\n",
    "Mientras que las entradas impares son:\n",
    "\n",
    "$$PE_{2i+1}(t) = \\cos \\Big(\\frac{t}{10000^{2 i/d}} \\Big)$$\n",
    "\n",
    "Donde $t$ es la posición del elemento e $i$ es la entrada del vector de posición.\n",
    "\n",
    "Esto hace que la posición se codifique como una señal. En la práctica, el factor $10000^{2 i/d}$ puede aplicarse con un logaritmo (seguido de una exponencial) para evitar que se desvanezca."
   ]
  },
  {
   "cell_type": "code",
   "execution_count": 8,
   "id": "2607d544",
   "metadata": {},
   "outputs": [],
   "source": [
    "#Common embeddings\n",
    "class Embeddings(nn.Module):\n",
    "    def __init__(self, d_model, vocab):\n",
    "        super(Embeddings, self).__init__()\n",
    "        #Capa de embedding estáticos\n",
    "        self.lut = nn.Embedding(vocab, d_model) \n",
    "        #Dimensión de embeddings\n",
    "        self.d_model = d_model\n",
    "\n",
    "    def forward(self, x):\n",
    "        return self.lut(x) * math.sqrt(self.d_model)\n",
    "        \n",
    "#Positional embeddings\n",
    "class PositionalEncoding(nn.Module):\n",
    "    \"Codificación posicional\"\n",
    "    def __init__(self, d_model, dropout, max_len=5000):\n",
    "        super(PositionalEncoding, self).__init__()\n",
    "        #Dropout\n",
    "        self.dropout = nn.Dropout(p=dropout)\n",
    "        \n",
    "        # Compute the positional encodings once in log space.\n",
    "        #Matriz de dimensión de embeddings por máximo núm de elementos\n",
    "        pe = torch.zeros(max_len, d_model)\n",
    "        #Posición de 0 a máximo núm de elementos (enteros)\n",
    "        position = torch.arange(0, max_len).unsqueeze(1)\n",
    "        #Factor de la división con log y exp\n",
    "        div_term = torch.exp(torch.arange(0, d_model, 2) *\n",
    "                             -(math.log(10000.0) / d_model))\n",
    "        #Entradas pares\n",
    "        pe[:, 0::2] = torch.sin(position * div_term)\n",
    "        #Entradas impares\n",
    "        pe[:, 1::2] = torch.cos(position * div_term)\n",
    "        pe = pe.unsqueeze(0)\n",
    "        self.register_buffer('pe', pe)\n",
    "        \n",
    "    def forward(self, x):\n",
    "        #Suma del embedding estático más codificación posicional\n",
    "        x = x + Variable(self.pe[:, :x.size(1)], \n",
    "                         requires_grad=False)\n",
    "        #Dropout\n",
    "        return self.dropout(x)"
   ]
  },
  {
   "cell_type": "markdown",
   "id": "fdc36f8e",
   "metadata": {},
   "source": [
    "La codificación posicional puede visualizarse como señales de seno y coseno con diferente amplitud."
   ]
  },
  {
   "cell_type": "code",
   "execution_count": 9,
   "id": "bdab5abd",
   "metadata": {},
   "outputs": [
    {
     "data": {
      "image/png": "[encoded data removed]",
      "text/plain": [
       "<Figure size 1080x360 with 1 Axes>"
      ]
     },
     "metadata": {
      "needs_background": "light"
     },
     "output_type": "display_data"
    },
    {
     "data": {
      "image/png": "[encoded data removed]",
      "text/plain": [
       "<Figure size 432x288 with 2 Axes>"
      ]
     },
     "metadata": {
      "needs_background": "light"
     },
     "output_type": "display_data"
    }
   ],
   "source": [
    "#Visualización de PE\n",
    "d_model = 20\n",
    "plt.figure(figsize=(15, 5))\n",
    "pe = PositionalEncoding(d_model, 0)\n",
    "y = pe.forward(Variable(torch.zeros(1, 100, d_model)))\n",
    "plt.plot(np.arange(100), y[0, :, 4:8].data.numpy())\n",
    "plt.legend([\"entrada %d\"%p for p in [4,5,6,7]])\n",
    "plt.xlabel('Posición')\n",
    "plt.ylabel('Valor')\n",
    "plt.show()\n",
    "\n",
    "heatmap(y.data.numpy()[0])\n",
    "plt.ylabel('Posición')\n",
    "plt.xlabel('Dimensión del modelo')\n",
    "plt.show()"
   ]
  },
  {
   "cell_type": "markdown",
   "id": "862ce10f",
   "metadata": {},
   "source": [
    "### Salida del Transformer\n",
    "\n",
    "Después de pasar por el Encoder y el Decoder, la salida del Transformer es una capa lineal, de la cual se obtienen probabilidades por medio de una función Softmax."
   ]
  },
  {
   "cell_type": "code",
   "execution_count": 10,
   "id": "1e94cf99",
   "metadata": {},
   "outputs": [],
   "source": [
    "class Generator(nn.Module):\n",
    "    \"Salida del Trasnformer.\"\n",
    "    def __init__(self, d_model, vocab):\n",
    "        super(Generator, self).__init__()\n",
    "        #Capa lineal\n",
    "        self.proj = nn.Linear(d_model, vocab)\n",
    "\n",
    "    def forward(self, x):\n",
    "        #Softmax\n",
    "        return nn.functional.softmax(self.proj(x), dim=-1)"
   ]
  },
  {
   "cell_type": "markdown",
   "id": "7e007348",
   "metadata": {},
   "source": [
    "## Arquitectura total\n",
    "\n",
    "Para reunir todos los módulos que conforman la arquitectura del Transformer, definirmos una función que tomará cada uno de los elementos que hemos definido."
   ]
  },
  {
   "cell_type": "code",
   "execution_count": 11,
   "id": "4248a8eb",
   "metadata": {},
   "outputs": [],
   "source": [
    "class EncoderDecoder(nn.Module):\n",
    "    \"\"\"\n",
    "    Arquitectura Encoder-Decoder.\n",
    "    \"\"\"\n",
    "    def __init__(self, encoder, decoder, src_embed, tgt_embed, generator):\n",
    "        super(EncoderDecoder, self).__init__()\n",
    "        #Encoder\n",
    "        self.encoder = encoder\n",
    "        #Decoder\n",
    "        self.decoder = decoder\n",
    "        #Embeddings de entrada\n",
    "        self.src_embed = src_embed\n",
    "        #Embeddings de salida\n",
    "        self.tgt_embed = tgt_embed\n",
    "        #Salida del Encoder-Decoder\n",
    "        self.generator = generator\n",
    "        \n",
    "    def forward(self, src, tgt, src_mask, tgt_mask):\n",
    "        #Función de decodificación\n",
    "        #Codifica y decodifica\n",
    "        return self.decode(self.encode(src, src_mask), src_mask,\n",
    "                            tgt, tgt_mask)\n",
    "    \n",
    "    def encode(self, src, src_mask):\n",
    "        #Función de codificación\n",
    "        return self.encoder(self.src_embed(src), src_mask)\n",
    "    \n",
    "    def decode(self, memory, src_mask, tgt, tgt_mask):\n",
    "        #Función de decodificación\n",
    "        return self.decoder(self.tgt_embed(tgt), memory, src_mask, tgt_mask)\n"
   ]
  },
  {
   "cell_type": "markdown",
   "id": "2ff2f25c",
   "metadata": {},
   "source": [
    "# Optimización\n",
    "\n",
    "La optimización en los transformers se realiza a partir de un optimizador Noam. Antes de revisar este optimizador, introducimos funciones para el cómputo de los batches en la optimización. Estas funciones toman en cuenta el enmascaramiento de palabras subsecuentes en la salida. Este enmascaramiento permite la predicción de cadenas de salida que no hayan sido vistas. Para cada cadena de entrada, la cadena de salida asume que las palabras que va a predecir están enmascaradas."
   ]
  },
  {
   "cell_type": "code",
   "execution_count": 12,
   "id": "7b12b287",
   "metadata": {},
   "outputs": [],
   "source": [
    "def subsequent_mask(size):\n",
    "    \"Enmascara las posiciones subsecuentes.\"\n",
    "    attn_shape = (1, size, size)\n",
    "    subsequent_mask = np.triu(np.ones(attn_shape), k=1).astype('uint8')\n",
    "    return from_numpy(subsequent_mask) == 0\n",
    "\n",
    "class Batch:\n",
    "    \"Almacena un batch de los datos enmascarados durante el entrenamoento.\"\n",
    "    def __init__(self, src, trg=None, pad=0):\n",
    "        #Input e input mask\n",
    "        self.src = src\n",
    "        self.src_mask = (src != pad).unsqueeze(-2)\n",
    "        #Output\n",
    "        if trg is not None:\n",
    "            self.trg = trg[:, :-1]\n",
    "            self.trg_y = trg[:, 1:]\n",
    "            self.trg_mask = \\\n",
    "                self.make_std_mask(self.trg, pad)\n",
    "            self.ntokens = (self.trg_y != pad).data.sum()\n",
    "    \n",
    "    @staticmethod\n",
    "    def make_std_mask(tgt, pad):\n",
    "        \"Crea una máscara para ocultar palabras futuras (y el padding).\"\n",
    "        tgt_mask = (tgt != pad).unsqueeze(-2)\n",
    "        tgt_mask = tgt_mask & Variable(\n",
    "            subsequent_mask(tgt.size(-1)).type_as(tgt_mask.data))\n",
    "        return tgt_mask\n",
    "    \n",
    "global max_src_in_batch, max_tgt_in_batch\n",
    "def batch_size_fn(new, count, sofar):\n",
    "    \"Aumenta batch y calcula el número total de tokens + padding.\"\n",
    "    global max_src_in_batch, max_tgt_in_batch\n",
    "    if count == 1:\n",
    "        max_src_in_batch = 0\n",
    "        max_tgt_in_batch = 0\n",
    "    max_src_in_batch = max(max_src_in_batch,  len(new.src))\n",
    "    max_tgt_in_batch = max(max_tgt_in_batch,  len(new.trg) + 2)\n",
    "    src_elements = count * max_src_in_batch\n",
    "    tgt_elements = count * max_tgt_in_batch\n",
    "    return max(src_elements, tgt_elements)"
   ]
  },
  {
   "cell_type": "markdown",
   "id": "ad6d0664",
   "metadata": {},
   "source": [
    "El <b>optimizador Noam</b> está basado en el optimizador Adam, pero en cada paso $t$ (step) varía el rango de aprendizaje $\\eta$ de acuerdo con la siguiente fórmula:\n",
    "\n",
    "$$\\eta_t = \\frac{\\alpha}{\\sqrt{d_{model}}} \\min\\{t^{-1/2}, t \\omega^{-3/2}\\}$$\n",
    "\n",
    "Donde $\\alpha$ es un \"factor\", generalmente $\\alpha = 2$ y $d_{model}$ (model_size) es la dimensión de los embeddings del modelo. Además $\\omega$ (warmup) es un hiperparámetro que que corresponde al incremento del rango de aprendizaje de forma lineal y su decremento es proporcional al inverso del cuadrado del paso."
   ]
  },
  {
   "cell_type": "code",
   "execution_count": 13,
   "id": "aba10f0c",
   "metadata": {},
   "outputs": [],
   "source": [
    "class NoamOpt:\n",
    "    \"Optimizador Noam.\"\n",
    "    def __init__(self, model_size, factor, warmup, optimizer):\n",
    "        #optimizador\n",
    "        self.optimizer = optimizer\n",
    "        #Inicialización de paso\n",
    "        self._step = 0\n",
    "        #Hiperparámetro de warmup\n",
    "        self.warmup = warmup\n",
    "        #Hiperparámetro de factor\n",
    "        self.factor = factor\n",
    "        #Tamaño del modelo\n",
    "        self.model_size = model_size\n",
    "        #Rango\n",
    "        self._rate = 0\n",
    "        \n",
    "    def step(self):\n",
    "        \"Actualiza el paso y los parámetros\"\n",
    "        #Aumenta step\n",
    "        self._step += 1\n",
    "        #rango\n",
    "        rate = self.rate()\n",
    "        #Observa parámetros de Adam y guarda el rango de aprendizaje\n",
    "        for p in self.optimizer.param_groups:\n",
    "            p['lr'] = rate\n",
    "        self._rate = rate\n",
    "        #Actualiza el paso en Adam\n",
    "        self.optimizer.step()\n",
    "        \n",
    "    def rate(self, step = None):\n",
    "        \"Implementa el método de Noam\"\n",
    "        #Inicio\n",
    "        if step is None:\n",
    "            step = self._step\n",
    "        #Rango de aprendizaje según método Noam\n",
    "        return self.factor * \\\n",
    "            (self.model_size ** (-0.5) *\n",
    "            min(step ** (-0.5), step * self.warmup ** (-1.5)))"
   ]
  },
  {
   "cell_type": "markdown",
   "id": "2c194173",
   "metadata": {},
   "source": [
    "Finalmente, para la optiimización definimos las funciones que nos servirán para calcular la pérdida y correr cada una de las épocas en el entrenamiento."
   ]
  },
  {
   "cell_type": "code",
   "execution_count": 14,
   "id": "c7ce7892",
   "metadata": {},
   "outputs": [],
   "source": [
    "def run_epoch(data_iter, model, loss_compute):\n",
    "    \"Función estándar de entrenamiento\"\n",
    "    #Inicio\n",
    "    start = time.time()\n",
    "    #Núm tokens\n",
    "    total_tokens = 0\n",
    "    #Riesgo\n",
    "    total_loss = 0\n",
    "    #Tokens\n",
    "    tokens = 0\n",
    "    for i, batch in enumerate(data_iter):\n",
    "        #Calcula la salida de Transformer\n",
    "        out = model.forward(batch.src, batch.trg, \n",
    "                            batch.src_mask, batch.trg_mask)\n",
    "        #Computa el riesgo\n",
    "        loss = loss_compute(out, batch.trg_y, batch.ntokens)\n",
    "        #Acumula el riesgo\n",
    "        total_loss += loss\n",
    "        #Cuenta los tokens del batch\n",
    "        total_tokens += batch.ntokens\n",
    "        tokens += batch.ntokens\n",
    "    return total_loss / total_tokens\n",
    "\n",
    "class SimpleLossCompute:\n",
    "    \"Computo del riesgo y funció de entrenamiento.\"\n",
    "    def __init__(self, generator, criterion, opt=None):\n",
    "        #Generador\n",
    "        self.generator = generator\n",
    "        #Funcíon de riesgo / criterio\n",
    "        self.criterion = criterion\n",
    "        #Optimizador\n",
    "        self.opt = opt\n",
    "        \n",
    "    def __call__(self, x, y, norm):\n",
    "        #Calcula x con el generador del modelo\n",
    "        x = self.generator(x)\n",
    "        #Calcula el riesgo\n",
    "        loss = self.criterion(x.contiguous().view(-1, x.size(-1)), \n",
    "                              y.contiguous().view(-1)) / norm\n",
    "        #Retropropaga\n",
    "        loss.backward()\n",
    "        if self.opt is not None:\n",
    "            self.opt.step()\n",
    "            self.opt.optimizer.zero_grad()\n",
    "        return loss.data.item() * norm"
   ]
  },
  {
   "cell_type": "markdown",
   "id": "94d4288f",
   "metadata": {},
   "source": [
    "# Aplicación del modelo\n",
    "\n",
    "Para crear el modelo de Transformer a partir de los diferentes modulos que hemos definido, daremos una función que creará la arquitectura a partir de los hiperparámetros que le indiquemos:"
   ]
  },
  {
   "cell_type": "code",
   "execution_count": 15,
   "id": "65625178",
   "metadata": {},
   "outputs": [],
   "source": [
    "def make_model(src_vocab, tgt_vocab, N=1,d_model=128, d_ff=256, h=1, dropout=0.1):\n",
    "    \"Construye un modelo a partir de los hiperparámetros.\"\n",
    "    #Función para hacer copias de capas\n",
    "    c = copy.deepcopy\n",
    "    #Atención multi-cabezal\n",
    "    attn = MultiHeadedAttention(h, d_model)\n",
    "    #Capa FeedForward\n",
    "    ff = PositionwiseFeedForward(d_model, d_ff, dropout)\n",
    "    #Codificación posicional\n",
    "    position = PositionalEncoding(d_model, dropout)\n",
    "    \n",
    "    #Encoder\n",
    "    encoder = Encoder(EncoderLayer(d_model, c(attn), c(ff), dropout), N)\n",
    "    #Decoder\n",
    "    decoder = Decoder(DecoderLayer(d_model, c(attn), c(attn), c(ff), dropout), N)\n",
    "    #Embeddings de entrada\n",
    "    src_embed = nn.Sequential(Embeddings(d_model, src_vocab), c(position))\n",
    "    #Embeddings de salida\n",
    "    tgt_embed = nn.Sequential(Embeddings(d_model, tgt_vocab), c(position))\n",
    "    #Salida de todo el Transformer\n",
    "    generator = Generator(d_model, tgt_vocab)\n",
    "    #Creación del modelo\n",
    "    model = EncoderDecoder(encoder,decoder,src_embed,tgt_embed,generator)\n",
    "     \n",
    "    # Initialize parameters with Glorot / fan_avg.\n",
    "    for p in model.parameters():\n",
    "        if p.dim() > 1:\n",
    "            nn.init.xavier_uniform_(p)\n",
    "    return model"
   ]
  },
  {
   "cell_type": "markdown",
   "id": "8bf4d6fc",
   "metadata": {},
   "source": [
    "Para entrenar por batches, definimos una función que tomará los datos de entrada y salida y regresará los batches de tamaño especificado."
   ]
  },
  {
   "cell_type": "code",
   "execution_count": 16,
   "id": "dffef6e8",
   "metadata": {},
   "outputs": [],
   "source": [
    "def batch_gen(X,Y,batch):\n",
    "    \"Genera batch para input-output.\"\n",
    "    num_ex = X.shape[0]\n",
    "    nbatches = ceil(num_ex/batch)\n",
    "    for i in range(nbatches):\n",
    "        src = Variable(X[i:i+batch], requires_grad=False)\n",
    "        tgt = Variable(Y[i:i+batch], requires_grad=False)\n",
    "        yield Batch(src, tgt, 0)"
   ]
  },
  {
   "cell_type": "markdown",
   "id": "3112afe2",
   "metadata": {},
   "source": [
    "#### Preparación de los datos\n",
    "\n",
    "Definiremos una tarea sencilla de etiquetado POS, es decir, la entrada será una cadena en español y la salida las etiquetas POS de cada palabra. Definimos antes las funciones para el vocabulario y la indexación de las palabras, así como agregar el padding y símbolos de inicio y final."
   ]
  },
  {
   "cell_type": "code",
   "execution_count": 17,
   "id": "cad768d3",
   "metadata": {},
   "outputs": [],
   "source": [
    "#Funcion que crea un vocabulario de palabras con un indice numerico\n",
    "def vocab():\n",
    "    vocab = defaultdict()\n",
    "    vocab.default_factory = lambda: len(vocab)\n",
    "    return vocab    \n",
    "\n",
    "#Funcion que pasa la cadena de simbolos a una secuencia con indices numericos\n",
    "def text2numba(corpus, vocab):\n",
    "    for doc in corpus:\n",
    "        yield [vocab[w] for w in doc.strip().split()]\n",
    "        \n",
    "        \n",
    "#Índices de símbolos especiales\n",
    "PAD_IDX = 0\n",
    "BOS_IDX = 1\n",
    "EOS_IDX = 2\n",
    "\n",
    "#Función para hacer padding\n",
    "def insert_pad(lista, PAD_IDX=PAD_IDX):    \n",
    "    l = max([len(cad) for cad in lista])\n",
    "    pad_lista = []\n",
    "    for cad in lista:\n",
    "        pad_cad = cad + [PAD_IDX for i in range(l-len(cad))]\n",
    "        pad_lista.append(pad_cad)\n",
    "    return pad_lista\n",
    "\n",
    "#Funcuón para insertar símbolos a las cadenas\n",
    "def process_seqs(seqs,BOS_IDX=BOS_IDX,EOS_IDX=EOS_IDX):\n",
    "    return insert_pad([[BOS_IDX] + cad + [EOS_IDX] for cad in seqs])"
   ]
  },
  {
   "cell_type": "markdown",
   "id": "bd25944f",
   "metadata": {},
   "source": [
    "Preparamos los datos insertando símbolos de inicio y fin e indexando las palabras."
   ]
  },
  {
   "cell_type": "code",
   "execution_count": 18,
   "id": "2b99dde7",
   "metadata": {},
   "outputs": [
    {
     "name": "stdout",
     "output_type": "stream",
     "text": [
      "tensor([1, 6, 8, 9, 2, 0, 0]) tensor([1, 6, 4, 5, 2, 0, 0])\n"
     ]
    }
   ],
   "source": [
    "src = ['el perro come un hueso', 'un muchacho jugaba', 'el muchacho saltaba la cuerda',\n",
    "        'un gato come croquetas']\n",
    "tgt = ['DA NC V DD NC', 'DD NC V', 'DA NC V DA NC', 'DD NC V NC']\n",
    "\n",
    "#Crear vobulario y cadenas\n",
    "#Lenguaje fuente\n",
    "src_voc = vocab()\n",
    "src_voc['<PAD>'] = PAD_IDX\n",
    "src_voc['<BOS>'] = BOS_IDX\n",
    "src_voc['<EOS>'] = EOS_IDX\n",
    "src_cads = process_seqs(list(text2numba(src,src_voc)))\n",
    "\n",
    "#Crear vocabulario y cadenas\n",
    "#Lenguaje objetivo\n",
    "tgt_voc = vocab()\n",
    "tgt_voc['<PAD>'] = PAD_IDX\n",
    "tgt_voc['<BOS>'] = BOS_IDX\n",
    "tgt_voc['<EOS>'] = EOS_IDX\n",
    "tgt_cads = process_seqs(list(text2numba(tgt,tgt_voc)))\n",
    "#Longitudes de los vocabulario\n",
    "len_src, len_tgt = len(src_voc), len(tgt_voc)\n",
    "\n",
    "X, Y = torch.tensor(src_cads), torch.tensor(tgt_cads)\n",
    "\n",
    "print(X[1],Y[1])"
   ]
  },
  {
   "cell_type": "markdown",
   "id": "84e0ba89",
   "metadata": {},
   "source": [
    "#### Generación del modelo\n",
    "\n",
    "Para crear el modelo debemos indicar los hiperparámetros que determinarán el número de pesos a optimizar. Estos hiperparámetros son:\n",
    "\n",
    "* $N$: Número de copias del encoder y el decoder.\n",
    "* d_model: dimensión del modelo.\n",
    "* d_ff: Tamaño de la capa en la FeedForward.\n",
    "* $h$: número de cabezales en la atención."
   ]
  },
  {
   "cell_type": "code",
   "execution_count": 19,
   "id": "9f478a38",
   "metadata": {},
   "outputs": [
    {
     "name": "stdout",
     "output_type": "stream",
     "text": [
      "EncoderDecoder(\n",
      "  (encoder): Encoder(\n",
      "    (layers): ModuleList(\n",
      "      (0): EncoderLayer(\n",
      "        (self_attn): MultiHeadedAttention(\n",
      "          (linears): ModuleList(\n",
      "            (0): Linear(in_features=100, out_features=100, bias=True)\n",
      "            (1): Linear(in_features=100, out_features=100, bias=True)\n",
      "            (2): Linear(in_features=100, out_features=100, bias=True)\n",
      "            (3): Linear(in_features=100, out_features=100, bias=True)\n",
      "          )\n",
      "          (dropout): Dropout(p=0.1, inplace=False)\n",
      "        )\n",
      "        (feed_forward): PositionwiseFeedForward(\n",
      "          (w_1): Linear(in_features=100, out_features=20, bias=True)\n",
      "          (w_2): Linear(in_features=20, out_features=100, bias=True)\n",
      "          (dropout): Dropout(p=0.1, inplace=False)\n",
      "        )\n",
      "        (sublayer): ModuleList(\n",
      "          (0): SublayerConnection(\n",
      "            (norm): LayerNorm()\n",
      "            (dropout): Dropout(p=0.1, inplace=False)\n",
      "          )\n",
      "          (1): SublayerConnection(\n",
      "            (norm): LayerNorm()\n",
      "            (dropout): Dropout(p=0.1, inplace=False)\n",
      "          )\n",
      "        )\n",
      "      )\n",
      "    )\n",
      "    (norm): LayerNorm()\n",
      "  )\n",
      "  (decoder): Decoder(\n",
      "    (layers): ModuleList(\n",
      "      (0): DecoderLayer(\n",
      "        (self_attn): MultiHeadedAttention(\n",
      "          (linears): ModuleList(\n",
      "            (0): Linear(in_features=100, out_features=100, bias=True)\n",
      "            (1): Linear(in_features=100, out_features=100, bias=True)\n",
      "            (2): Linear(in_features=100, out_features=100, bias=True)\n",
      "            (3): Linear(in_features=100, out_features=100, bias=True)\n",
      "          )\n",
      "          (dropout): Dropout(p=0.1, inplace=False)\n",
      "        )\n",
      "        (src_attn): MultiHeadedAttention(\n",
      "          (linears): ModuleList(\n",
      "            (0): Linear(in_features=100, out_features=100, bias=True)\n",
      "            (1): Linear(in_features=100, out_features=100, bias=True)\n",
      "            (2): Linear(in_features=100, out_features=100, bias=True)\n",
      "            (3): Linear(in_features=100, out_features=100, bias=True)\n",
      "          )\n",
      "          (dropout): Dropout(p=0.1, inplace=False)\n",
      "        )\n",
      "        (feed_forward): PositionwiseFeedForward(\n",
      "          (w_1): Linear(in_features=100, out_features=20, bias=True)\n",
      "          (w_2): Linear(in_features=20, out_features=100, bias=True)\n",
      "          (dropout): Dropout(p=0.1, inplace=False)\n",
      "        )\n",
      "        (sublayer): ModuleList(\n",
      "          (0): SublayerConnection(\n",
      "            (norm): LayerNorm()\n",
      "            (dropout): Dropout(p=0.1, inplace=False)\n",
      "          )\n",
      "          (1): SublayerConnection(\n",
      "            (norm): LayerNorm()\n",
      "            (dropout): Dropout(p=0.1, inplace=False)\n",
      "          )\n",
      "          (2): SublayerConnection(\n",
      "            (norm): LayerNorm()\n",
      "            (dropout): Dropout(p=0.1, inplace=False)\n",
      "          )\n",
      "        )\n",
      "      )\n",
      "    )\n",
      "    (norm): LayerNorm()\n",
      "  )\n",
      "  (src_embed): Sequential(\n",
      "    (0): Embeddings(\n",
      "      (lut): Embedding(15, 100)\n",
      "    )\n",
      "    (1): PositionalEncoding(\n",
      "      (dropout): Dropout(p=0.1, inplace=False)\n",
      "    )\n",
      "  )\n",
      "  (tgt_embed): Sequential(\n",
      "    (0): Embeddings(\n",
      "      (lut): Embedding(7, 100)\n",
      "    )\n",
      "    (1): PositionalEncoding(\n",
      "      (dropout): Dropout(p=0.1, inplace=False)\n",
      "    )\n",
      "  )\n",
      "  (generator): Generator(\n",
      "    (proj): Linear(in_features=100, out_features=7, bias=True)\n",
      "  )\n",
      ")\n"
     ]
    }
   ],
   "source": [
    "#Creamos el modelo con hiperparámetros\n",
    "model = make_model(len_src, len_tgt, N=1, d_model=100, d_ff=20, h=1)\n",
    "print(model)"
   ]
  },
  {
   "cell_type": "markdown",
   "id": "c10f3968",
   "metadata": {},
   "source": [
    "#### Entrenamiento\n",
    "\n",
    "Para entrenar, usaremos la función de riesgo de entropía cruzada y el optimizador Noam. Aplicamos la función de correr época y utilizamos el computo de riesgo que hemos definido más arriba."
   ]
  },
  {
   "cell_type": "code",
   "execution_count": 20,
   "id": "312c77ed",
   "metadata": {},
   "outputs": [
    {
     "name": "stderr",
     "output_type": "stream",
     "text": [
      "100%|██████████| 300/300 [00:10<00:00, 27.74it/s]\n"
     ]
    }
   ],
   "source": [
    "#Riesgo entropía cruzada\n",
    "criterion = nn.CrossEntropyLoss()\n",
    "#Optimizador Noam\n",
    "model_opt = NoamOpt(model.src_embed[0].d_model, 1, 4000, torch.optim.Adam(model.parameters(), lr=0, betas=(0.9, 0.98), eps=1e-9))\n",
    "\n",
    "for epoch in tqdm(range(300)):\n",
    "        model.train()\n",
    "        #Correr las épocas necesarias\n",
    "        run_epoch(batch_gen(X, Y, 1), model, SimpleLossCompute(model.generator, criterion, opt=model_opt))"
   ]
  },
  {
   "cell_type": "markdown",
   "id": "0087a439",
   "metadata": {},
   "source": [
    "### Evaluación\n",
    "\n",
    "Para la evaluación definiremos una función que aplica el modelo de Transformer a una entrada, generando una cadena con los elementos más probables. También definimos las funciones que transforman la entrada en tensores de Torch, y la salida en etiquetas."
   ]
  },
  {
   "cell_type": "code",
   "execution_count": 21,
   "id": "a290d022",
   "metadata": {},
   "outputs": [],
   "source": [
    "model.eval()\n",
    "\n",
    "def greedy_decode(model, src, src_mask, max_len, start_symbol):\n",
    "    \"Aplica el Tranformer a los datos\"\n",
    "    #Encoder\n",
    "    memory = model.encode(src, src_mask)\n",
    "    #Inicializa con el símbolo de inicio\n",
    "    ys = torch.ones(1, 1).fill_(start_symbol).type_as(src.data)\n",
    "    for i in range(max_len-1):\n",
    "        #Decoder\n",
    "        out = model.decode(memory, src_mask, \n",
    "                           Variable(ys), \n",
    "                           Variable(subsequent_mask(ys.size(1))\n",
    "                                    .type_as(src.data)))\n",
    "        #Salida del transformer (probabilidades)\n",
    "        prob = model.generator(out[:, -1])\n",
    "        #Regresa el elemento con mayor prob\n",
    "        _, next_word = torch.max(prob, dim = 1)\n",
    "        #Adjunta este elemento a la cadenas de salida\n",
    "        next_word = next_word.data[0]\n",
    "        #Acumula cadena de salida\n",
    "        ys = torch.cat([ys, torch.ones(1, 1).type_as(src.data).fill_(next_word)], dim=1)\n",
    "    return ys\n",
    "\n",
    "def get_x_input(sents):\n",
    "    \"Transforma la entrada en formato del modelo\"\n",
    "    x_sents = []\n",
    "    for sent in sents:\n",
    "        x_sent = []\n",
    "        for w in sent.split():\n",
    "            idx_w = src_voc[w]\n",
    "            x_sent.append(idx_w)\n",
    "        x_sents.append([BOS_IDX] + x_sent + [EOS_IDX])\n",
    "        \n",
    "    return Variable(torch.LongTensor(x_sents))\n",
    "\n",
    "tgt_voc_rev = {k:v for v,k in tgt_voc.items()}\n",
    "def get_output(y):\n",
    "    \"Transforma la salida en símbolos originales\"\n",
    "    sent = y.detach().tolist()[0]\n",
    "    return ' '.join([tgt_voc_rev[word] for word in sent if word != 0])"
   ]
  },
  {
   "cell_type": "markdown",
   "id": "98ec93f5",
   "metadata": {},
   "source": [
    "Finalmente, podemos cuál es la salida para el caso de ejemplos particulares y visualizar los pesos de atención que se determinaron en cada una de las salidas."
   ]
  },
  {
   "cell_type": "code",
   "execution_count": 22,
   "id": "31f3075a",
   "metadata": {},
   "outputs": [
    {
     "name": "stdout",
     "output_type": "stream",
     "text": [
      "el perro come la cuerda --> <BOS> DA NC V DD NC <EOS>\n"
     ]
    },
    {
     "data": {
      "image/png": "[encoded data removed]",
      "text/plain": [
       "<Figure size 432x288 with 2 Axes>"
      ]
     },
     "metadata": {
      "needs_background": "light"
     },
     "output_type": "display_data"
    },
    {
     "name": "stdout",
     "output_type": "stream",
     "text": [
      "el gato jugaba --> <BOS> DD NC V NC\n"
     ]
    },
    {
     "data": {
      "image/png": "[encoded data removed]",
      "text/plain": [
       "<Figure size 432x288 with 2 Axes>"
      ]
     },
     "metadata": {
      "needs_background": "light"
     },
     "output_type": "display_data"
    }
   ],
   "source": [
    "sents = ['el perro come la cuerda', 'el gato jugaba']\n",
    "\n",
    "for sent in sents:\n",
    "    x_input = get_x_input([sent])\n",
    "    output = greedy_decode(model, x_input, Variable(torch.ones(1, 1, x_input.shape[1])), \n",
    "                            max_len=x_input.shape[1], start_symbol=1)\n",
    "    print('{} --> {}'.format(sent, get_output(output)))\n",
    "    \n",
    "    #Pesos de atención\n",
    "    att = model.decoder.layers[0].self_attn.attn[0].data[:output.shape[1], :x_input.shape[1]][0]\n",
    "    heatmap(att, xticklabels=sent.split()+['<EOS>'], yticklabels=get_output(output).split()[1:])\n",
    "    plt.show()"
   ]
  },
  {
   "cell_type": "markdown",
   "id": "a8a20979",
   "metadata": {},
   "source": [
    "#### Visualización de embeddings\n",
    "\n",
    "El modelo de Transformer genera embeddings (estáticos) para el vocabulario de entrada y de salida."
   ]
  },
  {
   "cell_type": "code",
   "execution_count": 23,
   "id": "40242372",
   "metadata": {},
   "outputs": [
    {
     "data": {
      "image/png": "[encoded data removed]",
      "text/plain": [
       "<Figure size 432x288 with 1 Axes>"
      ]
     },
     "metadata": {
      "needs_background": "light"
     },
     "output_type": "display_data"
    },
    {
     "data": {
      "image/png": "[encoded data removed]",
      "text/plain": [
       "<Figure size 432x288 with 1 Axes>"
      ]
     },
     "metadata": {
      "needs_background": "light"
     },
     "output_type": "display_data"
    }
   ],
   "source": [
    "from sklearn.decomposition import PCA\n",
    "import matplotlib.pyplot as plt\n",
    "#Función para plotear\n",
    "def plot_words(Z,ids,color='blue'):\n",
    "    #Reduce a dos dimensiones con PCA\n",
    "    Z = PCA(n_components=2).fit_transform(Z)\n",
    "    r=0\n",
    "    #Plotea las dimensiones\n",
    "    plt.scatter(Z[:,0],Z[:,1], marker='o', c=color)\n",
    "    for label,x,y in zip(ids, Z[:,0], Z[:,1]):\n",
    "        #Agrega las etiquetas\n",
    "        plt.annotate(label, xy=(x,y), xytext=(-1,1), textcoords='offset points', ha='center', va='bottom')\n",
    "        r+=1\n",
    "        \n",
    "src_embs = np.array(model.src_embed[0].lut.weight.detach())\n",
    "tgt_embs = np.array(model.tgt_embed[0].lut.weight.detach())\n",
    "\n",
    "plot_words(src_embs,src_voc.keys())\n",
    "plt.title('Embeddings en encoder')\n",
    "plt.show()\n",
    "\n",
    "plot_words(tgt_embs,tgt_voc.keys())\n",
    "plt.title('Embeddings en decoder')\n",
    "plt.show()"
   ]
  },
  {
   "cell_type": "markdown",
   "id": "3885cfb4",
   "metadata": {},
   "source": [
    "                "
   ]
  }
 ],
 "metadata": {
  "kernelspec": {
   "display_name": "Python 3",
   "language": "python",
   "name": "python3"
  },
  "language_info": {
   "codemirror_mode": {
    "name": "ipython",
    "version": 3
   },
   "file_extension": ".py",
   "mimetype": "text/x-python",
   "name": "python",
   "nbconvert_exporter": "python",
   "pygments_lexer": "ipython3",
   "version": "3.8.8"
  }
 },
 "nbformat": 4,
 "nbformat_minor": 5
}
