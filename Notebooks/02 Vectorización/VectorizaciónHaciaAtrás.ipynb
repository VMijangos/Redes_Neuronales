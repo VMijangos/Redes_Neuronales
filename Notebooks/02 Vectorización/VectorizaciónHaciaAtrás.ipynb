{
 "cells": [
  {
   "cell_type": "markdown",
   "id": "3c515d7f-b298-43ba-93ab-d9564559edf6",
   "metadata": {},
   "source": [
    "# Vectorización hacia atrás\n",
    "\n",
    "Pensemos en una red neuronal de alimentación hacia adelante (_feedforward_) de cualquier número de capas.\n",
    "\n",
    "<center>\n",
    "<img src=\"./figuras/Red4Capas.png/\">\n",
    "</center>\n",
    "\n",
    "Sean:\n",
    "* $A$ la matriz de valores de activación, un ejemplar por cada renglón.\n",
    "* $W$ la matriz de pesos que conectan dos capas sucesivas.\n",
    "* $B$ el vector de sesgos (o los pesos conectados a $a_0$).\n",
    "\n",
    "Para calcular el gradiente, es necesario calcular primero la propagación hacia adelante.\n",
    "\n",
    "## Alimentación hacia adelante\n",
    "La fórmula general vectorizada para calcular el valor de la capa siguiente se puede expresar como:\n",
    "\\begin{align*}\n",
    "  A^{(l+1)} = g(A^{(l)} W^{(l)} + B^{(l)})\n",
    "\\end{align*}\n"
   ]
  },
  {
   "cell_type": "markdown",
   "id": "bd90f777-1a6b-4a4b-98af-c5505ff0bc70",
   "metadata": {},
   "source": [
    "## Ejemplo\n",
    "Sea la función booleana XAND:\n",
    "\n",
    "| $x_1$ | $x_2$ | $XAND$ |\n",
    "|-------|-------|--------|\n",
    "|   0   |   0   |    1   |\n",
    "|   0   |   1   |    0   |\n",
    "|   1   |   0   |    0   |\n",
    "|   1   |   1   |    1   |\n",
    "\n",
    "Dada la red XAND:\n",
    "<center>\n",
    "<img src=\"./figuras/xand.png/\">\n",
    "</center>"
   ]
  },
  {
   "cell_type": "markdown",
   "id": "ee5782b9-829b-4763-8cdd-1d293d01ca18",
   "metadata": {},
   "source": [
    "### Función de activación logística"
   ]
  },
  {
   "cell_type": "code",
   "execution_count": 2,
   "id": "45ef3330-9458-47f7-9f29-dc8516ae7890",
   "metadata": {},
   "outputs": [],
   "source": [
    "import numpy as np"
   ]
  },
  {
   "cell_type": "code",
   "execution_count": 3,
   "id": "e59a6c3f-d4a0-485d-b7af-eafe71a810da",
   "metadata": {},
   "outputs": [],
   "source": [
    "def sigma(z):\n",
    "    return 1 / (1 + np.exp(-z))"
   ]
  },
  {
   "cell_type": "markdown",
   "id": "19420773-bbde-43d4-9224-6d685b6dbde3",
   "metadata": {},
   "source": [
    "### Propagación hacia adelante"
   ]
  },
  {
   "cell_type": "code",
   "execution_count": 4,
   "id": "ad62274c-5547-4cd8-8080-f0450a91107e",
   "metadata": {},
   "outputs": [],
   "source": [
    "# Propagación hacia adelante\n",
    "\n",
    "## Matrices\n",
    "W0 = np.array([[-5.12, 3.38],\n",
    "               [-5.1, 3.37]])\n",
    "B0 = np.array([[1.72, -5.25]])\n",
    "\n",
    "W1 = np.array([[6.6],\n",
    "               [6.5]])\n",
    "B1 = np.array([[-3.2]])\n",
    "## Activaciones\n",
    "A0 = X = np.array([[0, 0],\n",
    "                   [0, 1],\n",
    "                   [1, 0],\n",
    "                   [1, 1]])\n",
    "A1 = sigma(np.dot(A0, W0) + B0)\n",
    "A2 = sigma(np.dot(A1, W1) + B1)"
   ]
  },
  {
   "cell_type": "code",
   "execution_count": 10,
   "id": "4ee7dceb-6a68-4b8a-90d5-f4f0a827e183",
   "metadata": {},
   "outputs": [
    {
     "name": "stdout",
     "output_type": "stream",
     "text": [
      "[[8.48128836e-01 5.22012569e-03]\n",
      " [3.29263948e-02 1.32388874e-01]\n",
      " [3.22954647e-02 1.33541723e-01]\n",
      " [2.03426978e-04 8.17574476e-01]]\n"
     ]
    }
   ],
   "source": [
    "print(A1)"
   ]
  },
  {
   "cell_type": "code",
   "execution_count": 11,
   "id": "551faa40-5b9a-4cf8-9dd1-63ebbc7e6561",
   "metadata": {},
   "outputs": [
    {
     "name": "stdout",
     "output_type": "stream",
     "text": [
      "[[0.91920404]\n",
      " [0.10696175]\n",
      " [0.10728019]\n",
      " [0.89240796]]\n"
     ]
    }
   ],
   "source": [
    "print(A2)"
   ]
  },
  {
   "cell_type": "markdown",
   "id": "a6e5b20d-c03a-489d-aafe-b804d24a72ae",
   "metadata": {},
   "source": [
    "### Gradiente hacia atrás\n",
    "\n",
    "Es verdad, para esta red, usando redondeo, ya tenemos la respuesta perfecta, pero la función de error aún nos reporta un valor y podemos calcular su gradiente con respecto a los pesos de la red."
   ]
  },
  {
   "cell_type": "markdown",
   "id": "ef750f94-a43f-4510-9d20-80fdaf0ad566",
   "metadata": {
    "tags": []
   },
   "source": [
    "## Cálculo del gradiente del error hacia atrás\n",
    "\n",
    "### Función de error:\n",
    "\n",
    "\\begin{align}\n",
    "  J(\\Theta) = - \\frac{1}{m} \\left[ \\sum_{i=1}^m \\sum_{k=1}^{s_L}   y_k^{(i)} \\log(a^{(L)}_k)  +\n",
    "             (1 - y_k^{(i)}) \\log(1 - A^{(L)}_k)   \\right]    \n",
    "\\end{align}"
   ]
  },
  {
   "cell_type": "markdown",
   "id": "472bf45a-471a-4117-9f5d-439cfb50f730",
   "metadata": {},
   "source": [
    "vectorizando:\n",
    "\\begin{align}\n",
    "  J(\\Theta) = - \\frac{1}{m} \\left[ \\sum_{k=1}^{s_L} Y^T \\log(A^{(L)})  + (1 - Y)^T \\log(1 - A^{(L)})   \\right]    \n",
    "\\end{align}"
   ]
  },
  {
   "cell_type": "code",
   "execution_count": 63,
   "id": "8b3feba8-c06f-4502-ba56-7f7bfe160203",
   "metadata": {},
   "outputs": [],
   "source": [
    "# Valores deseados\n",
    "Y = np.array([[1],\n",
    "              [0],\n",
    "              [0],\n",
    "              [1]])\n",
    "m = X.shape[0]\n",
    "\n",
    "# Error\n",
    "e = - np.sum(np.dot(Y.T, np.log(A2)) + np.dot((1 - Y).T, np.log(1 - A2))) / m"
   ]
  },
  {
   "cell_type": "code",
   "execution_count": 64,
   "id": "52552d5b-f9c7-45c8-af4f-3d19e22d4c01",
   "metadata": {},
   "outputs": [
    {
     "name": "stdout",
     "output_type": "stream",
     "text": [
      "Error =  0.10617250539997253\n"
     ]
    }
   ],
   "source": [
    "print(\"Error = \", e)"
   ]
  },
  {
   "cell_type": "markdown",
   "id": "7f2971e6-c3da-43ef-bc3d-606bf83f7a32",
   "metadata": {},
   "source": [
    "### Gradiente"
   ]
  },
  {
   "cell_type": "markdown",
   "id": "369a5ec1-db79-48d0-b7cc-ed82f81451f7",
   "metadata": {},
   "source": [
    "Para calcular el gradiente con respecto a los pesos es necesario ir hacia atrás:\n",
    "\n",
    "* Error cometido por la última capa $L$\n",
    " \\begin{align}\n",
    "  \\Delta^{(L)} &= Y - A^{(L)}\n",
    " \\end{align}"
   ]
  },
  {
   "cell_type": "code",
   "execution_count": 37,
   "id": "ec4637af-8be2-4782-8074-1bd4a4786753",
   "metadata": {},
   "outputs": [],
   "source": [
    "Delta_2 = Y - A2"
   ]
  },
  {
   "cell_type": "code",
   "execution_count": 38,
   "id": "e3dc64f1-9316-427f-96b3-1e16eb74a700",
   "metadata": {},
   "outputs": [
    {
     "name": "stdout",
     "output_type": "stream",
     "text": [
      "[[ 0.08079596]\n",
      " [-0.10696175]\n",
      " [-0.10728019]\n",
      " [ 0.10759204]]\n"
     ]
    }
   ],
   "source": [
    "print(Delta_2)"
   ]
  },
  {
   "cell_type": "markdown",
   "id": "a86d6e40-5174-45cb-b69c-d08e8ae7db8f",
   "metadata": {},
   "source": [
    "* Error cometido por cualquier capa $l-1$\n",
    " \\begin{align}\n",
    "  \\Delta^{(l-1)} &= \\Delta^{(l)}\\left(W^{(l-1)}\\right)^T \\circ g'(Z^{(l-1)})\n",
    " \\end{align}\n",
    " \n",
    "Observa que el sesgo no aparece explícitamente porque no hay un error en su valor de activación, sin embargo su efecto está presente en el valor de $Z^{(l-1)}$."
   ]
  },
  {
   "cell_type": "markdown",
   "id": "06ee8ad7-b06e-4035-bf62-217c08038da4",
   "metadata": {},
   "source": [
    "Para la función sigmoide:\n",
    " \\begin{align}\n",
    "  g'(Z^{(l-1)}) &= A^{(l-1)} \\circ (1-A^{(l-1)})\n",
    " \\end{align}  "
   ]
  },
  {
   "cell_type": "code",
   "execution_count": 65,
   "id": "9329a548-93ee-4f1f-9482-731b882e7ac4",
   "metadata": {},
   "outputs": [],
   "source": [
    "gp_1 = A1 * (1 - A1)\n",
    "Delta_1 = np.dot(Delta_2, W1.T) * gp_1"
   ]
  },
  {
   "cell_type": "code",
   "execution_count": 66,
   "id": "ec4ff545-1873-4fd9-9a71-fd77493f23c1",
   "metadata": {},
   "outputs": [
    {
     "name": "stdout",
     "output_type": "stream",
     "text": [
      "[[ 0.0686864   0.00272716]\n",
      " [-0.02247896 -0.07985801]\n",
      " [-0.02212829 -0.08068588]\n",
      " [ 0.00014443  0.10430531]]\n"
     ]
    }
   ],
   "source": [
    "# Error de cada neurona en la capa 1 para cada ejemplar\n",
    "print(Delta_1)"
   ]
  },
  {
   "cell_type": "markdown",
   "id": "4a471188-983d-41b9-b998-724edcad482d",
   "metadata": {},
   "source": [
    "* Componentes del gradiente con respecto a los pesos en $W^{l-1}$\n",
    " \\begin{align}\n",
    "  \\nabla^{(l-1)} &= -\\frac{1}{m}\\left(A^{(l-1)}\\right)^T \\Delta^{(l)}\n",
    " \\end{align}"
   ]
  },
  {
   "cell_type": "markdown",
   "id": "2fd5d187-faa3-49c4-9876-535acfae3401",
   "metadata": {},
   "source": [
    "#### Parámetros W1 y B1"
   ]
  },
  {
   "cell_type": "code",
   "execution_count": 39,
   "id": "e93043d6-a2e1-4ad5-83a1-7aef521f50ea",
   "metadata": {},
   "outputs": [],
   "source": [
    "# Gradiente para los pesos que conectan las capas 1 y 2\n",
    "\n",
    "G_W1 = - np.dot(A1.T, Delta_2) / m"
   ]
  },
  {
   "cell_type": "code",
   "execution_count": 40,
   "id": "53e39d54-8544-4927-93b6-6177403429c0",
   "metadata": {},
   "outputs": [
    {
     "name": "stdout",
     "output_type": "stream",
     "text": [
      "[[-0.01539019]\n",
      " [-0.01497484]]\n"
     ]
    }
   ],
   "source": [
    "print(G_W1)"
   ]
  },
  {
   "cell_type": "code",
   "execution_count": 54,
   "id": "49f5e492-155b-436b-bde8-f290ff640ebe",
   "metadata": {},
   "outputs": [],
   "source": [
    "# Gradiente para el sesgo, pensemos en que A = 1\n",
    "# Esto produce una suma sobre las columnas\n",
    "\n",
    "G_B1 = - np.sum(Delta_2, axis=0, keepdims=True) / m"
   ]
  },
  {
   "cell_type": "code",
   "execution_count": 55,
   "id": "32ec42c2-dba8-4cad-ab92-36721362ef11",
   "metadata": {},
   "outputs": [
    {
     "name": "stdout",
     "output_type": "stream",
     "text": [
      "[[0.00646349]]\n"
     ]
    }
   ],
   "source": [
    "print(G_B1)"
   ]
  },
  {
   "cell_type": "markdown",
   "id": "60ffac30-bd15-4507-8173-ee2b10b465ae",
   "metadata": {},
   "source": [
    "#### Parámetros W0 y B0"
   ]
  },
  {
   "cell_type": "code",
   "execution_count": 43,
   "id": "57407dd8-ee1b-48c9-8de1-eb401270eaca",
   "metadata": {},
   "outputs": [],
   "source": [
    "# Gradiente para los pesos que conectan las capas 0 y 1\n",
    "\n",
    "G_W0 = - np.dot(A0.T, Delta_1) / m"
   ]
  },
  {
   "cell_type": "code",
   "execution_count": 44,
   "id": "fa809033-50f4-4ee6-be7b-2108ce4abf56",
   "metadata": {},
   "outputs": [
    {
     "name": "stdout",
     "output_type": "stream",
     "text": [
      "[[ 0.00549597 -0.00590486]\n",
      " [ 0.00558363 -0.00611183]]\n"
     ]
    }
   ],
   "source": [
    "print(G_W0)"
   ]
  },
  {
   "cell_type": "code",
   "execution_count": 56,
   "id": "0e977fc7-cc7a-43ab-8bc8-77fa49b419c1",
   "metadata": {},
   "outputs": [],
   "source": [
    "# Gradiente para el sesgo sobre la capa 1\n",
    "\n",
    "G_B0 = - np.sum(Delta_1, axis=0, keepdims=True) / m"
   ]
  },
  {
   "cell_type": "code",
   "execution_count": 57,
   "id": "99f67370-c702-4de0-a036-f6709dab6e8d",
   "metadata": {},
   "outputs": [
    {
     "name": "stdout",
     "output_type": "stream",
     "text": [
      "[[-0.00605589  0.01337785]]\n"
     ]
    }
   ],
   "source": [
    "print(G_B0)"
   ]
  },
  {
   "cell_type": "markdown",
   "id": "0ef20ef1-1ac8-4921-adf3-6c42c53d0f8b",
   "metadata": {},
   "source": [
    "### Verificación\n",
    "\n",
    "Para saber si implementamos correctamente el cálculo del gradiente realizaremos un cálculo alternativo mediante pequeñas perturbaciones a cada peso de la red.  Si los valores de ambos cálculos son semejantes, entonces podemos confiar en nuestra implementación."
   ]
  },
  {
   "cell_type": "code",
   "execution_count": 62,
   "id": "7833a38c-4e2f-41e3-9d8b-d855ab996d17",
   "metadata": {},
   "outputs": [
    {
     "name": "stdout",
     "output_type": "stream",
     "text": [
      "[[ 0.00549597 -0.00590486]\n",
      " [ 0.00558363 -0.00611183]]\n",
      "[[-0.00605589  0.01337785]]\n",
      "[[-0.01539019]\n",
      " [-0.01497484]]\n",
      "[[0.00646349]]\n"
     ]
    }
   ],
   "source": [
    "params = [np.copy(W0), np.copy(B0), np.copy(W1), np.copy(B1)]\n",
    "def forward():\n",
    "    global params\n",
    "    # Mismas entradas A0\n",
    "    A1 = sigma(np.dot(A0, params[0]) + params[1])\n",
    "    A2 = sigma(np.dot(A1, params[2]) + params[3])\n",
    "    return A2 \n",
    "g_params = [None, None, None, None]\n",
    "epsilon = 0.0001\n",
    "for ind in range(len(params)):\n",
    "    param = params[ind]\n",
    "    g_param = np.zeros(param.shape)\n",
    "    for i in range(param.shape[0]):\n",
    "        for j in range(param.shape[1]):\n",
    "            temp = param[i,j]\n",
    "\n",
    "            param[i,j] = temp - epsilon\n",
    "            A2 = forward()\n",
    "            e_min = - np.sum(np.dot(Y.T, np.log(A2)) + np.dot((1 - Y).T, np.log(1 - A2))) / m\n",
    "\n",
    "            param[i,j] = temp + epsilon\n",
    "            A2 = forward()\n",
    "            e_max = - np.sum(np.dot(Y.T, np.log(A2)) + np.dot((1 - Y).T, np.log(1 - A2))) / m\n",
    "\n",
    "            g_param[i,j] = (e_max - e_min) / (2 * epsilon)\n",
    "            param[i,j] = temp\n",
    "        g_params[ind] = g_param\n",
    "for g_p in g_params:\n",
    "    print(g_p)"
   ]
  },
  {
   "cell_type": "code",
   "execution_count": 58,
   "id": "69196675-bc83-4174-ad43-58e9c8e519e2",
   "metadata": {},
   "outputs": [
    {
     "name": "stdout",
     "output_type": "stream",
     "text": [
      "[[ 0.00549597 -0.00590486]\n",
      " [ 0.00558363 -0.00611183]]\n",
      "[[-0.00605589  0.01337785]]\n",
      "[[-0.01539019]\n",
      " [-0.01497484]]\n",
      "[[0.00646349]]\n"
     ]
    }
   ],
   "source": [
    "print(G_W0)\n",
    "print(G_B0)\n",
    "print(G_W1)\n",
    "print(G_B1)"
   ]
  }
 ],
 "metadata": {
  "kernelspec": {
   "display_name": "Python 3 (ipykernel)",
   "language": "python",
   "name": "python3"
  },
  "language_info": {
   "codemirror_mode": {
    "name": "ipython",
    "version": 3
   },
   "file_extension": ".py",
   "mimetype": "text/x-python",
   "name": "python",
   "nbconvert_exporter": "python",
   "pygments_lexer": "ipython3",
   "version": "3.10.6"
  }
 },
 "nbformat": 4,
 "nbformat_minor": 5
}
