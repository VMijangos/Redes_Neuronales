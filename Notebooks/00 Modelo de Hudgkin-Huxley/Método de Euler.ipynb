{
 "cells": [
  {
   "cell_type": "markdown",
   "id": "77b628a9-ddff-45ae-8f89-d917c51555d8",
   "metadata": {},
   "source": [
    "# Método de Euler\n",
    "\n",
    "El método de Euler aproxima a la función incógnita por su tangente.  Dada una ecuación diferencial de la forma:\n",
    "\n",
    "\\begin{align}\n",
    "  \\frac{dy(t)}{dt} = f(y(t),t)\n",
    "\\end{align}\n",
    "\n",
    "partimos de un punto inicial $(t_0, y_0)$ y a partir de él se calcula el valor de $y$ para el tiempo $t + \\Delta t$ iterativamente como:\n",
    "\n",
    "\\begin{align}\n",
    "  y(t + \\Delta t) &= y(t) + \\Delta t f(y(t))\n",
    "\\end{align}\n",
    "\n",
    "El error aproximado por realizar esta aproximación es:\n",
    "\\begin{align}\n",
    "  E =& \\frac{1}{2} \\frac{df(t)}{dt}(\\Delta t)^2\n",
    "\\end{align}"
   ]
  },
  {
   "cell_type": "markdown",
   "id": "e5101c90-a8d7-48e0-b435-c48f3e02394a",
   "metadata": {},
   "source": [
    "## Ejemplo\n",
    "\n",
    "Sea la ecuación\n",
    "\\begin{align}\n",
    "  \\frac{dy(t)}{dt} = -3.1 + 2.3 y sen(t)\n",
    "\\end{align}\n",
    "con $y(0.5) = 4.3$\n",
    "\n",
    "Se puede utilizar el método de Euler con $\\Delta t = 0.0001$ para aproximar a la función $y(t)$ como segmentos sucesivos de sus tangentes."
   ]
  },
  {
   "cell_type": "markdown",
   "id": "6adf1629-982d-40e2-802a-c790bb6505aa",
   "metadata": {},
   "source": [
    "Para estimar el error que cometemos en cada paso la fórmula entonces queda:\n",
    "\\begin{align}\n",
    "  E = \\frac{1}{2} \\left[ 2.3\\left(\\frac{dy}{dt}sen(t) + ycos(t)\\right) \\right] (\\Delta t)^2\n",
    "\\end{align}"
   ]
  },
  {
   "cell_type": "code",
   "execution_count": 1,
   "id": "34b7d8ad-5347-450d-8386-95e46b885fe6",
   "metadata": {},
   "outputs": [],
   "source": [
    "import numpy as np\n",
    "import matplotlib.pyplot as plt\n",
    "plt.style.use('bmh')"
   ]
  },
  {
   "cell_type": "code",
   "execution_count": 2,
   "id": "609ea118-3006-42ff-af6f-47d91690c957",
   "metadata": {},
   "outputs": [],
   "source": [
    "# Parámetros\n",
    "t_0 = 0.5\n",
    "y_0 = 4.3\n",
    "delta = 0.0001\n",
    "max_t = 30\n",
    "\n",
    "# Inicialización\n",
    "t = np.arange(t_0, max_t, delta)\n",
    "y = np.zeros(len(t))\n",
    "e = np.zeros(len(t))"
   ]
  },
  {
   "cell_type": "code",
   "execution_count": 3,
   "id": "0d258694-503f-4fb0-beb7-1faf63431ffe",
   "metadata": {},
   "outputs": [],
   "source": [
    "# print(t)"
   ]
  },
  {
   "cell_type": "code",
   "execution_count": 4,
   "id": "37e8879f-4e2c-40a8-8c5a-d07a28ac362c",
   "metadata": {},
   "outputs": [],
   "source": [
    "# Euler\n",
    "y[0] = y_0\n",
    "for i in range(len(t) - 1):\n",
    "    f = -3.1 + 2.3 * y[i] * np.sin(t[i])\n",
    "    y[i + 1] = y[i] + delta * f\n",
    "    e[i + 1] = 2.3 * (f * np.sin(t[i]) + y[i] * np.cos(t[i])) * (delta**2) / 2"
   ]
  },
  {
   "cell_type": "code",
   "execution_count": 5,
   "id": "281c1eeb-9e53-465e-b615-84d05da5cf61",
   "metadata": {},
   "outputs": [],
   "source": [
    "# print(y)"
   ]
  },
  {
   "cell_type": "code",
   "execution_count": 6,
   "id": "6a953cf8-3e29-4e22-9ea3-bc4a17ced725",
   "metadata": {},
   "outputs": [
    {
     "name": "stdout",
     "output_type": "stream",
     "text": [
      "E máx =  2.3083166880140053e-05\n",
      "E acum =  0.015964610682977783\n"
     ]
    }
   ],
   "source": [
    "# Máximo valor absoluto del error al aproximar en el intervalo\n",
    "e_max = np.max(np.abs(e))\n",
    "\n",
    "# Acumulado en el intervalo.  Ojo que, si la pendiente cambia de signo\n",
    "# los errores se pueden cancelar entre sí.\n",
    "e_acum =np.sum(e)\n",
    "\n",
    "print(\"E máx = \", e_max)\n",
    "print(\"E acum = \", e_acum)"
   ]
  },
  {
   "cell_type": "code",
   "execution_count": 7,
   "id": "512306d4-5f0c-4e74-bda1-e10950365539",
   "metadata": {},
   "outputs": [
    {
     "data": {
      "text/plain": [
       "Text(0, 0.5, 'y')"
      ]
     },
     "execution_count": 7,
     "metadata": {},
     "output_type": "execute_result"
    },
    {
     "data": {
      "image/png": "[encoded data removed]",
      "text/plain": [
       "<Figure size 432x288 with 1 Axes>"
      ]
     },
     "metadata": {
      "needs_background": "light"
     },
     "output_type": "display_data"
    }
   ],
   "source": [
    "plt.plot(t, y)\n",
    "plt.title(\"Aproximación mediante Euler\")\n",
    "plt.xlabel(\"t\")\n",
    "plt.ylabel(\"y\")"
   ]
  },
  {
   "cell_type": "code",
   "execution_count": 8,
   "id": "bb43d567-c1e1-4925-a8bd-e7cf716b718b",
   "metadata": {},
   "outputs": [],
   "source": [
    "# Versión interactiva\n",
    "from ipywidgets import interact_manual\n",
    "import ipywidgets as widgets"
   ]
  },
  {
   "cell_type": "code",
   "execution_count": 9,
   "id": "f72bbd80-fc6f-4631-b799-9d303215839e",
   "metadata": {},
   "outputs": [
    {
     "data": {
      "application/vnd.jupyter.widget-view+json": {
       "model_id": "2d0e862f83e54f64a5a815ee0c11e0e0",
       "version_major": 2,
       "version_minor": 0
      },
      "text/plain": [
       "interactive(children=(FloatSlider(value=0.5, description='t_0', max=10.0, min=-10.0, step=0.2), FloatSlider(va…"
      ]
     },
     "metadata": {},
     "output_type": "display_data"
    }
   ],
   "source": [
    "# Documentación:\n",
    "# https://ipywidgets.readthedocs.io/en/7.6.2/examples/Widget%20List.html\n",
    "\n",
    "@interact_manual(\n",
    "    t_0 = widgets.FloatSlider(value=0.5, min=-10, max=10, step=0.2),\n",
    "    y_0 = widgets.FloatSlider(value=4.3, min=-10.0, max=10.0),\n",
    "    delta = widgets.FloatLogSlider(value=0.05, base=10,\n",
    "                                 min=-5, # min exponent of base\n",
    "                                 max=2, # max exponent of base\n",
    "                                 step=0.2, # exponent step\n",
    "                                 description='Log slider for Delta'),\n",
    "    max_t = widgets.IntSlider(value=30, min=10, max=100),\n",
    ")\n",
    "def euler(t_0, y_0, delta, max_t):\n",
    "    # Inicialización\n",
    "    t = np.arange(t_0, max_t, delta)\n",
    "    y = np.zeros(len(t))\n",
    "    e = np.zeros(len(t))\n",
    "    \n",
    "    y[0] = y_0\n",
    "    for i in range(len(t) - 1):\n",
    "        f = -3.1 + 2.3 * y[i] * np.sin(t[i])\n",
    "        y[i + 1] = y[i] + delta * f\n",
    "        e[i + 1] = 2.3 * (f * np.sin(t[i]) + y[i] * np.cos(t[i])) * (delta**2) / 2\n",
    "        \n",
    "    # Máximo error al aproximar en el intervalo\n",
    "    e_max = np.max(np.abs(e))\n",
    "\n",
    "    # Acumulado en el intervalo\n",
    "    e_acum =np.sum(e)\n",
    "\n",
    "    print(\"E máx = \", e_max)\n",
    "    print(\"E acum = \", e_acum)\n",
    "        \n",
    "    plt.plot(t, y)\n",
    "    plt.title(\"Aproximación mediante Euler\")\n",
    "    plt.xlabel(\"t\")\n",
    "    plt.ylabel(\"y\")"
   ]
  },
  {
   "cell_type": "markdown",
   "id": "bf21cc0b-756a-45f3-aac4-6c2f5146f75e",
   "metadata": {},
   "source": [
    "**IMPORTANTE** Observa cómo cambia la forma de la función dependiendo del orden de magnitud de $\\Delta$. En este ejemplo la función parece tener la forma correcta, pero **ve lo que pasó con la magnitud**.  Para que la aproximación sea válida $\\Delta$ debe ser lo suficientemente pequeña para que la tangente sea una buena aproximación a la función."
   ]
  },
  {
   "cell_type": "code",
   "execution_count": null,
   "id": "8d63357b-562e-4a8b-a2c4-5c57e68b0034",
   "metadata": {},
   "outputs": [],
   "source": []
  }
 ],
 "metadata": {
  "kernelspec": {
   "display_name": "Python 3 (ipykernel)",
   "language": "python",
   "name": "python3"
  },
  "language_info": {
   "codemirror_mode": {
    "name": "ipython",
    "version": 3
   },
   "file_extension": ".py",
   "mimetype": "text/x-python",
   "name": "python",
   "nbconvert_exporter": "python",
   "pygments_lexer": "ipython3",
   "version": "3.10.6"
  }
 },
 "nbformat": 4,
 "nbformat_minor": 5
}
