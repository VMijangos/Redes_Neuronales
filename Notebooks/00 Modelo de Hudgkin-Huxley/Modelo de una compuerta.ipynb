{
 "cells": [
  {
   "cell_type": "markdown",
   "id": "227fc217-d442-4979-8c3d-356b97986297",
   "metadata": {},
   "source": [
    "# Modelo de una compuerta\n",
    "\n",
    "## Cambio de estado\n",
    "\n",
    "La probabilidad de que una compuerta esté abierta, como función del tiempo, es una combinación lineal de las probabilidades de que la compuerta se halla cerrado o abierto y las reglas observadas de su comportamiento se describen con una ecuación diferencial.\n",
    "\n",
    "Este comportamiento se ve afectado por el voltaje de polarización de la membrana, pero para esta sección consideraremos al voltaje como un parámetro fijo, de modo que nos podamos enfocar en la ecuación como función del tiempo.  Tomemos como ejemplo la ecuación para la compuerta de potasio (K).\n",
    "\n",
    "El cambio en la probabilidad de que una compuerta esté abierta se puede decir que es proporcional a:\n",
    "\n",
    "\\begin{align*}\n",
    " \\Delta \\text{Compuertas abiertas} = \\text{Puertas que se abren} - \\text{Puertas que se cierran}\n",
    "\\end{align*}\n",
    "\n",
    "Formalizando, es la suma de la probabilidad de que la compuerta esté cerrada por la probabilidad de que se abra, menos la probabilidad de que haya estado abierta y se cierre. Esto se expresa con una ecuación diferencial:\n",
    "\n",
    "\\begin{equation}\n",
    " \\frac{1}{\\gamma(T)} \\frac{dn}{dt} = \\alpha_n(V) (1 - n) - \\beta_n(V)n \\label{eq:huxley_sodio_puerta}\n",
    "\\end{equation}\n",
    "\n",
    "donde $\\gamma(T)$ es una constante de proporcionalidad temporal que depende de la temperatura $T$, a $6.3°$C vale $1$ [Cessac2009]."
   ]
  },
  {
   "cell_type": "markdown",
   "id": "8a4c90e0-3af4-4f57-9c0c-b3ff01022ebf",
   "metadata": {},
   "source": [
    "### Estado de equilibrio\n",
    "\n",
    "La ecuación anterior es una ecuación diferencial de primer grado, si bien la ecuación describe la variación de $n$ en el tiempo, existe un punto especial en el cual $n$ ya no cambia.  A éste se le llama un **estado de equilibrio**, matemáticamente corresponde a que su derivada sea cero.\n",
    "\n",
    "\\begin{align}\n",
    "  \\frac{dn}{dt} &= 0\n",
    "\\end{align}\n",
    "\n",
    "Si sustituimos esta condición en la ecuación anterior obtenemos el valor que toma $n$ al alcanzar el equilibrio, al cual llamaremos $n_{\\infty}$; esto como función del voltaje de polarización actual $V$:\n",
    "\\begin{align}\n",
    " \\alpha_n(V) (1 - n_{\\infty}) - \\beta_n(V)n_{\\infty} &= 0 \\\\\n",
    " n_{\\infty}(V) &= \\frac{\\alpha_n(V)}{\\alpha_n(V) + \\beta_n(V)}\n",
    "\\end{align}\n"
   ]
  },
  {
   "cell_type": "markdown",
   "id": "48305891-30ad-4bbd-92ac-f4797cdd7459",
   "metadata": {},
   "source": [
    "### Constante temporal\n",
    "\n",
    "Se define ahora a la constante temporal:\n",
    "\\begin{align*}\n",
    " \\tau_n(V) &= \\frac{1}{\\alpha_n(V) + \\beta_n(V)}\n",
    "\\end{align*}"
   ]
  },
  {
   "cell_type": "markdown",
   "id": "ecd877e8-c484-4484-a761-ce84d21efd5d",
   "metadata": {},
   "source": [
    "### Ecuación de transición\n",
    "\n",
    "Es costumbre reescribir la ecuación diferencial original en términos de $n_{\\infty}$ y $\\tau_n$:\n",
    "\n",
    "\\begin{align}\n",
    " \\frac{1}{\\gamma(T)} \\frac{dn}{dt} &= \\frac{n^{\\infty}(V) - n}{\\tau_n(V)} \\label{eq:huxley_sodio_puerta}\n",
    "\\end{align}"
   ]
  },
  {
   "cell_type": "code",
   "execution_count": null,
   "id": "a769a287-98a4-448e-8385-98f61dd7d02b",
   "metadata": {},
   "outputs": [],
   "source": []
  }
 ],
 "metadata": {
  "kernelspec": {
   "display_name": "Python 3 (ipykernel)",
   "language": "python",
   "name": "python3"
  },
  "language_info": {
   "codemirror_mode": {
    "name": "ipython",
    "version": 3
   },
   "file_extension": ".py",
   "mimetype": "text/x-python",
   "name": "python",
   "nbconvert_exporter": "python",
   "pygments_lexer": "ipython3",
   "version": "3.10.6"
  }
 },
 "nbformat": 4,
 "nbformat_minor": 5
}
