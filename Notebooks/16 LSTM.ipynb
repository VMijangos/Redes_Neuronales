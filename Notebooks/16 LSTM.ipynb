{
 "cells": [
  {
   "cell_type": "markdown",
   "metadata": {},
   "source": [
    "# Long-Short Term Memory (LSTM)"
   ]
  },
  {
   "cell_type": "markdown",
   "metadata": {},
   "source": [
    "Las Long-Short Term Memories o LSTM son una herramienta de gran utilidad cuando se trabaja con RNNs, pues evitan el desvanecimiento del gradiente y conservan adecuadamente las dependencias a largo plazo. Realizaremos un ejemplo muy simple de una LSTM, aplicadno el algoritmo de backpropagation y de gradiente descendiente para un caso simple de datos secuenciales: etiquetado de lenguaje natural."
   ]
  },
  {
   "cell_type": "code",
   "execution_count": 1,
   "metadata": {},
   "outputs": [],
   "source": [
    "import numpy as np\n",
    "import matplotlib.pyplot as plt\n",
    "from collections import defaultdict"
   ]
  },
  {
   "cell_type": "markdown",
   "metadata": {},
   "source": [
    "## Dataset\n",
    "\n",
    "Para preparar el dataset, al igual que en otros casos de lenguaje natural, convertimos las cadenas de caaracteres en índices numéricos para que la red pueda leerlos de manera apropiado. Definimos vocabularios para la entrada y la salidad, de tal forma que podamos transformar los datos de entrada en índices y recuperar las etiquetas de salida."
   ]
  },
  {
   "cell_type": "code",
   "execution_count": 2,
   "metadata": {},
   "outputs": [
    {
     "name": "stdout",
     "output_type": "stream",
     "text": [
      "[[0, 1, 2, 3, 4], [3, 5, 6], [0, 5, 7, 8, 9], [0, 1, 2, 10], [3, 1, 2, 11], [0, 1, 2], [0, 12, 2, 11], [3, 12, 2], [13, 14, 10], [0, 14], [3, 14], [13, 14, 3, 14], [0, 12, 2, 10]]\n",
      "[[0, 1, 2, 3, 1], [3, 1, 2], [0, 1, 2, 0, 1], [3, 1, 2, 1], [0, 1, 2, 4], [0, 1, 2], [0, 1, 2, 1], [3, 1, 2], [5, 2, 4], [0, 1], [3, 1], [5, 2, 3, 1], [0, 1, 2, 4]]\n"
     ]
    }
   ],
   "source": [
    "#Funcion que crea un vocabulario de palabras con un indice numerico\n",
    "def vocab():\n",
    "    vocab = defaultdict()\n",
    "    vocab.default_factory = lambda: len(vocab)\n",
    "    return vocab    \n",
    "\n",
    "#Funcion que pasa la cadena de simbolos a una secuencia con indices numericos\n",
    "def text2numba(corpus, vocab):\n",
    "    for doc in corpus:\n",
    "        yield [vocab[w] for w in doc.split()]\n",
    "\n",
    "#Entradas\n",
    "inputs = ['el perro come un hueso', 'un muchacho jugaba', 'el muchacho saltaba la cuerda', 'el perro come mucho',\n",
    "          'un perro come croquetas', 'el perro come', 'el gato come croquetas', 'un gato come', 'yo juego mucho', \n",
    "          'el juego', 'un juego', 'yo juego un juego', 'el gato come mucho']\n",
    "\n",
    "#Etiquetas de salida\n",
    "outputs = ['DA NC V DD NC', 'DD NC V', 'DA NC V DA NC', 'DD NC V NC', 'DA NC V Adv', 'DA NC V', 'DA NC V NC', \n",
    "           'DD NC V', 'DP V Adv', 'DA NC', 'DD NC', 'DP V DD NC', 'DA NC V Adv']\n",
    "\n",
    "#Llamamos la funcion para crear el vocabulario\n",
    "in_voc = vocab()\n",
    "#Creamos el vocabulario y le asignamos un indice a cada simbolo segun su aparicion\n",
    "x = list(text2numba(inputs,in_voc))\n",
    "\n",
    "#Vocabulario de emisiones\n",
    "out_voc = vocab()\n",
    "#Se susituyen las emisiones por sus índices numéricos\n",
    "y = list(text2numba(outputs,out_voc))\n",
    "\n",
    "print(x)\n",
    "print(y)"
   ]
  },
  {
   "cell_type": "markdown",
   "metadata": {},
   "source": [
    "## Red recurrente con LSTMs\n",
    "\n",
    "Recordemos que una LSTM se define a partir de 3 puertas $i$, $o$ y $f$ (escritura, lectura y olvido), dadas por las siguientes funciones:\n",
    "\n",
    "$$i_t = \\sigma(U^ix^{(t)} + V^ih^{(t-1)} + b^i)$$\n",
    "\n",
    "$$o_t = \\sigma(U^ox^{(t)} + V^oh^{(t-1)} + b^o)$$\n",
    "\n",
    "$$f_t = \\sigma(U^fx^{(t)} + V^fh^{(t-1)} + b^f)$$\n",
    "\n",
    "Asimismo, se define el candidato a sombra de la forma:\n",
    "\n",
    "$$\\hat{c}_t = \\tanh(U^cx^{(t)} + V^ch^{(t-1)} + b^c)$$\n",
    "\n",
    "La sombra (la información que se mandará al siguiente estado) se define, entonces como:\n",
    "\n",
    "$$c_t = f_t \\odot c_{t-1} + i_t \\odot \\hat{c}_t$$\n",
    "\n",
    "Y finalmente, la celda de salida para ese estado está dado por:\n",
    "\n",
    "$$h_t = o_t \\odot \\tanh(c_t)$$\n",
    "\n",
    "En general, la arquitectura de una capa con LSTM es la siguiente:\n",
    "\n",
    "![LSTM](https://miro.medium.com/max/504/1*FPTmBD8GY9ZvkdsUBYXC9Q.png)\n",
    "\n",
    "Ya que las puertas en el LSTM utilizan la función sigmoide, definimos ésta a continuación:"
   ]
  },
  {
   "cell_type": "code",
   "execution_count": 3,
   "metadata": {},
   "outputs": [],
   "source": [
    "def sig(x):\n",
    "    \"\"\"Función sigmoide\"\"\"\n",
    "    return 1./(1.+np.exp(-x))"
   ]
  },
  {
   "cell_type": "markdown",
   "metadata": {},
   "source": [
    "### Inicialización de los parámetros\n",
    "\n",
    "Ahora inicializamos los parámetros $\\theta$. Estos parámetros son los siguientes:\n",
    "\n",
    "1) Parámetros de la puerta de escritura: $V^i\\in\\mathbb{R}^{m\\times m}$, $U^i\\in\\mathbb{R}^{m\\times N}$ y $b^i\\in\\mathbb{R}^m$.\n",
    "\n",
    "2) Parámetros de la puerta de olvido: $V^f\\in\\mathbb{R}^{m\\times m}$, $U^f\\in\\mathbb{R}^{m\\times N}$ y $b^f\\in\\mathbb{R}^m$.\n",
    "\n",
    "3) Parámetros de la puerta de lectura: $V^o\\in\\mathbb{R}^{m\\times m}$, $U^o\\in\\mathbb{R}^{m\\times N}$ y $b^o\\in\\mathbb{R}^m$.\n",
    "\n",
    "4) Parámetros de la sombra: $V^c\\in\\mathbb{R}^{m\\times m}$, $U^c\\in\\mathbb{R}^{m\\times N}$ y $b^c\\in\\mathbb{R}^m$.\n",
    "\n",
    "5) Parámetros de la capa de salida: $W\\in\\mathbb{R}^{N\\times m}$y $b\\in\\mathbb{R}^N$."
   ]
  },
  {
   "cell_type": "code",
   "execution_count": 4,
   "metadata": {},
   "outputs": [],
   "source": [
    "np.random.seed(0)\n",
    "#El número de rasgos que representan cada vector\n",
    "nn_input_dim = len(in_voc)\n",
    "#El total de clases que arrojará\n",
    "output_dim = len(out_voc)\n",
    "\n",
    "#Dimensiones de los vectores-palabra\n",
    "cell_dim = 3\n",
    "\n",
    "#Celda de escritura\n",
    "Vi = np.random.randn(cell_dim,cell_dim) / np.sqrt(cell_dim)\n",
    "Ui = np.random.randn(cell_dim, nn_input_dim) / np.sqrt(nn_input_dim)\n",
    "bi = np.zeros(cell_dim)\n",
    "\n",
    "#Celda de olvido\n",
    "Vf = np.random.randn(cell_dim,cell_dim) / np.sqrt(cell_dim)\n",
    "Uf = np.random.randn(cell_dim, nn_input_dim) / np.sqrt(nn_input_dim)\n",
    "bf = np.zeros(cell_dim)\n",
    "\n",
    "#Celda de lectura\n",
    "Vo = np.random.randn(cell_dim,cell_dim) / np.sqrt(cell_dim)\n",
    "Uo = np.random.randn(cell_dim, nn_input_dim) / np.sqrt(nn_input_dim)\n",
    "bo = np.zeros(cell_dim)\n",
    "\n",
    "#Celda de candidato\n",
    "Vc = np.random.randn(cell_dim,cell_dim) / np.sqrt(cell_dim)\n",
    "Uc = np.random.randn(cell_dim, nn_input_dim) / np.sqrt(nn_input_dim)\n",
    "bc = np.zeros(cell_dim)\n",
    "\n",
    "#Capa de salida\n",
    "W = np.random.randn(nn_input_dim, cell_dim) / np.sqrt(cell_dim)\n",
    "b = np.zeros(nn_input_dim)"
   ]
  },
  {
   "cell_type": "markdown",
   "metadata": {},
   "source": [
    "### Entrenamiento de la red\n",
    "\n",
    "Finalmente aplicamos el entrenamiento. En este caso, aplicamos el LSTM, y la capa de salida. Posteriormente aplicamos backpropagation sobre todos los parámetros para poder actualizarlos por medio del gradiente descendiente."
   ]
  },
  {
   "cell_type": "code",
   "execution_count": 5,
   "metadata": {},
   "outputs": [
    {
     "data": {
      "image/png": "[encoded data removed]",
      "text/plain": [
       "<Figure size 432x288 with 1 Axes>"
      ]
     },
     "metadata": {
      "needs_background": "light"
     },
     "output_type": "display_data"
    },
    {
     "name": "stdout",
     "output_type": "stream",
     "text": [
      "CPU times: user 906 ms, sys: 1.35 ms, total: 908 ms\n",
      "Wall time: 906 ms\n"
     ]
    }
   ],
   "source": [
    "%%time\n",
    "epochs = 100\n",
    "lr = 0.1\n",
    "\n",
    "risk = []\n",
    "for t in range(epochs):\n",
    "    epoch_risk = 0\n",
    "    for (x_i, y_i) in zip(x, y):\n",
    "        #Inicializacion de celdas\n",
    "        h = np.zeros((len(x_i)+1,cell_dim))\n",
    "        #Inicializacion de sombras\n",
    "        c = np.zeros((len(x_i)+1,cell_dim))\n",
    "        #Variable de cambio\n",
    "        d_t = np.zeros(cell_dim)\n",
    "        \n",
    "        risk_x = 0\n",
    "        for t, w in enumerate(x_i):\n",
    "            #LSTM\n",
    "            #Puerta de escritura\n",
    "            i = sig(np.dot(Vi,h[t]) + Ui.T[w] + bi)\n",
    "            #Puerta de olvido\n",
    "            f = sig(np.dot(Vf,h[t]) + Uf.T[w] + bf)\n",
    "            #Puerta de lectura\n",
    "            o = sig(np.dot(Vo,h[t]) + Uo.T[w] + bo)\n",
    "            \n",
    "            #Candidato a sombra\n",
    "            c_hat = np.tanh(np.dot(Vc,h[t]) + Uc.T[w] + bc)\n",
    "            \n",
    "            #Sombra en el estado actual\n",
    "            c[t+1] = f*c[t] + i*c_hat\n",
    "            \n",
    "            #Celda en el estado actual\n",
    "            h[t+1] = o*np.tanh(c[t+1])\n",
    "            \n",
    "            #FORWARD SALIDA\n",
    "            #Softmax\n",
    "            p = np.exp(np.dot(W,h[t+1])+b)\n",
    "            phi = p/p.sum(0)\n",
    "            \n",
    "            risk_x += np.log(phi[y_i[t]])\n",
    "            \n",
    "            #BACK-PROP\n",
    "            #Variable de salida\n",
    "            d_out = phi\n",
    "            d_out[y_i[t]] -= 1\n",
    "            #GD salida\n",
    "            dW = np.outer(d_out,h[t+1])\n",
    "            W -=lr*dW\n",
    "            \n",
    "            #Variable de lectura\n",
    "            d_o = np.dot(W.T,d_out)*np.tanh(c[t+1])*o*(1-o)\n",
    "            #GD lectura Vo\n",
    "            dVo = np.outer(d_o,h[t])\n",
    "            Vo -= lr*dVo\n",
    "            #GD lectura Uo\n",
    "            Uo.T[w] -= d_o\n",
    "            \n",
    "            #Varible de estado (se usa en escritura, olvido y sombra)\n",
    "            d_st = np.dot(W.T,d_out)*o*(1-np.tanh(c[t+1])**2) + d_t\n",
    "                        \n",
    "            #Variable de sombra\n",
    "            d_c = d_st*i*(1-c_hat**2)\n",
    "            #GD sombra Vc\n",
    "            dVc = np.outer(d_c,h[t])\n",
    "            Vc -= lr*dVc\n",
    "            #GD sobra Uc\n",
    "            Uc.T[w] -= d_c\n",
    "            \n",
    "            #Variable de escritura\n",
    "            d_i = d_st*c_hat*i*(1-i)\n",
    "            #GD escritura Vi\n",
    "            dVi = np.outer(d_i,h[t])\n",
    "            Vi -= lr*dVi\n",
    "            #GD escritura Ui\n",
    "            Ui.T[w] -= d_i\n",
    "            \n",
    "            #Variable de olvido\n",
    "            d_f = d_st*c[t+1]*f*(1-f)\n",
    "            #GD olvido Vf\n",
    "            dVf = np.outer(d_f,h[t])\n",
    "            Vf -= lr*dVf\n",
    "            #GD olvido Uf\n",
    "            Uf.T[w] -= d_f           \n",
    "            \n",
    "            #Nueva variable de cambio\n",
    "            d_t = f*d_st\n",
    "            \n",
    "        epoch_risk -= risk_x\n",
    "    risk.append(epoch_risk)\n",
    "    \n",
    "plt.plot(risk)\n",
    "plt.title('Riesgo a traves de las épocas')\n",
    "plt.xlabel('Época')\n",
    "plt.ylabel('Riesgo')\n",
    "plt.show()"
   ]
  },
  {
   "cell_type": "markdown",
   "metadata": {},
   "source": [
    "### Etiquetado con LSTM\n",
    "\n",
    "Para probar el etiquetado definimos una función que pueda tomar una cadena de lenguaje natural, aplique la red y regrese las etiquetas. "
   ]
  },
  {
   "cell_type": "code",
   "execution_count": 6,
   "metadata": {},
   "outputs": [],
   "source": [
    "tags = {i:w for w,i in out_voc.items()}\n",
    "def tagger(sent, h = np.zeros(cell_dim), c=np.zeros(cell_dim)):\n",
    "    \"\"\"Función de etiquetado con LSTM\"\"\"\n",
    "    sent = sent.split()\n",
    "    prob_tot = np.zeros((len(sent), nn_input_dim))\n",
    "    \n",
    "    for t,w in enumerate(sent):\n",
    "        i = sig(np.dot(Vi,h) + Ui.T[in_voc[w]] + bi)\n",
    "        f = sig(np.dot(Vf,h) + Uf.T[in_voc[w]] + bf)\n",
    "        o = sig(np.dot(Vo,h) + Uo.T[in_voc[w]] + bo)\n",
    "        c_hat = np.tanh(np.dot(Vc,h) + Uc.T[in_voc[w]] + bc)\n",
    "        c = f*c + i*c_hat\n",
    "        h = o*np.tanh(c)\n",
    "        p = np.exp(np.dot(W,h)+b)\n",
    "        phi = p/p.sum(0)\n",
    "        prob_tot[t] = phi\n",
    "        \n",
    "    sent_tags = [tags[j] for j in prob_tot.argmax(axis=1)]\n",
    "    return ' '.join(sent_tags)"
   ]
  },
  {
   "cell_type": "markdown",
   "metadata": {},
   "source": [
    "Podemos ver cómo se comporta en algunos datos de entrada."
   ]
  },
  {
   "cell_type": "code",
   "execution_count": 7,
   "metadata": {},
   "outputs": [
    {
     "name": "stdout",
     "output_type": "stream",
     "text": [
      "DP Adv V DD NC\n"
     ]
    }
   ],
   "source": [
    "etiqs = tagger('yo mucho juego el juego')\n",
    "\n",
    "print(etiqs)"
   ]
  },
  {
   "cell_type": "markdown",
   "metadata": {},
   "source": [
    "### Visualización de las puertas y los estados ocultos"
   ]
  },
  {
   "cell_type": "code",
   "execution_count": 8,
   "metadata": {},
   "outputs": [],
   "source": [
    "def get_cells(sent, h0 = np.zeros(cell_dim),c0=np.zeros(cell_dim)):\n",
    "    \"\"\"Función para recuperar las celdas del LSTM\"\"\"\n",
    "    sent = sent.split()\n",
    "    prob_tot = np.zeros((len(sent), nn_input_dim))\n",
    "    \n",
    "    #Longitud sente\n",
    "    long = len(sent)\n",
    "    #Matrices de puertas por estado\n",
    "    i = np.zeros((long+1, cell_dim))\n",
    "    o = np.zeros((long+1, cell_dim))\n",
    "    f = np.zeros((long+1, cell_dim))\n",
    "    c_hat = np.zeros((long+1, cell_dim))\n",
    "    c = np.zeros((long+1, cell_dim))\n",
    "    h = np.zeros((long+1, cell_dim))\n",
    "    \n",
    "    #Inicializar h y c\n",
    "    c[0] = c0\n",
    "    h[0] = h0\n",
    "    \n",
    "    for t,w in enumerate(sent):\n",
    "        #LSTM\n",
    "        #Puerta de escritura\n",
    "        i[t+1] = sig(np.dot(Vi,h[t]) + Ui.T[in_voc[w]] + bi)\n",
    "        #Puerta de olvido\n",
    "        f[t+1] = sig(np.dot(Vf,h[t]) + Uf.T[in_voc[w]] + bf)\n",
    "        #Puerta de escritura\n",
    "        o[t+1] = sig(np.dot(Vo,h[t]) + Uo.T[in_voc[w]] + bo)\n",
    "\n",
    "        #Candidato a sombra\n",
    "        c_hat[t+1] = np.tanh(np.dot(Vc,h[t]) + Uc.T[in_voc[w]] + bc)\n",
    "\n",
    "        #Sombra en el estado actual\n",
    "        c[t+1] = f[t+1]*c[t] + i[t+1]*c_hat[t+1]\n",
    "\n",
    "        #Celda en el estado actual\n",
    "        h[t+1] = o[t+1]*np.tanh(c[t+1])\n",
    "\n",
    "        #FORWARD SALIDA\n",
    "        #Softmax\n",
    "        p = np.exp(np.dot(W,h[t+1])+b)\n",
    "        phi = p/p.sum(0)\n",
    "        \n",
    "        #Se almacenan las probabilidades\n",
    "        prob_tot[t] = phi\n",
    "        \n",
    "    return (i,o,f),h,c_hat,c, prob_tot "
   ]
  },
  {
   "cell_type": "code",
   "execution_count": 9,
   "metadata": {},
   "outputs": [],
   "source": [
    "import seaborn as sns\n",
    "\n",
    "ex = 'el gato come el hueso'\n",
    "gates, h,c_hat,c, p = get_cells(ex)\n",
    "\n",
    "states = [0] + ex.split()"
   ]
  },
  {
   "cell_type": "code",
   "execution_count": 10,
   "metadata": {},
   "outputs": [
    {
     "data": {
      "image/png": "[encoded data removed]",
      "text/plain": [
       "<Figure size 432x288 with 2 Axes>"
      ]
     },
     "metadata": {
      "needs_background": "light"
     },
     "output_type": "display_data"
    }
   ],
   "source": [
    "#Puerta de lectura i\n",
    "ax = sns.heatmap(gates[0], linewidth=1.0, yticklabels=states)\n",
    "ax.set_title('i (write) gate')\n",
    "plt.show()"
   ]
  },
  {
   "cell_type": "code",
   "execution_count": 11,
   "metadata": {},
   "outputs": [
    {
     "data": {
      "image/png": "[encoded data removed]",
      "text/plain": [
       "<Figure size 432x288 with 2 Axes>"
      ]
     },
     "metadata": {
      "needs_background": "light"
     },
     "output_type": "display_data"
    }
   ],
   "source": [
    "#Puerta de escritura\n",
    "ax = sns.heatmap(gates[1], linewidth=1.0, yticklabels=states)\n",
    "ax.set_title('o (read) gate')\n",
    "plt.show()"
   ]
  },
  {
   "cell_type": "code",
   "execution_count": 12,
   "metadata": {},
   "outputs": [
    {
     "data": {
      "image/png": "[encoded data removed]",
      "text/plain": [
       "<Figure size 432x288 with 2 Axes>"
      ]
     },
     "metadata": {
      "needs_background": "light"
     },
     "output_type": "display_data"
    }
   ],
   "source": [
    "#Puerta de olvido\n",
    "ax = sns.heatmap(gates[2], linewidth=1.0, yticklabels=states)\n",
    "ax.set_title('f (forgot) gate')\n",
    "plt.show()"
   ]
  },
  {
   "cell_type": "code",
   "execution_count": 13,
   "metadata": {},
   "outputs": [
    {
     "data": {
      "image/png": "[encoded data removed]",
      "text/plain": [
       "<Figure size 432x288 with 2 Axes>"
      ]
     },
     "metadata": {
      "needs_background": "light"
     },
     "output_type": "display_data"
    }
   ],
   "source": [
    "ax = sns.heatmap(c_hat, linewidth=1.0, yticklabels=states)\n",
    "ax.set_title('Candidato a sombra')\n",
    "plt.show()"
   ]
  },
  {
   "cell_type": "code",
   "execution_count": 14,
   "metadata": {},
   "outputs": [
    {
     "data": {
      "image/png": "[encoded data removed]",
      "text/plain": [
       "<Figure size 432x288 with 2 Axes>"
      ]
     },
     "metadata": {
      "needs_background": "light"
     },
     "output_type": "display_data"
    }
   ],
   "source": [
    "ax = sns.heatmap(c, linewidth=1.0, yticklabels=states)\n",
    "ax.set_title('Sombra')\n",
    "plt.show()"
   ]
  },
  {
   "cell_type": "code",
   "execution_count": 15,
   "metadata": {},
   "outputs": [
    {
     "data": {
      "image/png": "[encoded data removed]",
      "text/plain": [
       "<Figure size 432x288 with 2 Axes>"
      ]
     },
     "metadata": {
      "needs_background": "light"
     },
     "output_type": "display_data"
    }
   ],
   "source": [
    "ax = sns.heatmap(np.tanh(c), linewidth=1.0, yticklabels=states)\n",
    "ax.set_title('tanh(c)')\n",
    "plt.show()"
   ]
  },
  {
   "cell_type": "code",
   "execution_count": 16,
   "metadata": {},
   "outputs": [
    {
     "data": {
      "image/png": "[encoded data removed]",
      "text/plain": [
       "<Figure size 432x288 with 2 Axes>"
      ]
     },
     "metadata": {
      "needs_background": "light"
     },
     "output_type": "display_data"
    }
   ],
   "source": [
    "ax = sns.heatmap(gates[1]*np.tanh(c), linewidth=1.0, yticklabels=states)\n",
    "ax.set_title('o * tanh(c)')\n",
    "plt.show()"
   ]
  },
  {
   "cell_type": "markdown",
   "metadata": {},
   "source": [
    "     "
   ]
  }
 ],
 "metadata": {
  "kernelspec": {
   "display_name": "Python 3",
   "language": "python",
   "name": "python3"
  },
  "language_info": {
   "codemirror_mode": {
    "name": "ipython",
    "version": 3
   },
   "file_extension": ".py",
   "mimetype": "text/x-python",
   "name": "python",
   "nbconvert_exporter": "python",
   "pygments_lexer": "ipython3",
   "version": "3.8.8"
  }
 },
 "nbformat": 4,
 "nbformat_minor": 2
}
