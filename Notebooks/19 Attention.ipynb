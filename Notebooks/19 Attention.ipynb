{
 "cells": [
  {
   "cell_type": "code",
   "execution_count": 1,
   "id": "25116599",
   "metadata": {},
   "outputs": [],
   "source": [
    "import torch\n",
    "import torch.nn as nn\n",
    "import math\n",
    "from collections import defaultdict\n",
    "from tqdm import tqdm\n",
    "from seaborn import heatmap"
   ]
  },
  {
   "cell_type": "markdown",
   "id": "4e5266e7",
   "metadata": {},
   "source": [
    "## Preparación de los datos"
   ]
  },
  {
   "cell_type": "code",
   "execution_count": 2,
   "id": "c9669baf",
   "metadata": {},
   "outputs": [],
   "source": [
    "def vocab():\n",
    "    vocab = defaultdict()\n",
    "    vocab.default_factory = lambda: len(vocab)\n",
    "    return vocab"
   ]
  },
  {
   "cell_type": "code",
   "execution_count": 3,
   "id": "2a42171b",
   "metadata": {},
   "outputs": [],
   "source": [
    "#Entradas\n",
    "data_in = ['el perro come un hueso', 'un muchacho jugaba', 'el muchacho saltaba la cuerda', 'el perro come mucho',\n",
    "          'un perro come croquetas', 'el perro come', 'el gato come croquetas', 'un gato come', 'yo juego mucho', \n",
    "          'el juego', 'un juego', 'yo juego un juego', 'el gato come mucho']\n",
    "\n",
    "#Etiquetas de salida\n",
    "data_out = ['DA NC V DD NC', 'DD NC V', 'DA NC V DA NC', 'DD NC V NC', 'DA NC V Adv', 'DA NC V', 'DA NC V NC', \n",
    "           'DD NC V', 'DP V Adv', 'DA NC', 'DD NC', 'DP V DD NC', 'DA NC V Adv']"
   ]
  },
  {
   "cell_type": "code",
   "execution_count": 4,
   "id": "38b904f2",
   "metadata": {},
   "outputs": [
    {
     "name": "stdout",
     "output_type": "stream",
     "text": [
      "tensor([0, 1, 2, 3, 4])\n",
      "tensor([0, 1, 2, 3, 1])\n"
     ]
    }
   ],
   "source": [
    "voc_in = vocab()\n",
    "voc_out = vocab()\n",
    "\n",
    "x = []\n",
    "y = []\n",
    "for sent, tags in zip(data_in, data_out):\n",
    "    x_i = torch.tensor([voc_in[w] for w in sent.split()], dtype=torch.long)\n",
    "    x.append( x_i )\n",
    "    y.append( torch.tensor([voc_out[t] for t in tags.split()], dtype=torch.long) )\n",
    "    \n",
    "print(x[0])\n",
    "print(y[0])"
   ]
  },
  {
   "cell_type": "markdown",
   "id": "2eb3cf0e",
   "metadata": {},
   "source": [
    "## Modelo de atención\n",
    "\n",
    "### Normalización de capas"
   ]
  },
  {
   "cell_type": "code",
   "execution_count": 5,
   "id": "266e1319",
   "metadata": {},
   "outputs": [],
   "source": [
    "class LayerNorm(nn.Module):\n",
    "    def __init__(self, features, eps=1e-6):\n",
    "        super(LayerNorm, self).__init__()\n",
    "        self.a_2 = nn.Parameter(torch.ones(features))\n",
    "        self.b_2 = nn.Parameter(torch.zeros(features))\n",
    "        self.eps = eps\n",
    "\n",
    "    def forward(self, x):\n",
    "        mean = x.mean(-1, keepdim=True)\n",
    "        std = x.std(-1, keepdim=True)\n",
    "        \n",
    "        return self.a_2 * (x - mean) / (std + self.eps) + self.b_2"
   ]
  },
  {
   "cell_type": "markdown",
   "id": "d4faabdc",
   "metadata": {},
   "source": [
    "### Codificación posicional"
   ]
  },
  {
   "cell_type": "code",
   "execution_count": 6,
   "id": "37cd36f6",
   "metadata": {},
   "outputs": [],
   "source": [
    "class PositionalEncoding(nn.Module):\n",
    "    def __init__(self, d_model, max_len=1000):\n",
    "        super(PositionalEncoding, self).__init__()\n",
    "        \n",
    "        pe = torch.zeros(max_len, d_model)\n",
    "        position = torch.arange(0, max_len).unsqueeze(1)\n",
    "        div_term = torch.exp(torch.arange(0, d_model, 2) *\n",
    "                             -(math.log(10000.0) / d_model))\n",
    "        pe[:, 0::2] = torch.sin(position * div_term)\n",
    "        pe[:, 1::2] = torch.cos(position * div_term)\n",
    "        self.register_buffer('pe', pe)\n",
    "        \n",
    "    def forward(self, x):\n",
    "        x = x + torch.autograd.Variable(self.pe[:x.size(0), :x.size(1)], requires_grad=False).reshape(x.shape)\n",
    "\n",
    "        return x"
   ]
  },
  {
   "cell_type": "markdown",
   "id": "0f94d84c",
   "metadata": {},
   "source": [
    "### Capa de atención"
   ]
  },
  {
   "cell_type": "code",
   "execution_count": 7,
   "id": "b6d52159",
   "metadata": {},
   "outputs": [],
   "source": [
    "class Attention(nn.Module):\n",
    "    def __init__(self, d_model):\n",
    "        super(Attention, self).__init__()\n",
    "        self.Q = nn.Linear(d_model, d_model, bias=False)\n",
    "        self.K  = nn.Linear(d_model, d_model, bias=False)\n",
    "        self.V  = nn.Linear(d_model, d_model, bias=False)\n",
    "        \n",
    "        self.d_model = d_model\n",
    "        \n",
    "    def forward(self, x):       \n",
    "        query,key,value=self.Q(x),self.K(x),self.V(x)\n",
    "        \n",
    "        scores = torch.matmul(query, key.T)/math.sqrt(self.d_model)\n",
    "        p_attn = torch.nn.functional.softmax(scores, dim = -1)\n",
    "        \n",
    "        Vs = torch.matmul(p_attn, value).reshape(x.shape)\n",
    "        \n",
    "        return Vs, p_attn"
   ]
  },
  {
   "cell_type": "markdown",
   "id": "0ca3fc75",
   "metadata": {},
   "source": [
    "### Modelo atencional"
   ]
  },
  {
   "cell_type": "code",
   "execution_count": 13,
   "id": "1e3f6a73",
   "metadata": {},
   "outputs": [],
   "source": [
    "class AttentionModel(nn.Module):\n",
    "    def __init__(self, len_in, len_out, d_model=128):\n",
    "        super(AttentionModel, self).__init__()\n",
    "        self.emb = nn.Embedding(len_in, d_model)\n",
    "        self.pe = PositionalEncoding(d_model)\n",
    "        self.att = Attention(d_model)\n",
    "        self.norm = LayerNorm(d_model)\n",
    "        self.ffw = nn.Sequential(nn.Linear(d_model,d_model),nn.Tanh(),nn.Linear(d_model,len_out),nn.Softmax(1))\n",
    "        \n",
    "        self.att_matrix = None\n",
    "        \n",
    "    def forward(self, x):\n",
    "        x_emb = self.pe(self.emb(x))\n",
    "        #x_emb = self.emb(x)\n",
    "        x_emb = self.norm(x_emb)\n",
    "        h, self.att_matrix = self.att(x_emb)\n",
    "        h = x_emb + h\n",
    "        h = self.norm(h) \n",
    "        out = self.ffw(h)\n",
    "        \n",
    "        return out"
   ]
  },
  {
   "cell_type": "code",
   "execution_count": 14,
   "id": "7dff4a3a",
   "metadata": {},
   "outputs": [
    {
     "data": {
      "text/plain": [
       "<All keys matched successfully>"
      ]
     },
     "execution_count": 14,
     "metadata": {},
     "output_type": "execute_result"
    }
   ],
   "source": [
    "model = AttentionModel(len(voc_in), len(voc_out), d_model=16)\n",
    "model.load_state_dict(torch.load('TaggerModel.model'))"
   ]
  },
  {
   "cell_type": "code",
   "execution_count": 10,
   "id": "bd31bb6a",
   "metadata": {},
   "outputs": [
    {
     "name": "stderr",
     "output_type": "stream",
     "text": [
      "100%|██████████| 100/100 [00:02<00:00, 49.78it/s]\n"
     ]
    }
   ],
   "source": [
    "epochs = 100\n",
    "criterion = torch.nn.CrossEntropyLoss()\n",
    "optimizer = torch.optim.Adagrad(model.parameters(), lr=0.1)\n",
    "for t in tqdm(range(epochs)):\n",
    "    for x_i, y_i in zip(x, y):\n",
    "        y_pred = model(x_i)\n",
    "        optimizer.zero_grad()\n",
    "        loss = criterion(y_pred, y_i)\n",
    "        loss.backward()\n",
    "        optimizer.step()"
   ]
  },
  {
   "cell_type": "code",
   "execution_count": 15,
   "id": "c0c7826a",
   "metadata": {},
   "outputs": [],
   "source": [
    "tags_voc = {v:k for k,v in voc_out.items()}\n",
    "def tagger(sent):\n",
    "    x = torch.tensor([voc_in[w] for w in sent.split()], dtype=torch.long)\n",
    "    prob = model(x)\n",
    "    tags = prob.argmax(axis=1)\n",
    "    tags = [tags_voc[int(i)] for i in tags]\n",
    "    att = model.att_matrix\n",
    "    heatmap(att.detach().numpy(), xticklabels=sent.split(), yticklabels=sent.split())\n",
    "    \n",
    "    return tags"
   ]
  },
  {
   "cell_type": "code",
   "execution_count": 16,
   "id": "81b8c1be",
   "metadata": {},
   "outputs": [
    {
     "data": {
      "text/plain": [
       "['DP', 'V', 'Adv', 'DA', 'NC']"
      ]
     },
     "execution_count": 16,
     "metadata": {},
     "output_type": "execute_result"
    },
    {
     "data": {
      "image/png": "[encoded data removed]",
      "text/plain": [
       "<Figure size 432x288 with 2 Axes>"
      ]
     },
     "metadata": {
      "needs_background": "light"
     },
     "output_type": "display_data"
    }
   ],
   "source": [
    "tagger('yo juego mucho el juego')"
   ]
  },
  {
   "cell_type": "code",
   "execution_count": 13,
   "id": "78309dd8",
   "metadata": {},
   "outputs": [],
   "source": [
    "#torch.save(model.state_dict(), 'TaggerModel.model')"
   ]
  },
  {
   "cell_type": "markdown",
   "id": "7679c698",
   "metadata": {},
   "source": [
    "    "
   ]
  }
 ],
 "metadata": {
  "kernelspec": {
   "display_name": "Python 3",
   "language": "python",
   "name": "python3"
  },
  "language_info": {
   "codemirror_mode": {
    "name": "ipython",
    "version": 3
   },
   "file_extension": ".py",
   "mimetype": "text/x-python",
   "name": "python",
   "nbconvert_exporter": "python",
   "pygments_lexer": "ipython3",
   "version": "3.8.8"
  }
 },
 "nbformat": 4,
 "nbformat_minor": 5
}
