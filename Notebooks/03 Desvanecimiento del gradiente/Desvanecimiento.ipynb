{
 "cells": [
  {
   "cell_type": "markdown",
   "id": "cdade7bc-498c-41f5-b69a-36dbbd73e086",
   "metadata": {},
   "source": [
    "# Desvanecimiento del gradiente\n",
    "\n",
    "[The Vanishing Gradient Problem](https://towardsdatascience.com/the-vanishing-gradient-problem-69bf08b15484)\n",
    "\n",
    "**Problema**\n",
    "\n",
    "Para funciones de activación, cuya derivada es cercana a cero para valores extremos en su rango _(ej: las sigmoides)_, conforme se agregan capas a la red neuronal este se vuelve más y más difícil de entrenar."
   ]
  },
  {
   "cell_type": "code",
   "execution_count": 1,
   "id": "c798def1-5df7-4852-b3d4-5550b8133fd3",
   "metadata": {},
   "outputs": [],
   "source": [
    "import numpy as np\n",
    "import matplotlib.pyplot as plt\n",
    "plt.style.use('ggplot')"
   ]
  },
  {
   "cell_type": "code",
   "execution_count": 2,
   "id": "7f576fba-d3ca-4eba-948f-f23d04a002f5",
   "metadata": {},
   "outputs": [],
   "source": [
    "def sigma(z):\n",
    "    return 1 / (1 + np.exp(-z))"
   ]
  },
  {
   "cell_type": "code",
   "execution_count": 3,
   "id": "fefbd0e6-125b-4a15-90cb-166c27c18144",
   "metadata": {},
   "outputs": [],
   "source": [
    "def derivada_sigma(z):\n",
    "    a = sigma(z)\n",
    "    return a * (1 - a)"
   ]
  },
  {
   "cell_type": "code",
   "execution_count": 4,
   "id": "9d4ce599-8ee3-49ec-9562-71413f6effc5",
   "metadata": {},
   "outputs": [
    {
     "data": {
      "image/png": "[encoded data removed]",
      "text/plain": [
       "<Figure size 432x288 with 1 Axes>"
      ]
     },
     "metadata": {},
     "output_type": "display_data"
    }
   ],
   "source": [
    "def plotSigma():\n",
    "    x = np.linspace(-4,4)\n",
    "    s = sigma(x)\n",
    "    ds = derivada_sigma(x)\n",
    "    plt.plot(x, s, label=\"$\\\\sigma(x)$\")\n",
    "    plt.plot(x, ds, label=\"$\\\\sigma'(x)$\")\n",
    "    plt.title(\"Comportamiento de la sigmoide\")\n",
    "    plt.xlabel(\"x\")\n",
    "    plt.ylabel(\"y\")\n",
    "    plt.legend()\n",
    "plotSigma()"
   ]
  },
  {
   "cell_type": "markdown",
   "id": "494bb76c-d2a7-4321-9570-d9b20d48fa28",
   "metadata": {},
   "source": [
    "Los algoritmos de optimización basados en el gradiente comparten la idea escencial del descenso por el gradiente:\n",
    "\\begin{align}\n",
    " W_{t+1} = W_t - \\alpha \\nabla_W J\n",
    "\\end{align}\n",
    "donde $J$ es la función de error y $W$ los pesos.\n",
    "\n",
    "Recordando que para calcular el gradiente con respecto a cada capa de pesos éste es proporcional a:\n",
    " \\begin{align}\n",
    "  \\Delta^{(l-1)} &= \\Delta^{(l)}\\left(W^{(l-1)}\\right)^T \\circ g'(Z^{(l-1)})\n",
    " \\end{align}"
   ]
  },
  {
   "cell_type": "markdown",
   "id": "fa1c6e2b-7090-4c1d-9372-8d7f9e7bd2b8",
   "metadata": {},
   "source": [
    "tenemos que, entre más capas, más veces aparece el término $g'(Z^{(l-1)})$, de modo que para la primer capa:\n",
    "\n",
    "\\begin{align}\n",
    "  \\Delta^{(1)} &\\propto g'(Z^{(0)}) \\circ g'(Z^{(1)}) \\circ ... \\circ g'(Z^{(L-1)})\n",
    "\\end{align}\n",
    "\n",
    "siendo todos estos números $\\ll 1$.\n",
    "\n",
    "De este modo, al sustituir el valor de un gradiente muy pequeño en la fórmula de entrenamiento, los pesos prácticamente no cambian, independientemente de qué tan grande sea la magnitud del valor de entrada."
   ]
  },
  {
   "cell_type": "code",
   "execution_count": 5,
   "id": "23553886-4907-4726-bba4-d50c5e1dcb44",
   "metadata": {},
   "outputs": [],
   "source": [
    "import torch\n",
    "from torch import nn"
   ]
  },
  {
   "cell_type": "code",
   "execution_count": 6,
   "id": "38639f79-bb0a-4bb4-8b8d-9a0d43900bfb",
   "metadata": {},
   "outputs": [],
   "source": [
    "X = torch.arange(-1.,1.02,0.02)  # Tensor 1D\n",
    "X = torch.reshape(X, (len(X),1))"
   ]
  },
  {
   "cell_type": "code",
   "execution_count": 7,
   "id": "54fdb649-936e-4eb9-a71e-d39418bf547a",
   "metadata": {},
   "outputs": [],
   "source": [
    "def f(x):\n",
    "    \"\"\"\n",
    "    Función objetivo.\n",
    "    \"\"\"\n",
    "    return x/2 * (torch.sin(20*x) - torch.cos(20*x/3))"
   ]
  },
  {
   "cell_type": "code",
   "execution_count": 8,
   "id": "723be70c-77ef-40dc-84b0-117836d7898a",
   "metadata": {},
   "outputs": [],
   "source": [
    "# Calculamos los valores de la función que queremos aproximar\n",
    "# para las entradas X\n",
    "\n",
    "with torch.no_grad():\n",
    "    Y = f(X)"
   ]
  },
  {
   "cell_type": "code",
   "execution_count": 9,
   "id": "1313b2e7-5f7c-4fd0-ad7e-c37c8d7bff1e",
   "metadata": {},
   "outputs": [],
   "source": [
    "class DeepNeuralNetwork(nn.Module):\n",
    "    def __init__(self, s, f_activacion=nn.Sigmoid):\n",
    "        \"\"\"\n",
    "        param s: Lista de número de neuronas en las capa ocultas\n",
    "        \"\"\"\n",
    "        super(DeepNeuralNetwork, self).__init__()\n",
    "        \n",
    "        # Primer capa oculta:\n",
    "        componentes = [nn.Linear(1,s[0]), f_activacion()]\n",
    "        \n",
    "        # Demás capas ocultas:\n",
    "        for i in range(1,len(s)):\n",
    "            componentes.append(nn.Linear(s[i-1],s[i]))\n",
    "            componentes.append(f_activacion())\n",
    "        \n",
    "        # Capa de salida\n",
    "        componentes.append(nn.Linear(s[-1],1))\n",
    "        componentes.append(f_activacion())\n",
    "        \n",
    "        # Arma perceptrón multicapa\n",
    "        self.layers_stack = nn.Sequential(*componentes)\n",
    "        \n",
    "    def forward(self, x):\n",
    "        \"\"\"\n",
    "        Evaluación de la red sobre la entrada x\n",
    "        usando alimentación hacia adelante para los pesos\n",
    "        actuales.\n",
    "        \"\"\"\n",
    "        logits = self.layers_stack(x)\n",
    "        return logits"
   ]
  },
  {
   "cell_type": "code",
   "execution_count": 10,
   "id": "d54460f6-0b6c-41bb-b17f-8587486f9e0a",
   "metadata": {},
   "outputs": [],
   "source": [
    "model = DeepNeuralNetwork([3] * 7)"
   ]
  },
  {
   "cell_type": "code",
   "execution_count": 11,
   "id": "f3fd241d-d139-497b-9ba0-e31193044fa4",
   "metadata": {},
   "outputs": [],
   "source": [
    "# Calcularemos el gradiente de la diferencia al cuadrado\n",
    "loss_fn = nn.MSELoss()"
   ]
  },
  {
   "cell_type": "code",
   "execution_count": 12,
   "id": "56f1f6e8-e795-45e5-8e4f-402c033e4138",
   "metadata": {},
   "outputs": [],
   "source": [
    "# Evaluamos la función de la red con encadenamiento hacia adelante\n",
    "Y_ = model(X)\n",
    "\n",
    "# Evaluamos el error\n",
    "loss = loss_fn(Y, Y_)\n",
    "\n",
    "# Limpiamos tensores para gradientes\n",
    "model.zero_grad()\n",
    "\n",
    "# Solicitamos el cálculo del gradiente del error\n",
    "loss.backward()"
   ]
  },
  {
   "cell_type": "code",
   "execution_count": 13,
   "id": "aaa33f10-f7c7-4e37-9e35-272b9c711609",
   "metadata": {},
   "outputs": [],
   "source": [
    "# Parámetros entrenables de la red\n",
    "params = list(model.parameters())"
   ]
  },
  {
   "cell_type": "code",
   "execution_count": 14,
   "id": "8d12f1cf-9482-490d-85fa-a2af8f2b2fd7",
   "metadata": {},
   "outputs": [
    {
     "name": "stdout",
     "output_type": "stream",
     "text": [
      "Parámetro: \n",
      "Parameter containing:\n",
      "tensor([[-0.8970],\n",
      "        [ 0.8394],\n",
      "        [ 0.5433]], requires_grad=True)\n",
      "Gradiente: \n",
      "tensor([[2.0877e-11],\n",
      "        [5.1388e-10],\n",
      "        [3.1033e-09]])\n",
      "\n",
      "Parámetro: \n",
      "Parameter containing:\n",
      "tensor([-0.5377, -0.9846,  0.2311], requires_grad=True)\n",
      "Gradiente: \n",
      "tensor([2.0924e-09, 2.6820e-09, 5.8222e-08])\n",
      "\n",
      "Parámetro: \n",
      "Parameter containing:\n",
      "tensor([[ 0.1623, -0.0404, -0.1615],\n",
      "        [-0.4309,  0.0273, -0.2729],\n",
      "        [ 0.0781, -0.1184,  0.5349]], requires_grad=True)\n",
      "Gradiente: \n",
      "tensor([[-2.7301e-07, -2.2296e-07, -4.2809e-07],\n",
      "        [-1.0586e-07, -8.6583e-08, -1.6617e-07],\n",
      "        [ 2.7510e-08,  2.2380e-08,  4.3021e-08]])\n",
      "\n",
      "Parámetro: \n",
      "Parameter containing:\n",
      "tensor([ 0.3574, -0.2453, -0.1843], requires_grad=True)\n",
      "Gradiente: \n",
      "tensor([-7.5589e-07, -2.9331e-07,  7.6024e-08])\n",
      "\n",
      "Parámetro: \n",
      "Parameter containing:\n",
      "tensor([[-0.5551, -0.0659,  0.0861],\n",
      "        [-0.2938, -0.0884, -0.1914],\n",
      "        [ 0.2067,  0.2197, -0.0146]], requires_grad=True)\n",
      "Gradiente: \n",
      "tensor([[ 2.1357e-06,  1.3551e-06,  1.9522e-06],\n",
      "        [ 2.3758e-07,  1.5074e-07,  2.1715e-07],\n",
      "        [-2.5857e-06, -1.6405e-06, -2.3634e-06]])\n",
      "\n",
      "Parámetro: \n",
      "Parameter containing:\n",
      "tensor([-0.3311,  0.1251, -0.0382], requires_grad=True)\n",
      "Gradiente: \n",
      "tensor([ 3.6979e-06,  4.1134e-07, -4.4768e-06])\n",
      "\n",
      "Parámetro: \n",
      "Parameter containing:\n",
      "tensor([[ 0.0244,  0.0624, -0.1485],\n",
      "        [ 0.1731, -0.2969, -0.5600],\n",
      "        [ 0.4386,  0.1396, -0.2317]], requires_grad=True)\n",
      "Gradiente: \n",
      "tensor([[7.8228e-06, 1.0259e-05, 1.2123e-05],\n",
      "        [4.7019e-06, 6.1661e-06, 7.2868e-06],\n",
      "        [1.0629e-05, 1.3939e-05, 1.6473e-05]])\n",
      "\n",
      "Parámetro: \n",
      "Parameter containing:\n",
      "tensor([0.5253, 0.0163, 0.3953], requires_grad=True)\n",
      "Gradiente: \n",
      "tensor([2.2517e-05, 1.3534e-05, 3.0595e-05])\n",
      "\n",
      "Parámetro: \n",
      "Parameter containing:\n",
      "tensor([[ 0.2413,  0.1195, -0.0048],\n",
      "        [-0.0172,  0.0221,  0.4728],\n",
      "        [-0.4213, -0.2182, -0.1262]], requires_grad=True)\n",
      "Gradiente: \n",
      "tensor([[ 9.4991e-05,  6.3124e-05,  9.5145e-05],\n",
      "        [ 1.4622e-04,  9.7166e-05,  1.4646e-04],\n",
      "        [-9.1574e-05, -6.0853e-05, -9.1722e-05]])\n",
      "\n",
      "Parámetro: \n",
      "Parameter containing:\n",
      "tensor([ 0.1348, -0.3428, -0.4772], requires_grad=True)\n",
      "Gradiente: \n",
      "tensor([ 0.0002,  0.0002, -0.0001])\n",
      "\n",
      "Parámetro: \n",
      "Parameter containing:\n",
      "tensor([[ 0.0918,  0.0409,  0.2337],\n",
      "        [-0.0967,  0.5594, -0.3327],\n",
      "        [ 0.4316,  0.2846, -0.3786]], requires_grad=True)\n",
      "Gradiente: \n",
      "tensor([[0.0004, 0.0003, 0.0002],\n",
      "        [0.0005, 0.0004, 0.0003],\n",
      "        [0.0009, 0.0007, 0.0004]])\n",
      "\n",
      "Parámetro: \n",
      "Parameter containing:\n",
      "tensor([0.4977, 0.4211, 0.0705], requires_grad=True)\n",
      "Gradiente: \n",
      "tensor([0.0006, 0.0009, 0.0015])\n",
      "\n",
      "Parámetro: \n",
      "Parameter containing:\n",
      "tensor([[ 0.1004,  0.4266,  0.1615],\n",
      "        [-0.0143, -0.4641,  0.0903],\n",
      "        [-0.1849,  0.3200, -0.4591]], requires_grad=True)\n",
      "Gradiente: \n",
      "tensor([[ 0.0164,  0.0158,  0.0147],\n",
      "        [ 0.0088,  0.0085,  0.0079],\n",
      "        [-0.0015, -0.0014, -0.0013]])\n",
      "\n",
      "Parámetro: \n",
      "Parameter containing:\n",
      "tensor([0.4102, 0.0161, 0.4839], requires_grad=True)\n",
      "Gradiente: \n",
      "tensor([ 0.0250,  0.0134, -0.0023])\n",
      "\n",
      "Parámetro: \n",
      "Parameter containing:\n",
      "tensor([[ 0.4004,  0.1829, -0.0312]], requires_grad=True)\n",
      "Gradiente: \n",
      "tensor([[0.2075, 0.1312, 0.1703]])\n",
      "\n",
      "Parámetro: \n",
      "Parameter containing:\n",
      "tensor([0.4585], requires_grad=True)\n",
      "Gradiente: \n",
      "tensor([0.2970])\n",
      "\n"
     ]
    }
   ],
   "source": [
    "# Cada componente del gradiente, que acaba de ser\n",
    "# calculado, con respecto\n",
    "# a un parámetro se encuentra almacenado al\n",
    "# lado del tensor que contiene al parámetro.\n",
    "\n",
    "for t in params:\n",
    "    print(\"Parámetro: \")\n",
    "    print(t)\n",
    "    print(\"Gradiente: \")\n",
    "    print(t.grad)\n",
    "    print()"
   ]
  },
  {
   "cell_type": "code",
   "execution_count": 15,
   "id": "99cdb523-9f89-486b-a5cc-0153c9e14b6e",
   "metadata": {},
   "outputs": [],
   "source": [
    "def linealiza_params(params):\n",
    "    params_list = []\n",
    "    grad_list = []\n",
    "    for t in params:\n",
    "        nparams = torch.reshape(t, (-1,)).detach().numpy()\n",
    "        for p in nparams:\n",
    "           params_list.append(p) \n",
    "        ngrads = torch.reshape(t.grad, (-1,)).detach().numpy()\n",
    "        for g in ngrads:\n",
    "            grad_list.append(g)\n",
    "    return params_list, grad_list"
   ]
  },
  {
   "cell_type": "code",
   "execution_count": 16,
   "id": "6803529b-344f-4691-965a-69f1c6acd513",
   "metadata": {},
   "outputs": [
    {
     "data": {
      "image/png": "[encoded data removed]",
      "text/plain": [
       "<Figure size 864x432 with 2 Axes>"
      ]
     },
     "metadata": {},
     "output_type": "display_data"
    }
   ],
   "source": [
    "def plot_magnitudes(params, f_act_name=\"Sigmoide\"):\n",
    "    \"\"\"\n",
    "    Graficamos el valor de gradiente para cada capa\n",
    "    \"\"\"\n",
    "    params_list, grad_list = linealiza_params(params)\n",
    "    x = np.arange(len(params_list))\n",
    "    \n",
    "    fig, axes = plt.subplots(1, 2, figsize=(12,6))\n",
    "    axes[0].bar(x, params_list)\n",
    "    axes[0].set_title(\"Magnitudes de los pesos\")\n",
    "    axes[0].set_xlabel(\"$w_i$\")\n",
    "    axes[1].bar(x, grad_list)\n",
    "    axes[1].set_title(f\"Componentes del gradiente \\n{f_act_name}\")\n",
    "    axes[1].set_xlabel(\"$\\partial /\\partial w_i$\")\n",
    "plot_magnitudes(params)"
   ]
  },
  {
   "cell_type": "markdown",
   "id": "50b07e55-67ca-496d-981c-af3290f4b69d",
   "metadata": {},
   "source": [
    "# Otras funciones de activación"
   ]
  },
  {
   "cell_type": "code",
   "execution_count": 17,
   "id": "8b9c390c-4018-4757-b361-ff19d4922d72",
   "metadata": {},
   "outputs": [],
   "source": [
    "# Versión interactiva\n",
    "from ipywidgets import interact_manual\n",
    "import ipywidgets as widgets"
   ]
  },
  {
   "cell_type": "code",
   "execution_count": 24,
   "id": "08f78b3c-1f85-4cce-bd96-b172ac690d84",
   "metadata": {},
   "outputs": [
    {
     "data": {
      "application/vnd.jupyter.widget-view+json": {
       "model_id": "dacc0a71131442dfa9ebdc9259625874",
       "version_major": 2,
       "version_minor": 0
      },
      "text/plain": [
       "interactive(children=(SelectionSlider(description='activacion_nombre', options=('Tanh', 'LogSigmoid', 'ReLU', …"
      ]
     },
     "metadata": {},
     "output_type": "display_data"
    }
   ],
   "source": [
    "modelo_experimento = None\n",
    "fs_activacion = {\"Tanh\": nn.Tanh,\n",
    "                 \"LogSigmoid\": nn.LogSigmoid,\n",
    "                 \"ReLU\": nn.ReLU,\n",
    "                 \"LeakyReLU\": nn.LeakyReLU,\n",
    "                 \"Sigmoid\": nn.Sigmoid\n",
    "                }\n",
    "@interact_manual(\n",
    "    activacion_nombre = widgets.SelectionSlider(\n",
    "        options = [\"Tanh\",\n",
    "                   \"LogSigmoid\",\n",
    "                   \"ReLU\",\n",
    "                   \"LeakyReLU\",\n",
    "                   \"Sigmoid\"\n",
    "                  ]\n",
    "    )\n",
    ")\n",
    "def experimenta(activacion_nombre):\n",
    "    global modelo_experimento\n",
    "    modelo_experimento = model = DeepNeuralNetwork([3] * 7, fs_activacion[activacion_nombre])\n",
    "    \n",
    "    # Evaluamos la función de la red con encadenamiento hacia adelante\n",
    "    Y_ = model(X)\n",
    "\n",
    "    # Evaluamos el error\n",
    "    loss = loss_fn(Y, Y_)\n",
    "\n",
    "    # Limpiamos tensores para gradientes\n",
    "    model.zero_grad()\n",
    "\n",
    "    # Solicitamos el cálculo del gradiente del error\n",
    "    loss.backward()\n",
    "    \n",
    "    plot_magnitudes(list(model.parameters()), activacion_nombre)"
   ]
  },
  {
   "cell_type": "markdown",
   "id": "0bbb1008-b48a-4734-93ac-6508f8aeafb9",
   "metadata": {},
   "source": [
    "# Tras el entrenamiento\n",
    "\n",
    "La siguiente celda permite entrenar el modelo y visualizar qué pasa con los pesos y los gradientes"
   ]
  },
  {
   "cell_type": "code",
   "execution_count": 19,
   "id": "8d07ee19-e9b2-41bd-9a37-00b4602161f5",
   "metadata": {},
   "outputs": [],
   "source": [
    "import math"
   ]
  },
  {
   "cell_type": "code",
   "execution_count": 25,
   "id": "e5665e32-b0fe-48cd-ab68-72ed041790f0",
   "metadata": {},
   "outputs": [],
   "source": [
    "def train(X, Y, model, learning_rate, num_steps):\n",
    "    \"\"\"\n",
    "    Función que realiza el entrenamiento:\n",
    "    Intentará reducir la distancia entre los valores que salen\n",
    "    de la red y lo que deseamos modificando los pesos de la red.\n",
    "    \"\"\"\n",
    "    size = len(X)\n",
    "    loss_fn = nn.MSELoss()\n",
    "    # Misma alfa para todos los pesos:\n",
    "    optimizer = torch.optim.SGD(model.parameters(), lr=learning_rate)\n",
    "    \n",
    "    # Utiliza momentos para actualizar alfa\n",
    "    # sobre parámetros individuales\n",
    "    #optimizer = torch.optim.Adam(model.parameters(), lr=learning_rate)\n",
    "    step_report = 100\n",
    "    num_reports = int(math.ceil(num_steps/step_report))\n",
    "    e = np.zeros(num_reports)\n",
    "    for i in range(num_steps):\n",
    "        # Predicción y error\n",
    "        Y_hat = model(X)\n",
    "        loss = loss_fn(Y_hat, Y)\n",
    "        \n",
    "        # Reduciendo el error\n",
    "        optimizer.zero_grad()\n",
    "        loss.backward()\n",
    "        optimizer.step()\n",
    "        \n",
    "        # Cómo vamos\n",
    "        if i % step_report == 0:\n",
    "            num_report = int(i/step_report)\n",
    "            e[num_report] = loss.item()\n",
    "            #print(f\"{num_report} loss: {loss:>7f}\")\n",
    "    #plt.plot(e)\n",
    "    return Y_hat, e"
   ]
  },
  {
   "cell_type": "code",
   "execution_count": 26,
   "id": "882d00b3-a380-414e-9a59-aff765c74af8",
   "metadata": {},
   "outputs": [
    {
     "data": {
      "application/vnd.jupyter.widget-view+json": {
       "model_id": "8598903365b14123bfe0bf2e29e5fec9",
       "version_major": 2,
       "version_minor": 0
      },
      "text/plain": [
       "interactive(children=(FloatLogSlider(value=1000.0, description='pasos', max=5.0, min=3.0, step=0.2), Button(de…"
      ]
     },
     "metadata": {},
     "output_type": "display_data"
    }
   ],
   "source": [
    "@interact_manual(\n",
    "    pasos = widgets.FloatLogSlider(value=1000,\n",
    "                                   base=10,\n",
    "                                   min=3, # min exponent of base\n",
    "                                   max=5, # min exponent of base\n",
    "                                   step=0.2), # exponent step, \n",
    ")\n",
    "def experimenta(pasos):\n",
    "    n_pasos = int(pasos)\n",
    "    \n",
    "    global modelo_experimento\n",
    "    y_pred, e = train(X, Y, modelo_experimento, 0.01, n_pasos)\n",
    "    y_pred = y_pred.detach().numpy()\n",
    "    \n",
    "    params_list, grad_list = linealiza_params(params)\n",
    "    \n",
    "    fig, axes = plt.subplots(2, 2, figsize=(12,12))\n",
    "    axes[0][0].plot(np.arange(len(e))*100,e)\n",
    "    axes[0][0].set_title(\"Error vs pasos\")\n",
    "    axes[0][0].set_xlabel('pasos')\n",
    "    axes[0][0].set_ylabel('error')\n",
    "    \n",
    "    axes[0][1].plot(torch.reshape(X, (-1,)).detach().numpy(), y_pred)\n",
    "    axes[0][1].set_title(\"$\\hat{y}(x)$\")\n",
    "    axes[0][1].set_xlabel('$x$')\n",
    "    axes[0][1].set_ylabel('$y$')\n",
    "    \n",
    "    x = np.arange(len(params_list))\n",
    "    axes[1][0].bar(x, params_list)\n",
    "    axes[1][0].set_title(\"Magnitudes de los pesos\")\n",
    "    axes[1][0].set_xlabel(\"$w_i$\")\n",
    "    axes[1][1].bar(x, grad_list)\n",
    "    axes[1][1].set_title(f\"Componentes del gradiente\")\n",
    "    axes[1][1].set_xlabel(\"$\\partial /\\partial w_i$\")"
   ]
  },
  {
   "cell_type": "code",
   "execution_count": null,
   "id": "fe61286f-b2bd-44fb-bd17-2545dcd7e1ff",
   "metadata": {},
   "outputs": [],
   "source": []
  }
 ],
 "metadata": {
  "kernelspec": {
   "display_name": "Python 3 (ipykernel)",
   "language": "python",
   "name": "python3"
  },
  "language_info": {
   "codemirror_mode": {
    "name": "ipython",
    "version": 3
   },
   "file_extension": ".py",
   "mimetype": "text/x-python",
   "name": "python",
   "nbconvert_exporter": "python",
   "pygments_lexer": "ipython3",
   "version": "3.10.6"
  }
 },
 "nbformat": 4,
 "nbformat_minor": 5
}
