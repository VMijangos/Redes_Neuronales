{
 "cells": [
  {
   "cell_type": "markdown",
   "id": "94ed7030",
   "metadata": {},
   "source": [
    "# Early Stopping\n",
    "\n",
    "El método de early stoppin es un método de regularización que se basa en evaluar los datos sobre un conjunto de validación para evitar que haya sobre ajuste, guardando los pesos de la red antes del sobre-ajuste."
   ]
  },
  {
   "cell_type": "code",
   "execution_count": 1,
   "id": "2c7f63c7",
   "metadata": {},
   "outputs": [],
   "source": [
    "import numpy as np\n",
    "import matplotlib.pyplot as plt\n",
    "import torch\n",
    "import torch.nn as nn\n",
    "from sklearn.model_selection import train_test_split\n",
    "from sklearn.metrics import classification_report, accuracy_score\n",
    "from sklearn.datasets import load_digits"
   ]
  },
  {
   "cell_type": "markdown",
   "id": "22638c20",
   "metadata": {},
   "source": [
    "## Definición de la red\n",
    "\n",
    "Definimos una arquitectura simple de red. Además dentro del módulo incorporamos la fase de entrenamiento y el cálculo del riesgo para facilitar su uso."
   ]
  },
  {
   "cell_type": "code",
   "execution_count": 2,
   "id": "e7c0be81",
   "metadata": {},
   "outputs": [],
   "source": [
    "class FeedForward(nn.Module):\n",
    "    def __init__(self, n_inputs, n_outputs, hidden_units=100):\n",
    "        super().__init__()\n",
    "        self.ffw = nn.Sequential(nn.Linear(n_inputs, hidden_units), nn.Tanh(),\n",
    "                                 nn.Linear(hidden_units, n_outputs), nn.Softmax(1))\n",
    "        self.risk_function = nn.CrossEntropyLoss()\n",
    "        self.optimizer = torch.optim.Adam(self.ffw.parameters(), lr=0.1)\n",
    "    \n",
    "    def forward(self, x):\n",
    "        f = self.ffw(x)\n",
    "        \n",
    "        return f\n",
    "        \n",
    "    def loss(self, x, y):\n",
    "        \"\"\"Cálculo del riesgo\"\"\"\n",
    "        result = self.forward(x)\n",
    "        \n",
    "        return float(self.risk_function(result, y).detach().numpy())\n",
    "    \n",
    "    def train(self, x, y, epochs=1):\n",
    "        \"\"\"Entrenamiento de la red\"\"\"\n",
    "        for i in range(epochs):\n",
    "            y_hat = self.forward(x)\n",
    "            self.optimizer.zero_grad()\n",
    "            loss = self.risk_function(y_hat, y_train)\n",
    "            loss.backward()\n",
    "            self.optimizer.step()"
   ]
  },
  {
   "cell_type": "markdown",
   "id": "e65dd398",
   "metadata": {},
   "source": [
    "## Preparación de los datos\n",
    "\n",
    "Usamos el dataset de MNIST para hacer clasificación en 10 clases (digitos)."
   ]
  },
  {
   "cell_type": "code",
   "execution_count": 3,
   "id": "e865ccbb",
   "metadata": {},
   "outputs": [
    {
     "name": "stdout",
     "output_type": "stream",
     "text": [
      ".. _digits_dataset:\n",
      "\n",
      "Optical recognition of handwritten digits dataset\n",
      "--------------------------------------------------\n",
      "\n",
      "**Data Set Characteristics:**\n",
      "\n",
      "    :Number of Instances: 5620\n",
      "    :Number of Attributes: 64\n",
      "    :Attribute Information: 8x8 image of integer pixels in the range 0..16.\n",
      "    :Missing Attribute Values: None\n",
      "    :Creator: E. Alpaydin (alpaydin '@' boun.edu.tr)\n",
      "    :Date: July; 1998\n",
      "\n",
      "This is a copy of the test set of the UCI ML hand-written digits datasets\n",
      "https://archive.ics.uci.edu/ml/datasets/Optical+Recognition+of+Handwritten+Digits\n",
      "\n",
      "The data set contains images of hand-written digits: 10 classes where\n",
      "each class refers to a digit.\n",
      "\n",
      "Preprocessing programs made available by NIST were used to extract\n",
      "normalized bitmaps of handwritten digits from a preprinted form. From a\n",
      "total of 43 people, 30 contributed to the training set and different 13\n",
      "to the test set. 32x32 bitmaps are divided into nonoverlapping blocks of\n",
      "4x4 and the number of on pixels are counted in each block. This generates\n",
      "an input matrix of 8x8 where each element is an integer in the range\n",
      "0..16. This reduces dimensionality and gives invariance to small\n",
      "distortions.\n",
      "\n",
      "For info on NIST preprocessing routines, see M. D. Garris, J. L. Blue, G.\n",
      "T. Candela, D. L. Dimmick, J. Geist, P. J. Grother, S. A. Janet, and C.\n",
      "L. Wilson, NIST Form-Based Handprint Recognition System, NISTIR 5469,\n",
      "1994.\n",
      "\n",
      ".. topic:: References\n",
      "\n",
      "  - C. Kaynak (1995) Methods of Combining Multiple Classifiers and Their\n",
      "    Applications to Handwritten Digit Recognition, MSc Thesis, Institute of\n",
      "    Graduate Studies in Science and Engineering, Bogazici University.\n",
      "  - E. Alpaydin, C. Kaynak (1998) Cascading Classifiers, Kybernetika.\n",
      "  - Ken Tang and Ponnuthurai N. Suganthan and Xi Yao and A. Kai Qin.\n",
      "    Linear dimensionalityreduction using relevance weighted LDA. School of\n",
      "    Electrical and Electronic Engineering Nanyang Technological University.\n",
      "    2005.\n",
      "  - Claudio Gentile. A New Approximate Maximal Margin Classification\n",
      "    Algorithm. NIPS. 2000.\n"
     ]
    }
   ],
   "source": [
    "data = load_digits()\n",
    "X = torch.Tensor(data.data)\n",
    "Y = torch.LongTensor(data.target)\n",
    "\n",
    "print(data.DESCR)"
   ]
  },
  {
   "cell_type": "markdown",
   "id": "5a64144d",
   "metadata": {},
   "source": [
    "Los datos deben separarse en 3 subconjuntos: entrenamiento, validación y evaluación. La validación la tomamos de la parte del entrenamiento. La validación servirá para evaluar el error de generalziación en las iteraciones del entrenamiento."
   ]
  },
  {
   "cell_type": "code",
   "execution_count": 4,
   "id": "e04e4bf6",
   "metadata": {},
   "outputs": [
    {
     "name": "stdout",
     "output_type": "stream",
     "text": [
      "Train: 1131, Validation: 126, Test: 540\n",
      "Train: 1131, Validation: 126, Test: 540\n"
     ]
    }
   ],
   "source": [
    "x_train1, x_test, y_train1, y_test = train_test_split(X,Y, test_size=0.3)\n",
    "x_train, x_val, y_train, y_val = train_test_split(x_train1,y_train1, test_size=0.1)\n",
    "\n",
    "print('Train: {}, Validation: {}, Test: {}'.format(len(x_train), len(x_val), len(x_test)))\n",
    "print('Train: {}, Validation: {}, Test: {}'.format(len(y_train), len(y_val), len(y_test)))"
   ]
  },
  {
   "cell_type": "markdown",
   "id": "bd57e348",
   "metadata": {},
   "source": [
    "### Modelo\n",
    "\n",
    "Obtenemos el modelo de la red:"
   ]
  },
  {
   "cell_type": "code",
   "execution_count": 5,
   "id": "d939a38b",
   "metadata": {},
   "outputs": [],
   "source": [
    "model = FeedForward(n_inputs=64,n_outputs=10)"
   ]
  },
  {
   "cell_type": "markdown",
   "id": "0f18011f",
   "metadata": {},
   "source": [
    "## Aplicación de early stopping\n",
    "\n",
    "El early stopping buscará los pesos de la red que minimicen no sólo el error de entrenamiento, sino tambień el de validación. Guardára cada cierto tiempo los pesos y revisará si comienza a haber o no overfitting. Cuando los pesos de validación suben, aunque el entrenamiento sigue bajando, el algoritmo se dentendrá después de esperar un $p$ número de pasos o paciencia."
   ]
  },
  {
   "cell_type": "code",
   "execution_count": 6,
   "id": "3a46ee98",
   "metadata": {},
   "outputs": [
    {
     "name": "stdout",
     "output_type": "stream",
     "text": [
      "Error en entrenamiento 2.26888108253479,  Error en validación 2.241121292114258\n",
      "Error en entrenamiento 2.2507166862487793,  Error en validación 2.2309203147888184\n",
      "Error en entrenamiento 2.240143299102783,  Error en validación 2.2189126014709473\n",
      "Error en entrenamiento 2.2403218746185303,  Error en validación 2.2184784412384033\n",
      "Error en entrenamiento 2.233842611312866,  Error en validación 2.213031530380249\n",
      "Error en entrenamiento 2.2320868968963623,  Error en validación 2.2113468647003174\n"
     ]
    }
   ],
   "source": [
    "train = []\n",
    "val = []\n",
    "train_acc = []\n",
    "val_acc = []\n",
    "\n",
    "#Pasos entre evaluaciones\n",
    "s = 10\n",
    "#Paciencoa\n",
    "p = 100\n",
    "#Variables de pasos\n",
    "i, j = 0, 0\n",
    "#Riesgo inicial\n",
    "err = np.inf\n",
    "#Pesos óptimos iniciales\n",
    "weight_opt = model.state_dict()\n",
    "#Épocas óptimas iniciales\n",
    "i_opt = i\n",
    "while j < p:\n",
    "    #Entrena el modelo\n",
    "    model.train(x_train, y_train, epochs=s)\n",
    "    weight = model.state_dict()\n",
    "    #Riesgo de entrenamiento\n",
    "    risk = model.loss(x_train, y_train)\n",
    "    #Aumenta épocas por número de pasos\n",
    "    i += s\n",
    "    #Riesgo de validación\n",
    "    err_val = model.loss(x_val, y_val)\n",
    "    \n",
    "    #Guarda riesgos y accuracies\n",
    "    train.append(risk)\n",
    "    val.append(err_val)\n",
    "    train_acc.append(accuracy_score(y_train, model(x_train).argmax(axis=1)))\n",
    "    val_acc.append(accuracy_score(y_val, model(x_val).argmax(axis=1)))\n",
    "    \n",
    "    if err_val < err:\n",
    "        #Si se reduce el riesgo de validación\n",
    "        j, i_opt = 0, i\n",
    "        #actualiza el nuevo riesgo\n",
    "        err = err_val\n",
    "        #guarda los pesos óptimos\n",
    "        weight_opt = weight\n",
    "        \n",
    "        print('Error en entrenamiento {},  Error en validación {}'.format(risk, err_val))\n",
    "    else:\n",
    "        j += 1"
   ]
  },
  {
   "cell_type": "markdown",
   "id": "63d426db",
   "metadata": {},
   "source": [
    "Podemos recuperar el número de épocas óptimas para alcanzar el menor riesgo de validación."
   ]
  },
  {
   "cell_type": "code",
   "execution_count": 7,
   "id": "e7b9dda0",
   "metadata": {},
   "outputs": [
    {
     "name": "stdout",
     "output_type": "stream",
     "text": [
      "80\n"
     ]
    }
   ],
   "source": [
    "print(i_opt)"
   ]
  },
  {
   "cell_type": "markdown",
   "id": "82fc57af",
   "metadata": {},
   "source": [
    "### Visualización del comportamiento de entrenamiento y validación"
   ]
  },
  {
   "cell_type": "code",
   "execution_count": 8,
   "id": "63127c64",
   "metadata": {},
   "outputs": [
    {
     "data": {
      "image/png": "[encoded data removed]",
      "text/plain": [
       "<Figure size 432x288 with 1 Axes>"
      ]
     },
     "metadata": {
      "needs_background": "light"
     },
     "output_type": "display_data"
    }
   ],
   "source": [
    "plt.plot(train, 'g', label='Entrenamiento')\n",
    "plt.plot(val, 'r', label='Validación')\n",
    "plt.legend(loc='upper right')\n",
    "plt.title('Riesgo del modelo')\n",
    "plt.xlabel('Épocas')\n",
    "plt.ylabel('Riesgo')\n",
    "plt.show()"
   ]
  },
  {
   "cell_type": "code",
   "execution_count": 9,
   "id": "3b3bf112",
   "metadata": {},
   "outputs": [
    {
     "data": {
      "image/png": "[encoded data removed]",
      "text/plain": [
       "<Figure size 432x288 with 1 Axes>"
      ]
     },
     "metadata": {
      "needs_background": "light"
     },
     "output_type": "display_data"
    }
   ],
   "source": [
    "plt.plot(train_acc, 'g', label='Entrenamiento')\n",
    "plt.plot(val_acc, 'r', label='Validación')\n",
    "plt.title('Accuracy del modelo')\n",
    "plt.xlabel('Épocas')\n",
    "plt.ylabel('Accuracy')\n",
    "plt.show()"
   ]
  },
  {
   "cell_type": "markdown",
   "id": "fef3a741",
   "metadata": {},
   "source": [
    "### Evaluación del modelo\n",
    "\n",
    "Evaluamos el modelo usando los pesos óptimos:"
   ]
  },
  {
   "cell_type": "code",
   "execution_count": 11,
   "id": "5dd0bbf4",
   "metadata": {},
   "outputs": [
    {
     "name": "stdout",
     "output_type": "stream",
     "text": [
      "              precision    recall  f1-score   support\n",
      "\n",
      "           0       0.00      0.00      0.00        12\n",
      "           1       0.00      0.00      0.00        13\n",
      "           2       0.81      0.94      0.87        18\n",
      "           3       0.00      0.00      0.00         9\n",
      "           4       0.00      0.00      0.00        12\n",
      "           5       0.10      1.00      0.17        10\n",
      "           6       0.00      0.00      0.00        14\n",
      "           7       0.00      0.00      0.00        18\n",
      "           8       0.00      0.00      0.00         9\n",
      "           9       0.00      0.00      0.00        11\n",
      "\n",
      "    accuracy                           0.21       126\n",
      "   macro avg       0.09      0.19      0.10       126\n",
      "weighted avg       0.12      0.21      0.14       126\n",
      "\n",
      "2.218461275100708\n"
     ]
    }
   ],
   "source": [
    "#Cargamos los pesos óptimos\n",
    "model.load_state_dict(weight_opt)\n",
    "#Aplicamos el modelo con pesos óptimos\n",
    "y_hat = model(x_val).argmax(axis=1)\n",
    "\n",
    "#Evaluamos\n",
    "print(classification_report(y_val,y_hat))\n",
    "print(model.loss(x_val, y_val))"
   ]
  },
  {
   "cell_type": "markdown",
   "id": "8e4d4456",
   "metadata": {},
   "source": [
    "   "
   ]
  }
 ],
 "metadata": {
  "kernelspec": {
   "display_name": "Python 3",
   "language": "python",
   "name": "python3"
  },
  "language_info": {
   "codemirror_mode": {
    "name": "ipython",
    "version": 3
   },
   "file_extension": ".py",
   "mimetype": "text/x-python",
   "name": "python",
   "nbconvert_exporter": "python",
   "pygments_lexer": "ipython3",
   "version": "3.8.8"
  }
 },
 "nbformat": 4,
 "nbformat_minor": 5
}
