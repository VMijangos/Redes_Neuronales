{
 "cells": [
  {
   "cell_type": "markdown",
   "metadata": {},
   "source": [
    "# Aplicación de un algoritmo de Aprendizaje de Máquina\n",
    "\n",
    "Cuando llevamos a la práctica el aprendizaje de máquina, generalmente seguimos una metodología bien establecidad que nos dice qué pasos seguir para llevar a cabo la aplicación de un algoritmo de aprendizaje a un problema específico.\n",
    "\n",
    "Si bien cada algorimto y cada problema presenta particularidades que deben ser exploradas, existe una metodología general que buscaremos abordar aquí. Esta metodología consiste, básicamente, en los siguientes pasos:\n",
    "\n",
    "* Preparación de los datos: obtener representaciones vectoriales de nuestro problema. Saber si contamos o no con supervisación, pues esto determinará la familia de algoritmos que podremos aplicar.\n",
    "* Obtención de datasets: Se separarán los datos en dos subconjuntos:\n",
    "    * Conjunto de entrenamiento: Sirve para estimar el modelo de aprendizaje. Generalmente es el 70\\% de los datos totales.\n",
    "    * Conjunto de evaluación: Nos servirá para evaluar el desempeño final del modelo de aprendizaje. Generalmente es el 30 \\% de los datos totales.\n",
    "    * Muchas veces, se tomará también un conjunto de validación. Generalmente se toma el 10 \\% de los datos totales (en este caso, la evaluación será el 20\\%).\n",
    "* Selección de un algoritmo de aprendizaje: Esto dependerá de varios factores, como el problema o tarea que nos enfrentamos (si es clasificacion, aprendizaje reforzado), el tipo de datos (supervisados, no supervisados), la cantidad de datos, etc.\n",
    "* Entrenamiento: En el entrenamiento, la máquina \"aprenderá\" un modelo de aprendizaje. En este paso, será importante ajustar hiperparámetros del modelo (generalmente con un conjunto de validación).\n",
    "* Evaluación: Finalmente, se determinará que tan bien generaliza lo aprendido la máquina de aprendizaje. Para esto, se tomará una métrica de evaluación que cuantitativamente muestre la capacidad de nuestro modelo de aprendizaje."
   ]
  },
  {
   "cell_type": "markdown",
   "metadata": {},
   "source": [
    "### Preparación de los datos\n",
    "\n",
    "Los algoritmos de aprendizaje de máquina trabajan con datos representados por vectores en $\\mathbb{R}^d$. Estos datos se obtienen a partir de un <b>generador</b> que determina la distribución original de éstos. \n",
    "\n",
    "Aquí tomaremos un ejemplo muy sencillo de <b>clasificación</b>: buscaremos una máquina de aprendizaje que pueda decidir si un objeto (representado por un vector de rasgos) es o no un gato.\n",
    "\n",
    "Utilizaremos las siguientes paqueterías:"
   ]
  },
  {
   "cell_type": "code",
   "execution_count": 1,
   "metadata": {},
   "outputs": [],
   "source": [
    "import pandas as pd\n",
    "import numpy as np"
   ]
  },
  {
   "cell_type": "markdown",
   "metadata": {},
   "source": [
    "Cargaremos un archivo de datos. Este archivo es originalmente un csv en que cada columna representa un rasgo de nuestros datos."
   ]
  },
  {
   "cell_type": "code",
   "execution_count": 2,
   "metadata": {},
   "outputs": [
    {
     "data": {
      "text/html": [
       "<div>\n",
       "<style scoped>\n",
       "    .dataframe tbody tr th:only-of-type {\n",
       "        vertical-align: middle;\n",
       "    }\n",
       "\n",
       "    .dataframe tbody tr th {\n",
       "        vertical-align: top;\n",
       "    }\n",
       "\n",
       "    .dataframe thead th {\n",
       "        text-align: right;\n",
       "    }\n",
       "</style>\n",
       "<table border=\"1\" class=\"dataframe\">\n",
       "  <thead>\n",
       "    <tr style=\"text-align: right;\">\n",
       "      <th></th>\n",
       "      <th>¿es animal?</th>\n",
       "      <th>¿es mamífero?</th>\n",
       "      <th>¿es felino?</th>\n",
       "      <th>¿es doméstico?</th>\n",
       "      <th>¿tiene dos orejas?</th>\n",
       "      <th>¿es negro?</th>\n",
       "      <th>¿tiene cuatro patas?</th>\n",
       "      <th>¿es gato?</th>\n",
       "    </tr>\n",
       "  </thead>\n",
       "  <tbody>\n",
       "    <tr>\n",
       "      <th>0</th>\n",
       "      <td>1</td>\n",
       "      <td>1</td>\n",
       "      <td>1</td>\n",
       "      <td>1</td>\n",
       "      <td>1</td>\n",
       "      <td>1</td>\n",
       "      <td>1</td>\n",
       "      <td>1</td>\n",
       "    </tr>\n",
       "    <tr>\n",
       "      <th>1</th>\n",
       "      <td>0</td>\n",
       "      <td>0</td>\n",
       "      <td>0</td>\n",
       "      <td>1</td>\n",
       "      <td>0</td>\n",
       "      <td>1</td>\n",
       "      <td>0</td>\n",
       "      <td>0</td>\n",
       "    </tr>\n",
       "    <tr>\n",
       "      <th>2</th>\n",
       "      <td>1</td>\n",
       "      <td>0</td>\n",
       "      <td>1</td>\n",
       "      <td>1</td>\n",
       "      <td>0</td>\n",
       "      <td>1</td>\n",
       "      <td>1</td>\n",
       "      <td>0</td>\n",
       "    </tr>\n",
       "    <tr>\n",
       "      <th>3</th>\n",
       "      <td>1</td>\n",
       "      <td>1</td>\n",
       "      <td>0</td>\n",
       "      <td>1</td>\n",
       "      <td>1</td>\n",
       "      <td>0</td>\n",
       "      <td>1</td>\n",
       "      <td>0</td>\n",
       "    </tr>\n",
       "    <tr>\n",
       "      <th>4</th>\n",
       "      <td>1</td>\n",
       "      <td>1</td>\n",
       "      <td>1</td>\n",
       "      <td>0</td>\n",
       "      <td>1</td>\n",
       "      <td>0</td>\n",
       "      <td>1</td>\n",
       "      <td>0</td>\n",
       "    </tr>\n",
       "    <tr>\n",
       "      <th>5</th>\n",
       "      <td>1</td>\n",
       "      <td>1</td>\n",
       "      <td>1</td>\n",
       "      <td>1</td>\n",
       "      <td>0</td>\n",
       "      <td>0</td>\n",
       "      <td>0</td>\n",
       "      <td>1</td>\n",
       "    </tr>\n",
       "    <tr>\n",
       "      <th>6</th>\n",
       "      <td>1</td>\n",
       "      <td>0</td>\n",
       "      <td>0</td>\n",
       "      <td>1</td>\n",
       "      <td>1</td>\n",
       "      <td>1</td>\n",
       "      <td>0</td>\n",
       "      <td>0</td>\n",
       "    </tr>\n",
       "    <tr>\n",
       "      <th>7</th>\n",
       "      <td>1</td>\n",
       "      <td>1</td>\n",
       "      <td>1</td>\n",
       "      <td>1</td>\n",
       "      <td>0</td>\n",
       "      <td>0</td>\n",
       "      <td>1</td>\n",
       "      <td>1</td>\n",
       "    </tr>\n",
       "    <tr>\n",
       "      <th>8</th>\n",
       "      <td>1</td>\n",
       "      <td>0</td>\n",
       "      <td>0</td>\n",
       "      <td>1</td>\n",
       "      <td>0</td>\n",
       "      <td>0</td>\n",
       "      <td>0</td>\n",
       "      <td>0</td>\n",
       "    </tr>\n",
       "    <tr>\n",
       "      <th>9</th>\n",
       "      <td>0</td>\n",
       "      <td>0</td>\n",
       "      <td>0</td>\n",
       "      <td>0</td>\n",
       "      <td>0</td>\n",
       "      <td>0</td>\n",
       "      <td>0</td>\n",
       "      <td>0</td>\n",
       "    </tr>\n",
       "    <tr>\n",
       "      <th>10</th>\n",
       "      <td>1</td>\n",
       "      <td>1</td>\n",
       "      <td>1</td>\n",
       "      <td>0</td>\n",
       "      <td>1</td>\n",
       "      <td>1</td>\n",
       "      <td>1</td>\n",
       "      <td>0</td>\n",
       "    </tr>\n",
       "    <tr>\n",
       "      <th>11</th>\n",
       "      <td>1</td>\n",
       "      <td>1</td>\n",
       "      <td>1</td>\n",
       "      <td>0</td>\n",
       "      <td>1</td>\n",
       "      <td>0</td>\n",
       "      <td>1</td>\n",
       "      <td>0</td>\n",
       "    </tr>\n",
       "    <tr>\n",
       "      <th>12</th>\n",
       "      <td>1</td>\n",
       "      <td>1</td>\n",
       "      <td>1</td>\n",
       "      <td>1</td>\n",
       "      <td>1</td>\n",
       "      <td>0</td>\n",
       "      <td>1</td>\n",
       "      <td>1</td>\n",
       "    </tr>\n",
       "    <tr>\n",
       "      <th>13</th>\n",
       "      <td>1</td>\n",
       "      <td>1</td>\n",
       "      <td>1</td>\n",
       "      <td>1</td>\n",
       "      <td>1</td>\n",
       "      <td>0</td>\n",
       "      <td>0</td>\n",
       "      <td>1</td>\n",
       "    </tr>\n",
       "  </tbody>\n",
       "</table>\n",
       "</div>"
      ],
      "text/plain": [
       "    ¿es animal?   ¿es mamífero?   ¿es felino?   ¿es doméstico?  \\\n",
       "0             1               1             1                1   \n",
       "1             0               0             0                1   \n",
       "2             1               0             1                1   \n",
       "3             1               1             0                1   \n",
       "4             1               1             1                0   \n",
       "5             1               1             1                1   \n",
       "6             1               0             0                1   \n",
       "7             1               1             1                1   \n",
       "8             1               0             0                1   \n",
       "9             0               0             0                0   \n",
       "10            1               1             1                0   \n",
       "11            1               1             1                0   \n",
       "12            1               1             1                1   \n",
       "13            1               1             1                1   \n",
       "\n",
       "     ¿tiene dos orejas?   ¿es negro?   ¿tiene cuatro patas?   ¿es gato?  \n",
       "0                     1            1                      1           1  \n",
       "1                     0            1                      0           0  \n",
       "2                     0            1                      1           0  \n",
       "3                     1            0                      1           0  \n",
       "4                     1            0                      1           0  \n",
       "5                     0            0                      0           1  \n",
       "6                     1            1                      0           0  \n",
       "7                     0            0                      1           1  \n",
       "8                     0            0                      0           0  \n",
       "9                     0            0                      0           0  \n",
       "10                    1            1                      1           0  \n",
       "11                    1            0                      1           0  \n",
       "12                    1            0                      1           1  \n",
       "13                    1            0                      0           1  "
      ]
     },
     "execution_count": 2,
     "metadata": {},
     "output_type": "execute_result"
    }
   ],
   "source": [
    "data = pd.read_csv('cat_data.csv')\n",
    "data"
   ]
  },
  {
   "cell_type": "markdown",
   "metadata": {},
   "source": [
    "Contamos con 14 datos (renglones). Cada uno de estos datos cuenta con 8 rasgos que lo describen (columnas). Sin embargo, el último rasgo (última columna) es la clasificación a la que pertenece cada objetos; es decir, la variable \"¿es gato?\" es precisamente el problema que queremos resolver. \n",
    "\n",
    "Denotaremos cada ejemplo como un vector:\n",
    "\n",
    "$$x = (X_1,...,X_n)$$\n",
    "\n",
    "Donde $X_i$, $i=1,...,n$ es una variable (columna) que representa un rasgo de ese dato especifico. \n",
    "\n",
    "##### Obtención de la supervisación\n",
    "\n",
    "Como hemos observados, la última variable responde a la clase del objeto (si es gato o no lo es), por lo que tomaremos esta columna como el objetivo de la clasificación. Para esto, separaremos esta matriz en los vectores que representan los objetos ($X$) y sus clases ($Y$)."
   ]
  },
  {
   "cell_type": "code",
   "execution_count": 3,
   "metadata": {},
   "outputs": [],
   "source": [
    "#Convertir los datos a numpy\n",
    "npData = data.to_numpy()\n",
    "#Ejemplos\n",
    "X = npData[:,:-1]\n",
    "#Clases de los ejemplos\n",
    "Y = npData[:,-1]\n",
    "\n",
    "#Tamaño de los datos\n",
    "#Unidades de entrada\n",
    "m,n = X.shape"
   ]
  },
  {
   "cell_type": "markdown",
   "metadata": {},
   "source": [
    "Los datos $X$ es una matriz del número de datos por la dimensión de estos. Cada renglón representa un dato de entrada, estos son vectores $x= (X_1,...,X_7) \\in \\mathbb{R}^7$. \n",
    "\n",
    "La supervisación $Y$ es un vector que asigna a cada dato una clase: 1 si es gato, 0 si no es gato.\n",
    "\n",
    "Finalmente, podemos decir que tenemos un conjunto supervisado dado por:\n",
    "\n",
    "$$\\mathcal{S} = \\{(x,y) : x \\in \\mathbb{R}^7, y \\in \\{0,1\\}\\}$$\n",
    "\n",
    "Cada par $(x,y)$ representa un vector/dato de entrada y su clase $y$ (si es o no gato). Por lo que se puede ver que el problema es una clasificación binaria."
   ]
  },
  {
   "cell_type": "code",
   "execution_count": 4,
   "metadata": {},
   "outputs": [
    {
     "name": "stdout",
     "output_type": "stream",
     "text": [
      "[[1 1 1 1 1 1 1]\n",
      " [0 0 0 1 0 1 0]\n",
      " [1 0 1 1 0 1 1]\n",
      " [1 1 0 1 1 0 1]\n",
      " [1 1 1 0 1 0 1]\n",
      " [1 1 1 1 0 0 0]\n",
      " [1 0 0 1 1 1 0]\n",
      " [1 1 1 1 0 0 1]\n",
      " [1 0 0 1 0 0 0]\n",
      " [0 0 0 0 0 0 0]\n",
      " [1 1 1 0 1 1 1]\n",
      " [1 1 1 0 1 0 1]\n",
      " [1 1 1 1 1 0 1]\n",
      " [1 1 1 1 1 0 0]]\n",
      "[1 0 0 0 0 1 0 1 0 0 0 0 1 1]\n"
     ]
    }
   ],
   "source": [
    "print(X)\n",
    "print(Y)"
   ]
  },
  {
   "cell_type": "markdown",
   "metadata": {},
   "source": [
    "Finalmente, podemos identificar aquí los elementos de un problema de aprendizaje para este caso particular:\n",
    "\n",
    "* <b>Tarea</b>: Clasificar un objeto en la clase \"gato\" (1) o \"no gato\" (0).\n",
    "* <b>Experiencia</b>: Un conjunto de datos (vectores) con variables que describen los objetos, así como la clase asociada a cada dato.\n",
    "* <b>Medida de desempeño</b>: Determinaremos el desempeño según la máquina sea capaz de clasificar adecuadamente un objeto en las clases gato o no gato."
   ]
  },
  {
   "cell_type": "markdown",
   "metadata": {},
   "source": [
    "### Obtención de datasets\n",
    "\n",
    "Ahora que tenemos los datos (o experiencia) necesitamos separar estos datos en entrenamiento y evaluación (no usaremos validación aquí).\n",
    "\n",
    "Para hacer esto tomaremos un 70\\% para entrenamiento y un 30\\% de la evaluación: la selección de ambos conjuntos se hará aleatoriamente. Asimismo, nos deberemos asegurar que ningún dato de entrenamiento se encuentre en la evaluación, es decir, que no se repitan datos entre ambos conjuntos.\n",
    "\n",
    "Para hacer esta selección utilizaremos la paquetería <b>SKLearn</b> que nos permite exportar la función <i>train_test_split</i> que separa los datos aleatoria y disjuntamente asignándole un tamaño a la evaluación."
   ]
  },
  {
   "cell_type": "code",
   "execution_count": 5,
   "metadata": {},
   "outputs": [],
   "source": [
    "#Importamos la paquetería necesaria\n",
    "from sklearn.model_selection import train_test_split\n",
    "\n",
    "#Separamos los datos con la función train_test_split\n",
    "#El conjutno de evaluación será del 30% (0.3)\n",
    "X_train, X_test, Y_train, Y_test = train_test_split(X,Y, test_size=0.3)"
   ]
  },
  {
   "cell_type": "code",
   "execution_count": 6,
   "metadata": {},
   "outputs": [
    {
     "name": "stdout",
     "output_type": "stream",
     "text": [
      "Elementos en el entrenamiento: 9\n",
      "Elementos en la evaluación: 5\n"
     ]
    }
   ],
   "source": [
    "print('Elementos en el entrenamiento: {}\\nElementos en la evaluación: {}'.format(len(X_train), len(X_test)))"
   ]
  },
  {
   "cell_type": "markdown",
   "metadata": {},
   "source": [
    "Ya que contamos sólo con 14 datos, 9 de estos (70\\%) forman parte del entrenamiento y los 5 (30\\%) restantes de la evaluación."
   ]
  },
  {
   "cell_type": "markdown",
   "metadata": {},
   "source": [
    "### Selección de algoritmo y entrenamiento\n",
    "\n",
    "Una vez que hemos preparado los datos y los hemos separado en entrenamiento y evaluación, necesitamos elegir un algoritmo. \n",
    "\n",
    "Dado que tenemos un problema supervisado, debemos seleccionar un algoritmo de aprendizaje supervisado. Seleccionaremos el método de <b>Bayes ingenuo</b> que es un algoritmo basado en inferencia bayesiana. No profundizaremos en este método; usaremos, de nuevo, la paquetería de SKLearn."
   ]
  },
  {
   "cell_type": "code",
   "execution_count": 7,
   "metadata": {},
   "outputs": [],
   "source": [
    "from sklearn.naive_bayes import CategoricalNB as Bayes"
   ]
  },
  {
   "cell_type": "markdown",
   "metadata": {},
   "source": [
    "El algoritmo de Bayes ingenuo tiene pocos hiperparámetros, en este caso se cuenta con una hiperparámetro (alpha) que se encarga de ajustar las probabilidades (<i>smoothing</i>), pero en el que no porfundizaremos."
   ]
  },
  {
   "cell_type": "code",
   "execution_count": 8,
   "metadata": {},
   "outputs": [],
   "source": [
    "LM = Bayes(alpha=1)"
   ]
  },
  {
   "cell_type": "markdown",
   "metadata": {},
   "source": [
    "Una vez que hemos determinado nuestra máquina de aprendizaje, procederemos a entrenarlo. El entrenamiento consiste en aprender los parámetros que se ajusten mejor a los datos de entrenamiento. Cada método de aprendizaje tiene parámetros específicos que debe aprender. No profindizaremos en esto.\n",
    "\n",
    "Es importante señalar que el entrenamiento se hace a partir de los datos de entrenamiento ($X$ y $Y$) y únicamente de estos. En este paso, la máquina de aprendizaje no debe tener ningún contacto con el conjunto de evaluación."
   ]
  },
  {
   "cell_type": "code",
   "execution_count": 9,
   "metadata": {},
   "outputs": [
    {
     "data": {
      "text/plain": [
       "CategoricalNB(alpha=1)"
      ]
     },
     "execution_count": 9,
     "metadata": {},
     "output_type": "execute_result"
    }
   ],
   "source": [
    "LM.fit(X_train, Y_train)"
   ]
  },
  {
   "cell_type": "markdown",
   "metadata": {},
   "source": [
    "El resultado del entrenamiento es un modelo de aprendizaje: este modelo consiste en la máquina de aprendizaje con los parámetros que mejor se ajustan a los datos. Es decir, bajo estos parámetros deseamos que la máquina de aprendizaje sea capaz de generalizar el conocimiento que adquirió de los datos de entrenamiento. "
   ]
  },
  {
   "cell_type": "markdown",
   "metadata": {},
   "source": [
    "### Evaluación\n",
    "\n",
    "Para saber qué tan bien la máquina de aprendizaje \"aprendio\", evaluaremos su desempeño: es decir, la capacidad de generalizar que tiene la máquina.\n",
    "\n",
    "Para esto, aplicaremos el modelo de aprendizaje a datos que no hayan sido vistos antes. Estos datos son precisamente los datos de evaluación. Por esta razón es importante que durante el entrenamiento la máquina de aprendizaje no haya tenido contacto con ellos. \n",
    "\n",
    "Podemos entonces aplicar el modelo de aprendizaje a estos datos."
   ]
  },
  {
   "cell_type": "code",
   "execution_count": 10,
   "metadata": {},
   "outputs": [
    {
     "name": "stdout",
     "output_type": "stream",
     "text": [
      "[1 1 1 1 0]\n"
     ]
    }
   ],
   "source": [
    "#Aplicamos el modelo a los datos de evaluación\n",
    "Y_LM = LM.predict(X_test)\n",
    "\n",
    "print(Y_LM)"
   ]
  },
  {
   "cell_type": "markdown",
   "metadata": {},
   "source": [
    "En este caso, la máquina propone una clasificación posible que, espereamos, sea lo más parecido a la clasificación lineal. Para evaluar esto, utilizaremos un concepto central de los métodos de evaluación, la <b>matriz de confusión</b>. Esta matriz nos muestra el número de elementos positivos (que fueron clasificados como \"gato\" o 1) y los elementos negativos (\"que fueron clasificados como \"no gato\" o 0) tanto de la clasificación de la máquina, como la clasificación del supervisor. \n",
    "\n",
    " <table style=\"width:50%\">\n",
    "  <tr>\n",
    "    <td></td>\n",
    "    <th>Negativos (S)</th>\n",
    "    <th>Positivos (S)</th>\n",
    "  </tr>\n",
    "  <tr>\n",
    "    <th>Negativos (LM)</th>\n",
    "    <td>Verdaderos Negativos (TN)</td>\n",
    "    <td>Falsos Negativos (FN)</td>\n",
    "  </tr>\n",
    "  <tr>\n",
    "    <th>Positivos (LM)</th>\n",
    "    <td>Falsos Positivos (FP)</td>\n",
    "    <td>Verdaderos Positivos (TP)</td>\n",
    "  </tr>\n",
    "</table> \n",
    "\n",
    "La matriz de confusión nos da los siguientes elementos:\n",
    "\n",
    "* TN: los elementos clasificados como negativos por la máquina que en verdad eran negativos (acierto).\n",
    "* FN: los elementos clasificados como negativos por la máquina pero que eran positivos (error).\n",
    "* FP: los elementos clasificados como positivos por la máquina pero que eran negativos (error).\n",
    "* TP: los elementos clasificados como positivos por la máquina que en verdad eran positivos (acierto)."
   ]
  },
  {
   "cell_type": "code",
   "execution_count": 11,
   "metadata": {},
   "outputs": [
    {
     "data": {
      "text/html": [
       "<div>\n",
       "<style scoped>\n",
       "    .dataframe tbody tr th:only-of-type {\n",
       "        vertical-align: middle;\n",
       "    }\n",
       "\n",
       "    .dataframe tbody tr th {\n",
       "        vertical-align: top;\n",
       "    }\n",
       "\n",
       "    .dataframe thead th {\n",
       "        text-align: right;\n",
       "    }\n",
       "</style>\n",
       "<table border=\"1\" class=\"dataframe\">\n",
       "  <thead>\n",
       "    <tr style=\"text-align: right;\">\n",
       "      <th></th>\n",
       "      <th>Negativos (LM)</th>\n",
       "      <th>Positivos (LM)</th>\n",
       "    </tr>\n",
       "  </thead>\n",
       "  <tbody>\n",
       "    <tr>\n",
       "      <th>Negativos (S)</th>\n",
       "      <td>1</td>\n",
       "      <td>2</td>\n",
       "    </tr>\n",
       "    <tr>\n",
       "      <th>Positivos (S)</th>\n",
       "      <td>0</td>\n",
       "      <td>2</td>\n",
       "    </tr>\n",
       "  </tbody>\n",
       "</table>\n",
       "</div>"
      ],
      "text/plain": [
       "               Negativos (LM)  Positivos (LM)\n",
       "Negativos (S)               1               2\n",
       "Positivos (S)               0               2"
      ]
     },
     "execution_count": 11,
     "metadata": {},
     "output_type": "execute_result"
    }
   ],
   "source": [
    "#Paqutería necesaria\n",
    "from sklearn.metrics import confusion_matrix\n",
    "\n",
    "#Visualización de la matriz de confusión\n",
    "pd.DataFrame(data=confusion_matrix(Y_test,Y_LM), \n",
    "             index=['Negativos (S)','Positivos (S)'], columns=['Negativos (LM)','Positivos (LM)'])"
   ]
  },
  {
   "cell_type": "markdown",
   "metadata": {},
   "source": [
    "Aquí S es el supervisor, la categoría real, y LM la clasificación que hace la máquina. El cruce de estos dos elementos nos indica cuántos elementos positivos reales fueron clasificados comompositivos por la máquina. De igual forma para los negativos. Cada entrada de la matriz nos dice cuántos elementos positivos o negativos del supervisor fueron clasificados de esta forma por la máquina."
   ]
  },
  {
   "cell_type": "markdown",
   "metadata": {},
   "source": [
    "#### Selección de métrica de evaluación\n",
    "\n",
    "Para obtener una evaluación numérica podemos utilizar los resultados de la matriz de confusión. Existen diferentes métricas de evaluación. Una forma muy común de evaluar es la <b>Accuracy</b> o Exactitud, que está determinada como:\n",
    "\n",
    "$$Acc = \\frac{TP + TN}{TN+FN+FP+TP}$$\n",
    "\n",
    "Otras medidas de evaluación son la precisión y el recall:\n",
    "\n",
    "$$Prec = \\frac{TP}{TP+FP}$$\n",
    "\n",
    "$$Rec = \\frac{TP}{TP+FN}$$\n",
    "\n",
    "Finalmente la métrica $F_1$ nos da un promedio geométrico de ambas métricas:\n",
    "\n",
    "$$F_1 = 2\\cdot \\frac{Prec \\cdot Rec}{Prec + Rec}$$\n",
    "\n",
    "Estas métricas pueden obtenerse de la paquetería de <i>skleanr</i> en el módulo de <i>metrics</i>.\n",
    "\n",
    "<!--Esta métrica de evaluación nos dice qué tanto acertó la máquina. Así, para el caso anterior tenemos un Accuracy de $3/5 =0.6$; es decir, podemos decir que la máquina acierta un <b>60\\%</b> de las veces.-->"
   ]
  },
  {
   "cell_type": "code",
   "execution_count": 12,
   "metadata": {},
   "outputs": [
    {
     "name": "stdout",
     "output_type": "stream",
     "text": [
      "              precision    recall  f1-score   support\n",
      "\n",
      "           0       1.00      0.33      0.50         3\n",
      "           1       0.50      1.00      0.67         2\n",
      "\n",
      "    accuracy                           0.60         5\n",
      "   macro avg       0.75      0.67      0.58         5\n",
      "weighted avg       0.80      0.60      0.57         5\n",
      "\n"
     ]
    }
   ],
   "source": [
    "#Paqutería necesaria\n",
    "from sklearn.metrics import classification_report\n",
    "\n",
    "#Reporte de clasificación\n",
    "print(classification_report(Y_test,Y_LM))"
   ]
  },
  {
   "cell_type": "markdown",
   "metadata": {},
   "source": [
    "Además de estás métricas, la función de <i>classification report</i> nos da un promedio y un promedio ponderado. Ya que las métricas de precisión, recall y $F_1$ trabajan por cada una de las clases, estos promedios nos dan una noción general de estos. Son los promedios de las métricas a través de las clases.\n",
    "\n",
    "El <i>macro average</i> es simplemente el promedio de cada métrica a través de las diferentes clases:\n",
    "\n",
    "$$macro\\_avg = \\sum_{i=1}^n metric(i)$$\n",
    "donde $metric(i)$ es cualquiera de las métricas (precision, recall o $f_1$ aplicada en la clase $i$. \n",
    "\n",
    "Por su parte el <i>weighted average</i> es el promedio ponderado por la probabilidad (o el valor esperado) de esa métrica en una clase:\n",
    "\n",
    "$$weighted\\_avg = \\sum_{i=1}^n p(i) \\cdot metric(i)$$\n",
    "donde $p(i)$ es el número de instancias (support) entre el total."
   ]
  }
 ],
 "metadata": {
  "kernelspec": {
   "display_name": "Python 3 (ipykernel)",
   "language": "python",
   "name": "python3"
  },
  "language_info": {
   "codemirror_mode": {
    "name": "ipython",
    "version": 3
   },
   "file_extension": ".py",
   "mimetype": "text/x-python",
   "name": "python",
   "nbconvert_exporter": "python",
   "pygments_lexer": "ipython3",
   "version": "3.10.6"
  }
 },
 "nbformat": 4,
 "nbformat_minor": 4
}
