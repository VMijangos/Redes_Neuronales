{
 "cells": [
  {
   "cell_type": "markdown",
   "id": "e5054399-d979-4d02-a245-c50f3beb30c7",
   "metadata": {},
   "source": [
    "# Teorema del aproximador universal\n",
    "[CHAPTER 4. A visual proof that neural nets can compute any function](http://neuralnetworksanddeeplearning.com/chap4.html)"
   ]
  },
  {
   "cell_type": "markdown",
   "id": "b6ce05b5-2b8b-401c-b834-c4331103cf80",
   "metadata": {},
   "source": [
    "## Comprendiendo la función de activación\n",
    "\n",
    "Consideremos el funcionamiento de un solo perceptrón:\n",
    "\n",
    "<center><img src=\"./figuras/Perceptron.png\"></center>\n",
    "\n",
    "con las funciones:\n",
    "\\begin{align}\n",
    "\\sigma(z) &= \\frac{1}{1 + e^{-z}} \\\\\n",
    "   z &= wx+b\n",
    "\\end{align}\n",
    "\n",
    "Juega con los parámetros $w$ y $b$ para ver su efecto en la función de salida."
   ]
  },
  {
   "cell_type": "code",
   "execution_count": 3,
   "id": "b5861986-edf6-48d7-ad7d-bcdbb53cb20b",
   "metadata": {},
   "outputs": [],
   "source": [
    "import numpy as np\n",
    "import matplotlib.pyplot as plt\n",
    "plt.style.use('ggplot')\n",
    "from ipywidgets import interact\n",
    "import ipywidgets as widgets"
   ]
  },
  {
   "cell_type": "code",
   "execution_count": 11,
   "id": "637622ef-7a79-49c1-9542-b51d3176f1f1",
   "metadata": {},
   "outputs": [
    {
     "data": {
      "application/vnd.jupyter.widget-view+json": {
       "model_id": "eb68ccf257ce4d35ac1946cedea9fbb6",
       "version_major": 2,
       "version_minor": 0
      },
      "text/plain": [
       "interactive(children=(FloatLogSlider(value=8.0, description='w', max=2.5, min=-2.0), FloatSlider(value=3.0, de…"
      ]
     },
     "metadata": {},
     "output_type": "display_data"
    }
   ],
   "source": [
    "@interact(\n",
    "    w = widgets.FloatLogSlider(value=8, base=10,\n",
    "        min=-2, # max exponent of base\n",
    "        max=2.5, # min exponent of base\n",
    "    ),\n",
    "    b = widgets.FloatSlider(value=3, min=-15, max=15),\n",
    ")\n",
    "def plot_perceptron_function(w, b):\n",
    "    fig, axes = plt.subplots(1, 2, figsize=(12,6))\n",
    "    x = np.linspace(-2,2)\n",
    "    z = w * x + b\n",
    "    sigma_z = 1 / (1 + np.exp(-z))\n",
    "    \n",
    "    axes[0].plot(x,z)\n",
    "    axes[1].plot(x,sigma_z)\n",
    "    \n",
    "    axes[0].set_title(\"$z = wx + b$\")\n",
    "    axes[1].set_title(\"$\\sigma(x) = 1/(1 + e^{-(wx+b)})$\")\n",
    "    axes[0].set_xlabel(\"$x$\")\n",
    "    axes[1].set_xlabel(\"$x$\")\n",
    "    axes[0].set_ylabel(\"$z$\")\n",
    "    axes[1].set_ylabel(\"$\\sigma(x)$\")"
   ]
  },
  {
   "cell_type": "markdown",
   "id": "aedca596-7a4d-4418-a4e6-07f348622f23",
   "metadata": {},
   "source": [
    "## Parametrización por frontera\n",
    "\n",
    "Para valores muy grandes de $w$ tenemos casi una función escalón.  Su posición está dada por:\n",
    "\n",
    "\\begin{align}\n",
    " s = -\\frac{b}{w}\n",
    "\\end{align}"
   ]
  },
  {
   "cell_type": "code",
   "execution_count": 21,
   "id": "560d96ae-4428-4235-881c-2888d9c2f13a",
   "metadata": {},
   "outputs": [
    {
     "data": {
      "application/vnd.jupyter.widget-view+json": {
       "model_id": "af0b3b74b67f4066a24f70f4e127aece",
       "version_major": 2,
       "version_minor": 0
      },
      "text/plain": [
       "interactive(children=(FloatSlider(value=0.1, description='s', max=1.5, min=-2.0), Output()), _dom_classes=('wi…"
      ]
     },
     "metadata": {},
     "output_type": "display_data"
    }
   ],
   "source": [
    "@interact(\n",
    "    s = widgets.FloatSlider(value=0.1, min=-2, max=1.5),\n",
    ")\n",
    "def plot_perceptron_function(s):\n",
    "    w = 200\n",
    "    b = -s*w\n",
    "    \n",
    "    x = np.linspace(-2,2)\n",
    "    z = w * x + b\n",
    "    sigma_z = 1 / (1 + np.exp(-z))\n",
    "    \n",
    "    plt.plot(x, sigma_z, label=f\"$s = {s}$\")\n",
    "    plt.title(\"$\\sigma(x) = 1/(1 + e^{-(wx+b)})$\")\n",
    "    plt.xlabel(\"$x$\")\n",
    "    plt.ylabel(\"$\\sigma(x)$\")\n",
    "    plt.legend()"
   ]
  },
  {
   "cell_type": "markdown",
   "id": "3e0e6210-502b-4884-845e-22db0ea531ce",
   "metadata": {},
   "source": [
    "## Interacción entre perceptrones\n",
    "\n",
    "Utilizamos ahora dos perceptrones aproximando un escalón para generar los bloques constructores de esta muestra.\n",
    "\n",
    "<center><img src=\"./figuras/Red2.png\"></center>"
   ]
  },
  {
   "cell_type": "code",
   "execution_count": 31,
   "id": "7ef511d3-86ed-4d53-be1c-4055914270cd",
   "metadata": {},
   "outputs": [
    {
     "data": {
      "application/vnd.jupyter.widget-view+json": {
       "model_id": "4d807a4c91194b46847d844d56e6e81a",
       "version_major": 2,
       "version_minor": 0
      },
      "text/plain": [
       "interactive(children=(FloatSlider(value=0.4, description='s1', max=1.5, min=-1.0, step=0.02), FloatSlider(valu…"
      ]
     },
     "metadata": {},
     "output_type": "display_data"
    }
   ],
   "source": [
    "@interact(\n",
    "    s1 = widgets.FloatSlider(value=0.4, min=-1, max=1.5, step=0.02),\n",
    "    s2 = widgets.FloatSlider(value=0.6, min=-1, max=1.5, step=0.02),\n",
    "    w1 = widgets.FloatSlider(value=0.6, min=-2, max=2, step=0.02),\n",
    "    w2 = widgets.FloatSlider(value=1.2, min=-2, max=2, step=0.02),\n",
    ")\n",
    "def plot_two_perceptrons(s1,s2,w1,w2):\n",
    "    w = 200\n",
    "    b1_1 = -s1*w\n",
    "    b2_1 = -s2*w\n",
    "    \n",
    "    x = np.linspace(-2,2)\n",
    "    z1 = w * x + b1_1\n",
    "    sigma_z1 = 1 / (1 + np.exp(-z1))\n",
    "    z2 = w * x + b2_1\n",
    "    sigma_z2 = 1 / (1 + np.exp(-z2))\n",
    "    \n",
    "    y = w1 * sigma_z1 + w2 * sigma_z2\n",
    "    \n",
    "    plt.plot(x, y, label=f\"$s_1={s1},s_2={s2},w_1={w1},w_2={w2}$\")\n",
    "    plt.title(\"$f(x) = w_1 a_1 + w_2 a_2$\")\n",
    "    plt.xlabel(\"$x$\")\n",
    "    plt.ylabel(\"$y$\")\n",
    "    plt.legend()"
   ]
  },
  {
   "cell_type": "markdown",
   "id": "b4ba8a1b-cb56-4593-a2ca-5f07977107f5",
   "metadata": {},
   "source": [
    "# Aproximación\n",
    "\n",
    "Propongamos como ejemplo la función de una dimensión:\n",
    "\\begin{align}\n",
    "  f(x) = \\frac{x}{2} \\left(\\text{sen}(20x) - \\text{cos}\\left(\\frac{20}{3}x\\right)\\right)\n",
    "\\end{align}"
   ]
  },
  {
   "cell_type": "code",
   "execution_count": 33,
   "id": "fe5a9225-7da6-477b-b886-7cd70418683c",
   "metadata": {},
   "outputs": [],
   "source": [
    "def f(x):\n",
    "    \"\"\"\n",
    "    Función objetivo.\n",
    "    \"\"\"\n",
    "    return x/2 * (np.sin(20*x) - np.cos(20*x/3))"
   ]
  },
  {
   "cell_type": "code",
   "execution_count": 47,
   "id": "2b05889f-95c2-498b-aa20-151767085f4f",
   "metadata": {},
   "outputs": [
    {
     "data": {
      "application/vnd.jupyter.widget-view+json": {
       "model_id": "17d7c669d52b43d0b836c873c0057e94",
       "version_major": 2,
       "version_minor": 0
      },
      "text/plain": [
       "interactive(children=(FloatSlider(value=0.01, description='h1', max=1.0, min=-1.0, step=0.02), FloatSlider(val…"
      ]
     },
     "metadata": {},
     "output_type": "display_data"
    }
   ],
   "source": [
    "# Sólo por ilustrar el concepto,\n",
    "# graficaremos barras directamente en lugar de \n",
    "# evaluar los pares de perceptrones.\n",
    "@interact(\n",
    "    h1 = widgets.FloatSlider(value=0.01, min=-1, max=1, step=0.02),\n",
    "    h2 = widgets.FloatSlider(value=-0.1, min=-1, max=1, step=0.02),\n",
    "    h3 = widgets.FloatSlider(value=0.38, min=-1, max=1, step=0.02),\n",
    "    h4 = widgets.FloatSlider(value=-0.04, min=-1, max=1, step=0.02),\n",
    "    h5 = widgets.FloatSlider(value=0.34, min=-1, max=1, step=0.02),\n",
    "    h6 = widgets.FloatSlider(value=-0.82, min=-1, max=1, step=0.02),\n",
    ")\n",
    "def plot_approx(h1, h2, h3, h4, h5, h6):\n",
    "    hs = [h1,h2,h3,h4,h5,h6]\n",
    "    num_bars = len(hs)\n",
    "    x = np.arange(0, 1, 0.02)\n",
    "    y = f(x)\n",
    "    \n",
    "    for i, h in enumerate(hs):\n",
    "        plt.bar((i+0.5)/num_bars,h, width=1/num_bars)\n",
    "    plt.plot(x, y, label=\"f(x)\")\n",
    "    plt.title(\"$f(x) = x sin(x) - x cos(x/3)$\")\n",
    "    plt.xlabel(\"$x$\")\n",
    "    plt.ylabel(\"$y$\")\n",
    "    plt.legend()"
   ]
  },
  {
   "cell_type": "code",
   "execution_count": null,
   "id": "bb2e6038-27c1-4962-a129-e14aa2bac753",
   "metadata": {},
   "outputs": [],
   "source": []
  }
 ],
 "metadata": {
  "kernelspec": {
   "display_name": "Python 3 (ipykernel)",
   "language": "python",
   "name": "python3"
  },
  "language_info": {
   "codemirror_mode": {
    "name": "ipython",
    "version": 3
   },
   "file_extension": ".py",
   "mimetype": "text/x-python",
   "name": "python",
   "nbconvert_exporter": "python",
   "pygments_lexer": "ipython3",
   "version": "3.10.6"
  }
 },
 "nbformat": 4,
 "nbformat_minor": 5
}
