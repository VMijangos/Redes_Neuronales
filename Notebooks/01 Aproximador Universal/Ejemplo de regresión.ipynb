{
 "cells": [
  {
   "cell_type": "markdown",
   "id": "8cc2f9fd-6db3-4990-b9e0-1a4cf5c32bdb",
   "metadata": {
    "tags": []
   },
   "source": [
    "# Regresión\n",
    "\n",
    "Supongamos que deseamos aproximar una función arbitrariamente $f(x)$ haciendo uso de un perceptrón multicapa.  ¿En qué modo afecta el número de neuronas en la capa intermedia a la calidad de la aproximación?\n",
    "\n",
    "Propongamos como ejemplo la función de una dimensión:\n",
    "\\begin{align}\n",
    "  f(x) = \\frac{x}{2} \\left(\\text{sen}(20x) - \\text{cos}\\left(\\frac{20}{3}x\\right)\\right)\n",
    "\\end{align}"
   ]
  },
  {
   "cell_type": "code",
   "execution_count": 4,
   "id": "8a58095a-8de4-4e33-bb73-81d7a930c2be",
   "metadata": {
    "tags": []
   },
   "outputs": [],
   "source": [
    "import numpy as np"
   ]
  },
  {
   "cell_type": "code",
   "execution_count": 5,
   "id": "bea4273e-a24c-4f52-9bbc-b2289e645719",
   "metadata": {
    "tags": []
   },
   "outputs": [],
   "source": [
    "def f(x):\n",
    "    \"\"\"\n",
    "    Función objetivo.\n",
    "    Intentaremos que un perceptrón multicapa la aproxime.\n",
    "    \"\"\"\n",
    "    return x/2 * (np.sin(20*x) - np.cos(20*x/3))"
   ]
  },
  {
   "cell_type": "code",
   "execution_count": 6,
   "id": "8154358e-46a0-448e-98d0-f4e49a18cccb",
   "metadata": {
    "tags": []
   },
   "outputs": [],
   "source": [
    "# Rango de valores a estudiar\n",
    "x = np.arange(-1, 1, 0.02)\n",
    "y = f(x)"
   ]
  },
  {
   "cell_type": "code",
   "execution_count": 7,
   "id": "0c8d9657-58a8-42c2-b0da-bd3ba4a457d6",
   "metadata": {
    "tags": []
   },
   "outputs": [],
   "source": [
    "import matplotlib.pyplot as plt\n",
    "plt.style.use('ggplot')"
   ]
  },
  {
   "cell_type": "code",
   "execution_count": 9,
   "id": "97a8721f-85e0-4a73-9358-aca570cebf16",
   "metadata": {
    "tags": []
   },
   "outputs": [
    {
     "data": {
      "text/plain": [
       "Text(0, 0.5, '$y$')"
      ]
     },
     "execution_count": 9,
     "metadata": {},
     "output_type": "execute_result"
    },
    {
     "data": {
      "image/png": "[encoded data removed]",
      "text/plain": [
       "<Figure size 432x288 with 1 Axes>"
      ]
     },
     "metadata": {},
     "output_type": "display_data"
    }
   ],
   "source": [
    "# Visualización de la función objetivo\n",
    "plt.plot(x, y)\n",
    "plt.title('$f(x) = \\\\frac{x}{2} \\\\left( sin(20x) - cos(\\\\frac{20}{3}x) \\\\right)$')\n",
    "plt.xlabel('$x$')\n",
    "plt.ylabel('$y$')"
   ]
  },
  {
   "cell_type": "code",
   "execution_count": 6,
   "id": "9fecbd1d-4161-4b7f-97b5-facfbff43fdd",
   "metadata": {
    "tags": []
   },
   "outputs": [],
   "source": [
    "# Instalar pyTorch según:\n",
    "# https://pytorch.org/get-started/locally/\n",
    "# Elegir versión.\n",
    "# Ej: Para ejecutar desde aquí versión para cpu descomentar\n",
    "# CUDA:\n",
    "#!pip3 install torch torchvision torchaudio --extra-index-url https://download.pytorch.org/whl/cu116\n",
    "# SIN CUDA:\n",
    "#!pip3 install torch torchvision torchaudio --extra-index-url https://download.pytorch.org/whl/cpu"
   ]
  },
  {
   "cell_type": "code",
   "execution_count": 7,
   "id": "abfc7a7c-879d-4c28-9fc3-7a569991732b",
   "metadata": {
    "tags": []
   },
   "outputs": [],
   "source": [
    "import torch\n",
    "from torch import nn"
   ]
  },
  {
   "cell_type": "code",
   "execution_count": 8,
   "id": "1a34942b-0e35-4c17-84ed-7b77f5702ad5",
   "metadata": {
    "tags": []
   },
   "outputs": [
    {
     "data": {
      "text/plain": [
       "dtype('float64')"
      ]
     },
     "execution_count": 8,
     "metadata": {},
     "output_type": "execute_result"
    }
   ],
   "source": [
    "# Vector 1D a matriz columna\n",
    "x_vec = np.reshape(x, (len(x),1))    # Arreglo de numpy\n",
    "x_vec.dtype"
   ]
  },
  {
   "cell_type": "code",
   "execution_count": 9,
   "id": "dc5c3a6e-c6a2-4956-9322-01a948ce6b41",
   "metadata": {
    "tags": []
   },
   "outputs": [
    {
     "data": {
      "text/plain": [
       "torch.float32"
      ]
     },
     "execution_count": 9,
     "metadata": {},
     "output_type": "execute_result"
    }
   ],
   "source": [
    "# Matriz de numpy a tensor de pyTorch\n",
    "X = torch.tensor(x_vec.astype(np.float32))  # Tensor 1D\n",
    "X.dtype"
   ]
  },
  {
   "cell_type": "code",
   "execution_count": 10,
   "id": "098797bd-57ce-4f83-9bd7-b8f665da6a60",
   "metadata": {
    "tags": []
   },
   "outputs": [],
   "source": [
    "# Vector de salidas esperadas\n",
    "y_vec = np.reshape(y, (len(y),1))\n",
    "Y = torch.tensor(y_vec.astype(np.float32))  # Tensor 1D"
   ]
  },
  {
   "cell_type": "code",
   "execution_count": 11,
   "id": "daffb01f-0c13-4608-92e5-f37ec0de73a7",
   "metadata": {
    "tags": []
   },
   "outputs": [],
   "source": [
    "class NeuralNetwork(nn.Module):\n",
    "    \"\"\"\n",
    "    Red neuronal de tres capas.\n",
    "    Las capas intermedias utilizan una sigmoide como función de activación.\n",
    "    La capa final sólo calcula la combinación lineal, pues la sigmoide no\n",
    "    puede salir del rango [0,1], para este problema de regresión no es\n",
    "    adecuada.\n",
    "    \"\"\"\n",
    "    def __init__(self, s1):\n",
    "        \"\"\"\n",
    "        param s1: Número de neuronas en la capa oculta\n",
    "        \"\"\"\n",
    "        super(NeuralNetwork, self).__init__()\n",
    "        self.layers_stack = nn.Sequential(\n",
    "            nn.Linear(1, s1, bias=True),\n",
    "            nn.Sigmoid(),\n",
    "            nn.Linear(s1, 1, bias=True),\n",
    "        )\n",
    "        \n",
    "    def forward(self, x):\n",
    "        \"\"\"\n",
    "        Evaluación de la red sobre la entrada x\n",
    "        usando alimentación hacia adelante para los pesos\n",
    "        actuales.\n",
    "        \"\"\"\n",
    "        logits = self.layers_stack(x)\n",
    "        return logits"
   ]
  },
  {
   "cell_type": "code",
   "execution_count": 12,
   "id": "44f71ac0-01b1-429a-85f1-4d14302c7a22",
   "metadata": {},
   "outputs": [],
   "source": [
    "import math"
   ]
  },
  {
   "cell_type": "code",
   "execution_count": 13,
   "id": "d26e9396-b289-47b8-a482-eb5626e0205d",
   "metadata": {
    "tags": []
   },
   "outputs": [],
   "source": [
    "def train(X, Y, model, learning_rate, num_steps):\n",
    "    \"\"\"\n",
    "    Función que realiza el entrenamiento:\n",
    "    Intentará reducir la distancia entre los valores que salen\n",
    "    de la red y lo que deseamos modificando los pesos de la red.\n",
    "    \"\"\"\n",
    "    size = len(X)\n",
    "    loss_fn = nn.MSELoss()\n",
    "    optimizer = torch.optim.Adam(model.parameters(), lr=learning_rate)\n",
    "    #optimizer = torch.optim.SGD(model.parameters(), lr=learning_rate)\n",
    "    step_report = 100\n",
    "    num_reports = int(math.ceil(num_steps/step_report))\n",
    "    e = np.zeros(num_reports)\n",
    "    for i in range(num_steps):\n",
    "        # Predicción y error\n",
    "        Y_hat = model(X)\n",
    "        loss = loss_fn(Y_hat, Y)\n",
    "        \n",
    "        # Reduciendo el error\n",
    "        optimizer.zero_grad()\n",
    "        loss.backward()\n",
    "        optimizer.step()\n",
    "        \n",
    "        # Cómo vamos\n",
    "        if i % step_report == 0:\n",
    "            num_report = int(i/step_report)\n",
    "            e[num_report] = loss.item()\n",
    "            #print(f\"{num_report} loss: {loss:>7f}\")\n",
    "    #plt.plot(e)\n",
    "    return Y_hat, e"
   ]
  },
  {
   "cell_type": "code",
   "execution_count": 14,
   "id": "c0aedf91-380e-47d2-b56b-d8f4136d5199",
   "metadata": {
    "tags": []
   },
   "outputs": [],
   "source": [
    "# Versión interactiva\n",
    "from ipywidgets import interact_manual\n",
    "import ipywidgets as widgets"
   ]
  },
  {
   "cell_type": "code",
   "execution_count": 17,
   "id": "c472c798-affe-4859-8c92-6dc210d5f9fb",
   "metadata": {},
   "outputs": [],
   "source": [
    "def grafica_entrenamiento(x, e, y_pred):\n",
    "    \"\"\"\n",
    "    Grafica la evolución de la función de error\n",
    "    y la función que evalúa actualmente la red.\n",
    "    \"\"\"\n",
    "    fig, axes = plt.subplots(1, 2, figsize=(12,6))\n",
    "    axes[0].plot(np.arange(len(e))*100,e)\n",
    "    axes[0].set_xlabel('pasos')\n",
    "    axes[0].set_ylabel('error')\n",
    "    axes[1].plot(x, y_pred)\n",
    "    axes[1].set_xlabel('$x$')\n",
    "    axes[1].set_ylabel('$y$')"
   ]
  },
  {
   "cell_type": "code",
   "execution_count": 18,
   "id": "bfeef0d8-07c7-439b-b99b-9a7bd09e24f3",
   "metadata": {
    "tags": []
   },
   "outputs": [
    {
     "data": {
      "application/vnd.jupyter.widget-view+json": {
       "model_id": "56be54e912f94a9fb87a3469784dbcda",
       "version_major": 2,
       "version_minor": 0
      },
      "text/plain": [
       "interactive(children=(SelectionSlider(description='s1', options=(2, 5, 50, 500, 5000), value=2), Button(descri…"
      ]
     },
     "metadata": {},
     "output_type": "display_data"
    }
   ],
   "source": [
    "learning_rates = {2: 0.025, 5: 0.0015, 50:0.001, 500:0.0005, 5000:0.0001}\n",
    "num_steps = {2: 4000, 5: 17000, 50: 10000, 500: 10000, 5000: 10000}\n",
    "model = None\n",
    "@interact_manual(\n",
    "    s1 = widgets.SelectionSlider(\n",
    "        options = [2,5,50,500,5000]\n",
    "    )\n",
    ")\n",
    "def aproxima(s1):\n",
    "    learning_rate = learning_rates[s1]\n",
    "    n_steps = num_steps[s1]\n",
    "    global model\n",
    "    model = NeuralNetwork(s1)\n",
    "    y_pred, e = train(X, Y, model, learning_rate, n_steps)\n",
    "    y_pred = y_pred.detach().numpy()\n",
    "    \n",
    "    grafica_entrenamiento(x, e, y_pred)"
   ]
  },
  {
   "cell_type": "code",
   "execution_count": 19,
   "id": "a740abee-2729-4bff-b505-d515e878e0e2",
   "metadata": {},
   "outputs": [
    {
     "data": {
      "application/vnd.jupyter.widget-view+json": {
       "model_id": "5604654bc2ed438a9957989db0933871",
       "version_major": 2,
       "version_minor": 0
      },
      "text/plain": [
       "interactive(children=(FloatLogSlider(value=0.001, description='learning_rate', max=3.0, min=-7.0, step=0.2), F…"
      ]
     },
     "metadata": {},
     "output_type": "display_data"
    }
   ],
   "source": [
    "@interact_manual(\n",
    "    learning_rate = widgets.FloatLogSlider(value=0.001,\n",
    "                                           base=10,\n",
    "                                           min=-7, # min exponent of base\n",
    "                                           max=3, # min exponent of base\n",
    "                                           step=0.2), # exponent step,\n",
    "    num_steps = widgets.FloatLogSlider(value=1000,\n",
    "                                           base=10,\n",
    "                                           min=3, # min exponent of base\n",
    "                                           max=5, # min exponent of base\n",
    "                                           step=0.2), # exponent step,\n",
    ")\n",
    "def entrena_mas(learning_rate, num_steps):\n",
    "    n_steps = int(num_steps)\n",
    "    global model\n",
    "    y_pred, e = train(X, Y, model, learning_rate, n_steps)\n",
    "    y_pred = y_pred.detach().numpy()\n",
    "    \n",
    "    grafica_entrenamiento(x, e, y_pred)"
   ]
  },
  {
   "cell_type": "code",
   "execution_count": null,
   "id": "f397c570-45ae-4b44-ab01-a08e25b278e0",
   "metadata": {},
   "outputs": [],
   "source": []
  }
 ],
 "metadata": {
  "kernelspec": {
   "display_name": "Python 3 (ipykernel)",
   "language": "python",
   "name": "python3"
  },
  "language_info": {
   "codemirror_mode": {
    "name": "ipython",
    "version": 3
   },
   "file_extension": ".py",
   "mimetype": "text/x-python",
   "name": "python",
   "nbconvert_exporter": "python",
   "pygments_lexer": "ipython3",
   "version": "3.10.6"
  }
 },
 "nbformat": 4,
 "nbformat_minor": 5
}
