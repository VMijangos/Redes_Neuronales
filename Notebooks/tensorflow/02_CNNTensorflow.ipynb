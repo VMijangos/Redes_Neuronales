{
 "cells": [
  {
   "cell_type": "markdown",
   "metadata": {
    "id": "PEYMMaqM1hsv"
   },
   "source": [
    "## Red convolucional Tensorflow\n",
    "- En este notebook se definen y regularizan arquitecturas de redes convolucionales"
   ]
  },
  {
   "cell_type": "code",
   "execution_count": 1,
   "metadata": {
    "id": "NcOcED7h0fE7"
   },
   "outputs": [],
   "source": [
    "import os\n",
    "os.environ['TF_CPP_MIN_LOG_LEVEL'] = '3' # Disable tensorflow debugging logs\n",
    "import numpy as np\n",
    "from tensorflow import keras\n",
    "import tensorflow as tf\n",
    "from tensorflow.keras import layers\n",
    "import matplotlib.pyplot as plt"
   ]
  },
  {
   "cell_type": "markdown",
   "metadata": {
    "id": "jWJ2wwp8uGXk"
   },
   "source": [
    "## 1.- Pipeline\n",
    "- El dataset cifar10 consiste de imágenes de resolución $32 \\times 32$. Al ser imágenes RGB se tienen 3 canales."
   ]
  },
  {
   "cell_type": "code",
   "execution_count": 2,
   "metadata": {
    "colab": {
     "base_uri": "https://localhost:8080/"
    },
    "id": "F-x5HOcPgwrz",
    "outputId": "a517b1d0-ff4d-409a-ab29-6361987c204d"
   },
   "outputs": [
    {
     "name": "stdout",
     "output_type": "stream",
     "text": [
      "x_train shape: (50000, 32, 32, 3)\n",
      "50000 train samples\n",
      "10000 test samples\n"
     ]
    }
   ],
   "source": [
    "num_classes = 10\n",
    "input_shape = (32, 32, 3)\n",
    "\n",
    "(x_train, y_train), (x_test, y_test) = keras.datasets.cifar10.load_data()\n",
    "\n",
    "# Scale images to the [0, 1] range\n",
    "x_train = x_train.astype(\"float32\") / 255\n",
    "x_test = x_test.astype(\"float32\") / 255\n",
    "\n",
    "# Convert y_train and y_test to one hot \n",
    "y_train = tf.keras.utils.to_categorical(\n",
    "    y_train, num_classes=num_classes, dtype='float32'\n",
    ")\n",
    "\n",
    "y_test = tf.keras.utils.to_categorical(\n",
    "    y_test, num_classes=num_classes, dtype='float32'\n",
    ")\n",
    "print(\"x_train shape:\", x_train.shape)\n",
    "print(x_train.shape[0], \"train samples\")\n",
    "print(x_test.shape[0], \"test samples\")"
   ]
  },
  {
   "cell_type": "code",
   "execution_count": 3,
   "metadata": {
    "id": "OoFP409EhUTz"
   },
   "outputs": [
    {
     "name": "stdout",
     "output_type": "stream",
     "text": [
      "[0. 0. 0. 0. 0. 0. 1. 0. 0. 0.]\n"
     ]
    },
    {
     "data": {
      "image/png": "[encoded data removed]",
      "text/plain": [
       "<Figure size 432x288 with 2 Axes>"
      ]
     },
     "metadata": {
      "needs_background": "light"
     },
     "output_type": "display_data"
    }
   ],
   "source": [
    "print(y_train[0])\n",
    "\n",
    "plt.imshow(x_train[0, :, :, :])\n",
    "plt.colorbar()\n",
    "plt.show()"
   ]
  },
  {
   "cell_type": "code",
   "execution_count": 4,
   "metadata": {
    "id": "0mtF2w7ni6f6"
   },
   "outputs": [
    {
     "data": {
      "text/plain": [
       "((50000, 32, 32, 3), (50000, 10))"
      ]
     },
     "execution_count": 4,
     "metadata": {},
     "output_type": "execute_result"
    }
   ],
   "source": [
    "x_train.shape, y_train.shape"
   ]
  },
  {
   "cell_type": "code",
   "execution_count": 5,
   "metadata": {
    "id": "0jqHzzG8kp8L"
   },
   "outputs": [],
   "source": [
    "ds_len = len(x_train)\n",
    "batch_size = 64"
   ]
  },
  {
   "cell_type": "code",
   "execution_count": 6,
   "metadata": {
    "id": "TBuQIJhUicTc"
   },
   "outputs": [
    {
     "data": {
      "text/plain": [
       "(TensorShape([64, 32, 32, 3]), TensorShape([64, 10]))"
      ]
     },
     "execution_count": 6,
     "metadata": {},
     "output_type": "execute_result"
    }
   ],
   "source": [
    "x_train = tf.data.Dataset.from_tensor_slices(x_train)\n",
    "y_train = tf.data.Dataset.from_tensor_slices(y_train)\n",
    "\n",
    "x_test = tf.data.Dataset.from_tensor_slices(x_test)\n",
    "y_test = tf.data.Dataset.from_tensor_slices(y_test)\n",
    "\n",
    "train_ds = tf.data.Dataset.zip((x_train, y_train))\n",
    "train_ds = train_ds.shuffle(len(train_ds)).batch(batch_size)\n",
    "\n",
    "test_ds = tf.data.Dataset.zip((x_test, y_test))\n",
    "test_ds = test_ds.batch(batch_size)\n",
    "\n",
    "test_batch = next(iter(train_ds))\n",
    "test_batch[0].shape, test_batch[1].shape"
   ]
  },
  {
   "cell_type": "markdown",
   "metadata": {
    "id": "NlNrRrpp3EBn"
   },
   "source": [
    "## 2.- Capas\n",
    "- Definir una clase Conv2D(tf.keras.layers.Layer) y su método build() "
   ]
  },
  {
   "cell_type": "code",
   "execution_count": 7,
   "metadata": {
    "scrolled": true,
    "tags": []
   },
   "outputs": [
    {
     "data": {
      "text/plain": [
       "<tf.Tensor: shape=(1, 32, 32, 5), dtype=float32, numpy=\n",
       "array([[[[-1.5551076 ,  0.48654872,  0.05096656, -0.53206563,\n",
       "           0.16064602],\n",
       "         [-1.5551076 ,  0.48654872,  0.05096656, -0.53206563,\n",
       "           0.16064602],\n",
       "         [-1.5551076 ,  0.48654872,  0.05096656, -0.53206563,\n",
       "           0.16064602],\n",
       "         ...,\n",
       "         [-1.5551076 ,  0.48654872,  0.05096656, -0.53206563,\n",
       "           0.16064602],\n",
       "         [-1.5551076 ,  0.48654872,  0.05096656, -0.53206563,\n",
       "           0.16064602],\n",
       "         [-0.834822  ,  0.827458  , -0.08334106, -0.8090108 ,\n",
       "           0.42283142]],\n",
       "\n",
       "        [[-1.5551076 ,  0.48654872,  0.05096656, -0.53206563,\n",
       "           0.16064602],\n",
       "         [-1.5551076 ,  0.48654872,  0.05096656, -0.53206563,\n",
       "           0.16064602],\n",
       "         [-1.5551076 ,  0.48654872,  0.05096656, -0.53206563,\n",
       "           0.16064602],\n",
       "         ...,\n",
       "         [-1.5551076 ,  0.48654872,  0.05096656, -0.53206563,\n",
       "           0.16064602],\n",
       "         [-1.5551076 ,  0.48654872,  0.05096656, -0.53206563,\n",
       "           0.16064602],\n",
       "         [-0.834822  ,  0.827458  , -0.08334106, -0.8090108 ,\n",
       "           0.42283142]],\n",
       "\n",
       "        [[-1.5551076 ,  0.48654872,  0.05096656, -0.53206563,\n",
       "           0.16064602],\n",
       "         [-1.5551076 ,  0.48654872,  0.05096656, -0.53206563,\n",
       "           0.16064602],\n",
       "         [-1.5551076 ,  0.48654872,  0.05096656, -0.53206563,\n",
       "           0.16064602],\n",
       "         ...,\n",
       "         [-1.5551076 ,  0.48654872,  0.05096656, -0.53206563,\n",
       "           0.16064602],\n",
       "         [-1.5551076 ,  0.48654872,  0.05096656, -0.53206563,\n",
       "           0.16064602],\n",
       "         [-0.834822  ,  0.827458  , -0.08334106, -0.8090108 ,\n",
       "           0.42283142]],\n",
       "\n",
       "        ...,\n",
       "\n",
       "        [[-1.5551076 ,  0.48654872,  0.05096656, -0.53206563,\n",
       "           0.16064602],\n",
       "         [-1.5551076 ,  0.48654872,  0.05096656, -0.53206563,\n",
       "           0.16064602],\n",
       "         [-1.5551076 ,  0.48654872,  0.05096656, -0.53206563,\n",
       "           0.16064602],\n",
       "         ...,\n",
       "         [-1.5551076 ,  0.48654872,  0.05096656, -0.53206563,\n",
       "           0.16064602],\n",
       "         [-1.5551076 ,  0.48654872,  0.05096656, -0.53206563,\n",
       "           0.16064602],\n",
       "         [-0.834822  ,  0.827458  , -0.08334106, -0.8090108 ,\n",
       "           0.42283142]],\n",
       "\n",
       "        [[-1.5551076 ,  0.48654872,  0.05096656, -0.53206563,\n",
       "           0.16064602],\n",
       "         [-1.5551076 ,  0.48654872,  0.05096656, -0.53206563,\n",
       "           0.16064602],\n",
       "         [-1.5551076 ,  0.48654872,  0.05096656, -0.53206563,\n",
       "           0.16064602],\n",
       "         ...,\n",
       "         [-1.5551076 ,  0.48654872,  0.05096656, -0.53206563,\n",
       "           0.16064602],\n",
       "         [-1.5551076 ,  0.48654872,  0.05096656, -0.53206563,\n",
       "           0.16064602],\n",
       "         [-0.834822  ,  0.827458  , -0.08334106, -0.8090108 ,\n",
       "           0.42283142]],\n",
       "\n",
       "        [[-0.6934795 ,  0.60735977, -0.14366835,  0.29906654,\n",
       "           0.01600015],\n",
       "         [-0.6934795 ,  0.60735977, -0.14366835,  0.29906654,\n",
       "           0.01600015],\n",
       "         [-0.6934795 ,  0.60735977, -0.14366835,  0.29906654,\n",
       "           0.01600015],\n",
       "         ...,\n",
       "         [-0.6934795 ,  0.60735977, -0.14366835,  0.29906654,\n",
       "           0.01600015],\n",
       "         [-0.6934795 ,  0.60735977, -0.14366835,  0.29906654,\n",
       "           0.01600015],\n",
       "         [-0.38787106,  0.11207741, -0.4268023 ,  0.03085153,\n",
       "          -0.09902978]]]], dtype=float32)>"
      ]
     },
     "execution_count": 7,
     "metadata": {},
     "output_type": "execute_result"
    }
   ],
   "source": [
    "class Conv2D(layers.Layer):\n",
    "    def __init__(self, filters, kernel_size, \n",
    "                 strides=1, padding='VALID'):\n",
    "        super(Conv2D, self).__init__()\n",
    "        self.filters = filters\n",
    "        self.kernel_size = kernel_size\n",
    "        self.strides = strides\n",
    "        self.padding = padding\n",
    "\n",
    "    def build(self, input_shape):\n",
    "        self.kernel = self.add_weight(\"kernel\",\n",
    "                                      shape=[self.kernel_size, \n",
    "                                             self.kernel_size,\n",
    "                                             input_shape[-1],\n",
    "                                             self.filters])\n",
    "\n",
    "    def call(self, inputs):\n",
    "        x = tf.nn.conv2d(inputs, self.kernel, \n",
    "                         strides=[1, self.strides, self.strides, 1],\n",
    "                         padding=self.padding)\n",
    "        return x\n",
    "\n",
    "\n",
    "layer = Conv2D(5, 2, padding='SAME')\n",
    "layer(tf.ones([1, 32, 32, 3]))"
   ]
  },
  {
   "cell_type": "markdown",
   "metadata": {},
   "source": [
    "- Prueba capa de convoluciones"
   ]
  },
  {
   "cell_type": "code",
   "execution_count": 8,
   "metadata": {
    "id": "ERlATpwHknEV"
   },
   "outputs": [
    {
     "data": {
      "text/plain": [
       "TensorShape([64, 32, 32, 5])"
      ]
     },
     "execution_count": 8,
     "metadata": {},
     "output_type": "execute_result"
    }
   ],
   "source": [
    "test_layer = Conv2D(\n",
    "    filters=5,\n",
    "    kernel_size=3,\n",
    "    strides = 1,\n",
    "    padding='SAME'\n",
    "    )\n",
    "\n",
    "test_output = test_layer(test_batch[0])\n",
    "test_output.shape"
   ]
  },
  {
   "cell_type": "code",
   "execution_count": 9,
   "metadata": {
    "id": "uYrwTccektFB"
   },
   "outputs": [],
   "source": [
    "test_layer2 = Conv2D(\n",
    "    filters=10,\n",
    "    kernel_size=3,\n",
    "    strides = 2,\n",
    "    padding='VALID'\n",
    "    )"
   ]
  },
  {
   "cell_type": "code",
   "execution_count": 10,
   "metadata": {
    "id": "nsaf8_QdnDiZ"
   },
   "outputs": [
    {
     "data": {
      "text/plain": [
       "TensorShape([64, 15, 15, 10])"
      ]
     },
     "execution_count": 10,
     "metadata": {},
     "output_type": "execute_result"
    }
   ],
   "source": [
    "test_output2 = test_layer2(test_output)\n",
    "test_output2.shape"
   ]
  },
  {
   "cell_type": "code",
   "execution_count": 11,
   "metadata": {
    "id": "9HdjD4AZoXXb"
   },
   "outputs": [
    {
     "data": {
      "text/plain": [
       "TensorShape([64, 2250])"
      ]
     },
     "execution_count": 11,
     "metadata": {},
     "output_type": "execute_result"
    }
   ],
   "source": [
    "tf.keras.layers.Flatten()(test_output2).shape"
   ]
  },
  {
   "cell_type": "code",
   "execution_count": 12,
   "metadata": {
    "id": "4KW2TiE73UD8"
   },
   "outputs": [],
   "source": [
    "import tensorflow as tf"
   ]
  },
  {
   "cell_type": "markdown",
   "metadata": {},
   "source": [
    "- Definir una clase Linear(tf.keras.layers.Layer) y su método build() "
   ]
  },
  {
   "cell_type": "code",
   "execution_count": 13,
   "metadata": {
    "id": "U85l1meq2om8"
   },
   "outputs": [
    {
     "data": {
      "text/plain": [
       "<tf.Tensor: shape=(1, 10), dtype=float32, numpy=\n",
       "array([[0.       , 0.       , 0.       , 0.       , 0.       , 1.9876688,\n",
       "        0.       , 0.       , 1.0542314, 3.166893 ]], dtype=float32)>"
      ]
     },
     "execution_count": 13,
     "metadata": {},
     "output_type": "execute_result"
    }
   ],
   "source": [
    "class Linear(layers.Layer):\n",
    "    def __init__(self, num_outputs, activation=None):\n",
    "        super(Linear, self).__init__()\n",
    "        self.num_outputs = num_outputs\n",
    "        self.activation = activation\n",
    "\n",
    "    def build(self, input_shape):\n",
    "        self.kernel = self.add_weight(\"kernel\",\n",
    "                                      shape=[int(input_shape[-1]), \n",
    "                                             self.num_outputs])\n",
    "        self.bias = self.add_weight(\"bias\",\n",
    "                                    shape=[1, self.num_outputs])\n",
    "\n",
    "    def call(self, inputs):\n",
    "        x = tf.matmul(inputs, self.kernel) + self.bias\n",
    "\n",
    "        if self.activation == 'relu':\n",
    "            x = tf.nn.relu(x)\n",
    "        elif self.activation == 'sigmoid':\n",
    "            x = tf.math.sigmoid(x)\n",
    "\n",
    "        return x\n",
    "\n",
    "\n",
    "layer = Linear(10, 'relu')\n",
    "layer(tf.ones([1, 784]))"
   ]
  },
  {
   "cell_type": "markdown",
   "metadata": {},
   "source": [
    "## 3.- Entrenamientos"
   ]
  },
  {
   "cell_type": "code",
   "execution_count": 14,
   "metadata": {
    "id": "pwlOqleiuY6J"
   },
   "outputs": [],
   "source": [
    "epochs = 10\n",
    "loss_fn = tf.keras.losses.CategoricalCrossentropy(from_logits=True)"
   ]
  },
  {
   "cell_type": "markdown",
   "metadata": {
    "id": "WfQUTJ0zFR36"
   },
   "source": [
    "- Una sola capa convolucional"
   ]
  },
  {
   "cell_type": "code",
   "execution_count": 15,
   "metadata": {},
   "outputs": [
    {
     "name": "stdout",
     "output_type": "stream",
     "text": [
      "Epoch 1/10\n",
      "782/782 [==============================] - 2s 1ms/step - loss: 2.0411 - val_loss: 1.9225\n",
      "Epoch 2/10\n",
      "782/782 [==============================] - 1s 1ms/step - loss: 1.8855 - val_loss: 1.8555\n",
      "Epoch 3/10\n",
      "782/782 [==============================] - 1s 1ms/step - loss: 1.8378 - val_loss: 1.8195\n",
      "Epoch 4/10\n",
      "782/782 [==============================] - 1s 1ms/step - loss: 1.8100 - val_loss: 1.8017\n",
      "Epoch 5/10\n",
      "782/782 [==============================] - 1s 1ms/step - loss: 1.7931 - val_loss: 1.7864\n",
      "Epoch 6/10\n",
      "782/782 [==============================] - 1s 1ms/step - loss: 1.7803 - val_loss: 1.7788\n",
      "Epoch 7/10\n",
      "782/782 [==============================] - 1s 1ms/step - loss: 1.7699 - val_loss: 1.7712\n",
      "Epoch 8/10\n",
      "782/782 [==============================] - 1s 1ms/step - loss: 1.7609 - val_loss: 1.7623\n",
      "Epoch 9/10\n",
      "782/782 [==============================] - 1s 1ms/step - loss: 1.7558 - val_loss: 1.7583\n",
      "Epoch 10/10\n",
      "782/782 [==============================] - 1s 1ms/step - loss: 1.7488 - val_loss: 1.7551\n"
     ]
    }
   ],
   "source": [
    "model = tf.keras.Sequential([\n",
    "    Conv2D(filters=10, kernel_size=3,\n",
    "           strides = 2, padding='VALID'),\n",
    "    layers.Flatten(),\n",
    "    Linear(10),\n",
    "])\n",
    "\n",
    "optimizer = tf.keras.optimizers.Adam(0.0001)\n",
    "\n",
    "model.compile(loss=loss_fn,\n",
    "              optimizer=optimizer)\n",
    "\n",
    "history = model.fit(\n",
    "  train_ds,\n",
    "  validation_data=test_ds,\n",
    "  epochs=epochs, verbose=1)"
   ]
  },
  {
   "cell_type": "code",
   "execution_count": 16,
   "metadata": {
    "id": "6LoX92bs0X0e"
   },
   "outputs": [
    {
     "name": "stdout",
     "output_type": "stream",
     "text": [
      "Model: \"sequential\"\n",
      "_________________________________________________________________\n",
      " Layer (type)                Output Shape              Param #   \n",
      "=================================================================\n",
      " conv2d_3 (Conv2D)           (None, 15, 15, 10)        270       \n",
      "                                                                 \n",
      " flatten_1 (Flatten)         (None, 2250)              0         \n",
      "                                                                 \n",
      " linear_1 (Linear)           (None, 10)                22510     \n",
      "                                                                 \n",
      "=================================================================\n",
      "Total params: 22,780\n",
      "Trainable params: 22,780\n",
      "Non-trainable params: 0\n",
      "_________________________________________________________________\n"
     ]
    }
   ],
   "source": [
    "model.summary()"
   ]
  },
  {
   "cell_type": "markdown",
   "metadata": {},
   "source": [
    "- Agregando más capas convolucionales, activaciones y normalizando por lotes "
   ]
  },
  {
   "cell_type": "code",
   "execution_count": 17,
   "metadata": {
    "id": "r3BEdaufu-BB"
   },
   "outputs": [
    {
     "name": "stdout",
     "output_type": "stream",
     "text": [
      "Epoch 1/10\n",
      "782/782 [==============================] - 2s 2ms/step - loss: 1.6577 - accuracy: 0.4091 - val_loss: 1.4377 - val_accuracy: 0.4848\n",
      "Epoch 2/10\n",
      "782/782 [==============================] - 1s 2ms/step - loss: 1.3363 - accuracy: 0.5251 - val_loss: 1.3165 - val_accuracy: 0.5293\n",
      "Epoch 3/10\n",
      "782/782 [==============================] - 1s 2ms/step - loss: 1.2065 - accuracy: 0.5727 - val_loss: 1.2358 - val_accuracy: 0.5601\n",
      "Epoch 4/10\n",
      "782/782 [==============================] - 2s 2ms/step - loss: 1.1170 - accuracy: 0.6101 - val_loss: 1.1969 - val_accuracy: 0.5747\n",
      "Epoch 5/10\n",
      "782/782 [==============================] - 1s 2ms/step - loss: 1.0454 - accuracy: 0.6379 - val_loss: 1.1663 - val_accuracy: 0.5879\n",
      "Epoch 6/10\n",
      "782/782 [==============================] - 1s 2ms/step - loss: 0.9820 - accuracy: 0.6619 - val_loss: 1.1433 - val_accuracy: 0.5925\n",
      "Epoch 7/10\n",
      "782/782 [==============================] - 2s 2ms/step - loss: 0.9293 - accuracy: 0.6803 - val_loss: 1.1378 - val_accuracy: 0.5999\n",
      "Epoch 8/10\n",
      "782/782 [==============================] - 1s 2ms/step - loss: 0.8779 - accuracy: 0.7006 - val_loss: 1.1092 - val_accuracy: 0.6096\n",
      "Epoch 9/10\n",
      "782/782 [==============================] - 1s 2ms/step - loss: 0.8315 - accuracy: 0.7192 - val_loss: 1.1063 - val_accuracy: 0.6101\n",
      "Epoch 10/10\n",
      "782/782 [==============================] - 1s 2ms/step - loss: 0.7873 - accuracy: 0.7343 - val_loss: 1.1106 - val_accuracy: 0.6105\n"
     ]
    }
   ],
   "source": [
    "model = tf.keras.Sequential([\n",
    "    Conv2D(filters=16, kernel_size=3,\n",
    "                  strides = 2, padding='VALID'),\n",
    "    layers.BatchNormalization(),\n",
    "    layers.ReLU(),\n",
    "    Conv2D(filters=32, kernel_size=3,\n",
    "                  strides=2, padding='VALID'),\n",
    "    layers.BatchNormalization(),\n",
    "    layers.ReLU(),\n",
    "    layers.Flatten(),\n",
    "    Linear(256, activation='relu'),\n",
    "    Linear(10),\n",
    "])\n",
    "\n",
    "optimizer = tf.keras.optimizers.Adam(0.0001)\n",
    "\n",
    "model.compile(loss=loss_fn,\n",
    "              optimizer=optimizer, metrics=['accuracy'])\n",
    "\n",
    "history = model.fit(\n",
    "  train_ds,\n",
    "  validation_data=test_ds,\n",
    "  epochs=epochs, verbose=1)"
   ]
  },
  {
   "cell_type": "code",
   "execution_count": 18,
   "metadata": {},
   "outputs": [
    {
     "name": "stdout",
     "output_type": "stream",
     "text": [
      "Model: \"sequential_1\"\n",
      "_________________________________________________________________\n",
      " Layer (type)                Output Shape              Param #   \n",
      "=================================================================\n",
      " conv2d_4 (Conv2D)           (None, 15, 15, 16)        432       \n",
      "                                                                 \n",
      " batch_normalization (BatchN  (None, 15, 15, 16)       64        \n",
      " ormalization)                                                   \n",
      "                                                                 \n",
      " re_lu (ReLU)                (None, 15, 15, 16)        0         \n",
      "                                                                 \n",
      " conv2d_5 (Conv2D)           (None, 7, 7, 32)          4608      \n",
      "                                                                 \n",
      " batch_normalization_1 (Batc  (None, 7, 7, 32)         128       \n",
      " hNormalization)                                                 \n",
      "                                                                 \n",
      " re_lu_1 (ReLU)              (None, 7, 7, 32)          0         \n",
      "                                                                 \n",
      " flatten_2 (Flatten)         (None, 1568)              0         \n",
      "                                                                 \n",
      " linear_2 (Linear)           (None, 256)               401664    \n",
      "                                                                 \n",
      " linear_3 (Linear)           (None, 10)                2570      \n",
      "                                                                 \n",
      "=================================================================\n",
      "Total params: 409,466\n",
      "Trainable params: 409,370\n",
      "Non-trainable params: 96\n",
      "_________________________________________________________________\n"
     ]
    }
   ],
   "source": [
    "model.summary()"
   ]
  },
  {
   "cell_type": "markdown",
   "metadata": {},
   "source": [
    "- Regularizando con dropout para evitar sobreajuste"
   ]
  },
  {
   "cell_type": "code",
   "execution_count": 19,
   "metadata": {
    "id": "aT3f2FFRzctw"
   },
   "outputs": [
    {
     "name": "stdout",
     "output_type": "stream",
     "text": [
      "Epoch 1/10\n",
      "782/782 [==============================] - 2s 2ms/step - loss: 1.8431 - accuracy: 0.3368 - val_loss: 1.5888 - val_accuracy: 0.4308\n",
      "Epoch 2/10\n",
      "782/782 [==============================] - 2s 2ms/step - loss: 1.5630 - accuracy: 0.4388 - val_loss: 1.4211 - val_accuracy: 0.4893\n",
      "Epoch 3/10\n",
      "782/782 [==============================] - 2s 2ms/step - loss: 1.4500 - accuracy: 0.4821 - val_loss: 1.3406 - val_accuracy: 0.5210\n",
      "Epoch 4/10\n",
      "782/782 [==============================] - 2s 2ms/step - loss: 1.3594 - accuracy: 0.5156 - val_loss: 1.2750 - val_accuracy: 0.5486\n",
      "Epoch 5/10\n",
      "782/782 [==============================] - 2s 2ms/step - loss: 1.2908 - accuracy: 0.5379 - val_loss: 1.2300 - val_accuracy: 0.5615\n",
      "Epoch 6/10\n",
      "782/782 [==============================] - 2s 2ms/step - loss: 1.2397 - accuracy: 0.5616 - val_loss: 1.2051 - val_accuracy: 0.5700\n",
      "Epoch 7/10\n",
      "782/782 [==============================] - 2s 2ms/step - loss: 1.1970 - accuracy: 0.5742 - val_loss: 1.2198 - val_accuracy: 0.5613\n",
      "Epoch 8/10\n",
      "782/782 [==============================] - 2s 2ms/step - loss: 1.1555 - accuracy: 0.5904 - val_loss: 1.1322 - val_accuracy: 0.5998\n",
      "Epoch 9/10\n",
      "782/782 [==============================] - 2s 2ms/step - loss: 1.1218 - accuracy: 0.6025 - val_loss: 1.1086 - val_accuracy: 0.6061\n",
      "Epoch 10/10\n",
      "782/782 [==============================] - 2s 2ms/step - loss: 1.0887 - accuracy: 0.6146 - val_loss: 1.1046 - val_accuracy: 0.6097\n"
     ]
    }
   ],
   "source": [
    "model = tf.keras.Sequential([\n",
    "    Conv2D(filters=16, kernel_size=3,\n",
    "                  strides = 2, padding='VALID'),\n",
    "    layers.BatchNormalization(),\n",
    "    layers.Dropout(0.2),\n",
    "    layers.ReLU(),\n",
    "    Conv2D(filters=32, kernel_size=3,\n",
    "                  strides=2, padding='VALID'),\n",
    "    layers.BatchNormalization(),\n",
    "    layers.ReLU(),\n",
    "    layers.Dropout(0.2),\n",
    "    layers.Flatten(),\n",
    "    Linear(256, activation='relu'),\n",
    "    Linear(10),\n",
    "])\n",
    "\n",
    "optimizer = tf.keras.optimizers.Adam(0.0001)\n",
    "\n",
    "model.compile(loss=loss_fn,\n",
    "              optimizer=optimizer, metrics=['accuracy'])\n",
    "\n",
    "history = model.fit(\n",
    "  train_ds,\n",
    "  validation_data=test_ds,\n",
    "  epochs=epochs, verbose=1)"
   ]
  },
  {
   "cell_type": "code",
   "execution_count": 20,
   "metadata": {
    "id": "ykgqXtEt0HAv"
   },
   "outputs": [
    {
     "name": "stdout",
     "output_type": "stream",
     "text": [
      "Model: \"sequential_2\"\n",
      "_________________________________________________________________\n",
      " Layer (type)                Output Shape              Param #   \n",
      "=================================================================\n",
      " conv2d_6 (Conv2D)           (None, 15, 15, 16)        432       \n",
      "                                                                 \n",
      " batch_normalization_2 (Batc  (None, 15, 15, 16)       64        \n",
      " hNormalization)                                                 \n",
      "                                                                 \n",
      " dropout (Dropout)           (None, 15, 15, 16)        0         \n",
      "                                                                 \n",
      " re_lu_2 (ReLU)              (None, 15, 15, 16)        0         \n",
      "                                                                 \n",
      " conv2d_7 (Conv2D)           (None, 7, 7, 32)          4608      \n",
      "                                                                 \n",
      " batch_normalization_3 (Batc  (None, 7, 7, 32)         128       \n",
      " hNormalization)                                                 \n",
      "                                                                 \n",
      " re_lu_3 (ReLU)              (None, 7, 7, 32)          0         \n",
      "                                                                 \n",
      " dropout_1 (Dropout)         (None, 7, 7, 32)          0         \n",
      "                                                                 \n",
      " flatten_3 (Flatten)         (None, 1568)              0         \n",
      "                                                                 \n",
      " linear_4 (Linear)           (None, 256)               401664    \n",
      "                                                                 \n",
      " linear_5 (Linear)           (None, 10)                2570      \n",
      "                                                                 \n",
      "=================================================================\n",
      "Total params: 409,466\n",
      "Trainable params: 409,370\n",
      "Non-trainable params: 96\n",
      "_________________________________________________________________\n"
     ]
    }
   ],
   "source": [
    "model.summary()"
   ]
  },
  {
   "cell_type": "markdown",
   "metadata": {
    "id": "nhMX-AXmezn-"
   },
   "source": [
    "## Ejercicio"
   ]
  },
  {
   "cell_type": "markdown",
   "metadata": {
    "id": "67j85p3fDxbk"
   },
   "source": [
    "- Modificar la arquitectura para mejorar los resultados de evaluación en el conjunto de prueba\n",
    "- Mejorar el entrenamiento"
   ]
  }
 ],
 "metadata": {
  "accelerator": "GPU",
  "colab": {
   "provenance": []
  },
  "gpuClass": "standard",
  "kernelspec": {
   "display_name": "Python 3 (ipykernel)",
   "language": "python",
   "name": "python3"
  },
  "language_info": {
   "codemirror_mode": {
    "name": "ipython",
    "version": 3
   },
   "file_extension": ".py",
   "mimetype": "text/x-python",
   "name": "python",
   "nbconvert_exporter": "python",
   "pygments_lexer": "ipython3",
   "version": "3.8.13"
  }
 },
 "nbformat": 4,
 "nbformat_minor": 4
}
