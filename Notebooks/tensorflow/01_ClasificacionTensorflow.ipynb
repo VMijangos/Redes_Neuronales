{
  "cells": [
    {
      "cell_type": "markdown",
      "metadata": {
        "id": "PEYMMaqM1hsv"
      },
      "source": [
        "## Clasificación Tensorflow\n",
        "- En este notebook se definen las capas y los ciclos de entrenamiento."
      ]
    },
    {
      "cell_type": "code",
      "execution_count": 1,
      "metadata": {
        "id": "NcOcED7h0fE7"
      },
      "outputs": [],
      "source": [
        "import numpy as np\n",
        "from tensorflow import keras\n",
        "import tensorflow as tf\n",
        "from tensorflow.keras import layers\n",
        "import matplotlib.pyplot as plt"
      ]
    },
    {
      "cell_type": "markdown",
      "source": [
        "## 1.- Pipeline"
      ],
      "metadata": {
        "id": "jWJ2wwp8uGXk"
      }
    },
    {
      "cell_type": "code",
      "source": [
        "num_classes = 10\n",
        "input_shape = (28, 28, 1)\n",
        "\n",
        "(x_train, y_train), (x_test, y_test) = keras.datasets.mnist.load_data()\n",
        "\n",
        "# Scale images to the [0, 1] range\n",
        "x_train = x_train.astype(\"float32\") / 255\n",
        "x_test = x_test.astype(\"float32\") / 255\n",
        "# Make sure images have shape (28, 28, 1)\n",
        "x_train = np.expand_dims(x_train, -1)\n",
        "x_test = np.expand_dims(x_test, -1)\n",
        "\n",
        "# Convert y_train and y_test to one hot \n",
        "y_train = tf.keras.utils.to_categorical(\n",
        "    y_train, num_classes=num_classes, dtype='float32'\n",
        ")\n",
        "\n",
        "y_test = tf.keras.utils.to_categorical(\n",
        "    y_test, num_classes=num_classes, dtype='float32'\n",
        ")\n",
        "print(\"x_train shape:\", x_train.shape)\n",
        "print(x_train.shape[0], \"train samples\")\n",
        "print(x_test.shape[0], \"test samples\")"
      ],
      "metadata": {
        "colab": {
          "base_uri": "https://localhost:8080/"
        },
        "id": "F-x5HOcPgwrz",
        "outputId": "90253f25-1512-4028-b2a3-dd8797df8af1"
      },
      "execution_count": 2,
      "outputs": [
        {
          "output_type": "stream",
          "name": "stdout",
          "text": [
            "Downloading data from https://storage.googleapis.com/tensorflow/tf-keras-datasets/mnist.npz\n",
            "11490434/11490434 [==============================] - 2s 0us/step\n",
            "x_train shape: (60000, 28, 28, 1)\n",
            "60000 train samples\n",
            "10000 test samples\n"
          ]
        }
      ]
    },
    {
      "cell_type": "code",
      "source": [
        "print(y_train[0])\n",
        "\n",
        "plt.imshow(x_train[0, :, :, 0], cmap='gray')\n",
        "plt.colorbar()\n",
        "plt.show()"
      ],
      "metadata": {
        "colab": {
          "base_uri": "https://localhost:8080/",
          "height": 286
        },
        "id": "OoFP409EhUTz",
        "outputId": "1a75b5a9-08df-444b-8b9b-4b343fcb5fd7"
      },
      "execution_count": 3,
      "outputs": [
        {
          "output_type": "stream",
          "name": "stdout",
          "text": [
            "[0. 0. 0. 0. 0. 1. 0. 0. 0. 0.]\n"
          ]
        },
        {
          "output_type": "display_data",
          "data": {
            "text/plain": [
              "<Figure size 432x288 with 2 Axes>"
            ],
            "image/png": "[encoded data removed]"
          },
          "metadata": {
            "needs_background": "light"
          }
        }
      ]
    },
    {
      "cell_type": "code",
      "source": [
        "x_train = x_train.reshape((60000, 28 * 28))\n",
        "x_test = x_test.reshape((10000, 28 * 28))\n",
        "x_train.shape, y_train.shape"
      ],
      "metadata": {
        "colab": {
          "base_uri": "https://localhost:8080/"
        },
        "id": "0mtF2w7ni6f6",
        "outputId": "1e6be653-b41f-4c0d-e209-8656987baee9"
      },
      "execution_count": 4,
      "outputs": [
        {
          "output_type": "execute_result",
          "data": {
            "text/plain": [
              "((60000, 784), (60000, 10))"
            ]
          },
          "metadata": {},
          "execution_count": 4
        }
      ]
    },
    {
      "cell_type": "code",
      "source": [
        "ds_len = len(x_train)\n",
        "batch_size = 64"
      ],
      "metadata": {
        "id": "0jqHzzG8kp8L"
      },
      "execution_count": 5,
      "outputs": []
    },
    {
      "cell_type": "code",
      "source": [
        "x_train = tf.data.Dataset.from_tensor_slices(x_train)\n",
        "y_train = tf.data.Dataset.from_tensor_slices(y_train)\n",
        "\n",
        "x_test = tf.data.Dataset.from_tensor_slices(x_test)\n",
        "y_test = tf.data.Dataset.from_tensor_slices(y_test)\n",
        "\n",
        "train_ds = tf.data.Dataset.zip((x_train, y_train))\n",
        "train_ds = train_ds.shuffle(len(train_ds)).batch(batch_size)\n",
        "\n",
        "test_ds = tf.data.Dataset.zip((x_test, y_test))\n",
        "test_ds = test_ds.batch(batch_size)\n",
        "\n",
        "test_batch = next(iter(train_ds))\n",
        "test_batch[0].shape, test_batch[1].shape"
      ],
      "metadata": {
        "colab": {
          "base_uri": "https://localhost:8080/"
        },
        "id": "TBuQIJhUicTc",
        "outputId": "77733e44-297b-45f3-dc4c-5e4b4ff0a9b5"
      },
      "execution_count": 6,
      "outputs": [
        {
          "output_type": "execute_result",
          "data": {
            "text/plain": [
              "(TensorShape([64, 784]), TensorShape([64, 10]))"
            ]
          },
          "metadata": {},
          "execution_count": 6
        }
      ]
    },
    {
      "cell_type": "markdown",
      "metadata": {
        "id": "NlNrRrpp3EBn"
      },
      "source": [
        "## 2.- Definir capa con tensorflow\n",
        "- Definir una clase Linear(tf.keras.layers.Layer) y su método build() "
      ]
    },
    {
      "cell_type": "code",
      "execution_count": 7,
      "metadata": {
        "id": "4KW2TiE73UD8"
      },
      "outputs": [],
      "source": [
        "import tensorflow as tf"
      ]
    },
    {
      "cell_type": "code",
      "execution_count": 8,
      "metadata": {
        "id": "U85l1meq2om8",
        "colab": {
          "base_uri": "https://localhost:8080/"
        },
        "outputId": "ae686543-392f-457b-e71b-dd060cd64e61"
      },
      "outputs": [
        {
          "output_type": "execute_result",
          "data": {
            "text/plain": [
              "<tf.Tensor: shape=(1, 10), dtype=float32, numpy=\n",
              "array([[0.11009014, 0.        , 0.        , 0.        , 0.        ,\n",
              "        1.0889826 , 0.        , 0.        , 0.02813172, 0.        ]],\n",
              "      dtype=float32)>"
            ]
          },
          "metadata": {},
          "execution_count": 8
        }
      ],
      "source": [
        "class Linear(layers.Layer):\n",
        "  def __init__(self, num_outputs, activation=None):\n",
        "    super(Linear, self).__init__()\n",
        "    self.num_outputs = num_outputs\n",
        "    self.activation = activation\n",
        "\n",
        "  def build(self, input_shape):\n",
        "    self.kernel = self.add_weight(\"kernel\",\n",
        "                                  shape=[int(input_shape[-1]), \n",
        "                                         self.num_outputs])\n",
        "    self.bias = self.add_weight(\"bias\",\n",
        "                                shape=[1, self.num_outputs])\n",
        "\n",
        "  def call(self, inputs):\n",
        "    x = tf.matmul(inputs, self.kernel) + self.bias\n",
        "    \n",
        "    if self.activation == 'relu':\n",
        "        x = tf.nn.relu(x)\n",
        "    elif self.activation == 'sigmoid':\n",
        "        x = tf.math.sigmoid(x)\n",
        "\n",
        "    return x\n",
        "\n",
        "\n",
        "layer = Linear(10, 'relu')\n",
        "layer(tf.ones([1, 784]))"
      ]
    },
    {
      "cell_type": "code",
      "source": [
        "epochs = 10\n",
        "loss_fn = tf.keras.losses.CategoricalCrossentropy(from_logits=True)"
      ],
      "metadata": {
        "id": "pwlOqleiuY6J"
      },
      "execution_count": 9,
      "outputs": []
    },
    {
      "cell_type": "markdown",
      "source": [
        "- Una sola capa"
      ],
      "metadata": {
        "id": "WfQUTJ0zFR36"
      }
    },
    {
      "cell_type": "code",
      "execution_count": 10,
      "metadata": {
        "id": "mgx9OSCJ4ioR",
        "colab": {
          "base_uri": "https://localhost:8080/"
        },
        "outputId": "2dcc3d9a-ab07-4ead-cfaf-4980e937c277"
      },
      "outputs": [
        {
          "output_type": "stream",
          "name": "stdout",
          "text": [
            "Epoch 1/10\n",
            "938/938 [==============================] - 6s 5ms/step - loss: 1.4196 - val_loss: 0.8740\n",
            "Epoch 2/10\n",
            "938/938 [==============================] - 3s 3ms/step - loss: 0.7244 - val_loss: 0.5881\n",
            "Epoch 3/10\n",
            "938/938 [==============================] - 3s 3ms/step - loss: 0.5472 - val_loss: 0.4786\n",
            "Epoch 4/10\n",
            "938/938 [==============================] - 3s 3ms/step - loss: 0.4663 - val_loss: 0.4213\n",
            "Epoch 5/10\n",
            "938/938 [==============================] - 3s 3ms/step - loss: 0.4199 - val_loss: 0.3855\n",
            "Epoch 6/10\n",
            "938/938 [==============================] - 3s 3ms/step - loss: 0.3900 - val_loss: 0.3619\n",
            "Epoch 7/10\n",
            "938/938 [==============================] - 3s 3ms/step - loss: 0.3692 - val_loss: 0.3465\n",
            "Epoch 8/10\n",
            "938/938 [==============================] - 3s 3ms/step - loss: 0.3541 - val_loss: 0.3341\n",
            "Epoch 9/10\n",
            "938/938 [==============================] - 3s 3ms/step - loss: 0.3424 - val_loss: 0.3245\n",
            "Epoch 10/10\n",
            "938/938 [==============================] - 3s 3ms/step - loss: 0.3333 - val_loss: 0.3167\n"
          ]
        }
      ],
      "source": [
        "model = tf.keras.Sequential([\n",
        "    Linear(10),\n",
        "])\n",
        "\n",
        "optimizer = tf.keras.optimizers.Adam(0.0001)\n",
        "\n",
        "model.compile(loss=loss_fn,\n",
        "              optimizer=optimizer)\n",
        "\n",
        "history = model.fit(\n",
        "  train_ds,\n",
        "  validation_data=test_ds,\n",
        "  epochs=epochs, verbose=1)"
      ]
    },
    {
      "cell_type": "markdown",
      "source": [
        "- Una capa oculta con activación sigmoide"
      ],
      "metadata": {
        "id": "bHrKsZHgFZ_9"
      }
    },
    {
      "cell_type": "code",
      "execution_count": 11,
      "metadata": {
        "colab": {
          "base_uri": "https://localhost:8080/"
        },
        "id": "Hwszt7HE4244",
        "outputId": "672fb417-1c80-4b29-8c1c-50b2688ecacb"
      },
      "outputs": [
        {
          "output_type": "stream",
          "name": "stdout",
          "text": [
            "Epoch 1/10\n",
            "938/938 [==============================] - 3s 3ms/step - loss: 1.1076 - val_loss: 0.6057\n",
            "Epoch 2/10\n",
            "938/938 [==============================] - 3s 3ms/step - loss: 0.5092 - val_loss: 0.4140\n",
            "Epoch 3/10\n",
            "938/938 [==============================] - 3s 3ms/step - loss: 0.3903 - val_loss: 0.3452\n",
            "Epoch 4/10\n",
            "938/938 [==============================] - 3s 3ms/step - loss: 0.3381 - val_loss: 0.3086\n",
            "Epoch 5/10\n",
            "938/938 [==============================] - 3s 3ms/step - loss: 0.3073 - val_loss: 0.2856\n",
            "Epoch 6/10\n",
            "938/938 [==============================] - 3s 3ms/step - loss: 0.2861 - val_loss: 0.2701\n",
            "Epoch 7/10\n",
            "938/938 [==============================] - 3s 3ms/step - loss: 0.2695 - val_loss: 0.2565\n",
            "Epoch 8/10\n",
            "938/938 [==============================] - 3s 3ms/step - loss: 0.2555 - val_loss: 0.2445\n",
            "Epoch 9/10\n",
            "938/938 [==============================] - 3s 3ms/step - loss: 0.2430 - val_loss: 0.2343\n",
            "Epoch 10/10\n",
            "938/938 [==============================] - 3s 3ms/step - loss: 0.2321 - val_loss: 0.2259\n"
          ]
        }
      ],
      "source": [
        "model = tf.keras.Sequential([\n",
        "    Linear(256, 'sigmoid'),\n",
        "    Linear(10),\n",
        "])\n",
        "\n",
        "optimizer = tf.keras.optimizers.Adam(0.0001)\n",
        "\n",
        "model.compile(loss=loss_fn,\n",
        "              optimizer=optimizer)\n",
        "\n",
        "history = model.fit(\n",
        "  train_ds,\n",
        "  validation_data=test_ds,\n",
        "  epochs=epochs, verbose=1)"
      ]
    },
    {
      "cell_type": "markdown",
      "source": [
        "- Una capa oculta con activación relu"
      ],
      "metadata": {
        "id": "ZmgrYScEFo4-"
      }
    },
    {
      "cell_type": "code",
      "source": [
        "model = tf.keras.Sequential([\n",
        "    Linear(256, 'relu'),\n",
        "    Linear(10),\n",
        "])\n",
        "\n",
        "optimizer = tf.keras.optimizers.Adam(0.0001)\n",
        "\n",
        "model.compile(loss=loss_fn,\n",
        "              optimizer=optimizer)\n",
        "\n",
        "history = model.fit(\n",
        "  train_ds,\n",
        "  validation_data=test_ds,\n",
        "  epochs=epochs, verbose=1)"
      ],
      "metadata": {
        "colab": {
          "base_uri": "https://localhost:8080/"
        },
        "id": "5eNS2ZFlvKvA",
        "outputId": "5d0e7c64-0f54-4643-c9ca-8cfd983b55f2"
      },
      "execution_count": 12,
      "outputs": [
        {
          "output_type": "stream",
          "name": "stdout",
          "text": [
            "Epoch 1/10\n",
            "938/938 [==============================] - 3s 3ms/step - loss: 0.6688 - val_loss: 0.3286\n",
            "Epoch 2/10\n",
            "938/938 [==============================] - 3s 3ms/step - loss: 0.2982 - val_loss: 0.2532\n",
            "Epoch 3/10\n",
            "938/938 [==============================] - 4s 4ms/step - loss: 0.2420 - val_loss: 0.2214\n",
            "Epoch 4/10\n",
            "938/938 [==============================] - 4s 4ms/step - loss: 0.2071 - val_loss: 0.1909\n",
            "Epoch 5/10\n",
            "938/938 [==============================] - 4s 4ms/step - loss: 0.1819 - val_loss: 0.1754\n",
            "Epoch 6/10\n",
            "938/938 [==============================] - 5s 5ms/step - loss: 0.1620 - val_loss: 0.1587\n",
            "Epoch 7/10\n",
            "938/938 [==============================] - 3s 3ms/step - loss: 0.1460 - val_loss: 0.1451\n",
            "Epoch 8/10\n",
            "938/938 [==============================] - 3s 3ms/step - loss: 0.1321 - val_loss: 0.1350\n",
            "Epoch 9/10\n",
            "938/938 [==============================] - 3s 3ms/step - loss: 0.1209 - val_loss: 0.1262\n",
            "Epoch 10/10\n",
            "938/938 [==============================] - 3s 3ms/step - loss: 0.1111 - val_loss: 0.1211\n"
          ]
        }
      ]
    },
    {
      "cell_type": "code",
      "execution_count": 13,
      "metadata": {
        "colab": {
          "base_uri": "https://localhost:8080/",
          "height": 279
        },
        "id": "IOUDxZ_l9Nzw",
        "outputId": "57f7c514-3696-493b-b9a0-f4c7394bc012"
      },
      "outputs": [
        {
          "output_type": "display_data",
          "data": {
            "text/plain": [
              "<Figure size 648x288 with 1 Axes>"
            ],
            "image/png": "[encoded data removed]"
          },
          "metadata": {
            "needs_background": "light"
          }
        }
      ],
      "source": [
        "import matplotlib.pyplot as plt\n",
        "plt.figure(figsize=(9, 4))\n",
        "\n",
        "plt.xlabel('epoch')\n",
        "plt.ylabel('loss')\n",
        "\n",
        "plt.plot(model.history.history['loss'], label='train error')\n",
        "plt.plot(model.history.history['val_loss'], label='test error')\n",
        "\n",
        "plt.legend()\n",
        "plt.show()"
      ]
    },
    {
      "cell_type": "markdown",
      "metadata": {
        "id": "s30jq1y4lJ0x"
      },
      "source": [
        "## 3.- Ciclo de entrenamiento y pipeline"
      ]
    },
    {
      "cell_type": "markdown",
      "metadata": {
        "id": "9Z05LGMYlRHr"
      },
      "source": [
        "- Definir train_step"
      ]
    },
    {
      "cell_type": "code",
      "execution_count": 14,
      "metadata": {
        "id": "0cm4XiEoOADz"
      },
      "outputs": [],
      "source": [
        "@tf.function\n",
        "def train_step(batch, model, optimizer):\n",
        "    x, y = batch\n",
        "\n",
        "    with tf.GradientTape() as tape:\n",
        "        output = model(x, training=True)  # Logits for this minibatch\n",
        "        #print(output)\n",
        "        # Compute the loss value for this minibatch.\n",
        "        loss_value = loss_fn(y, output)\n",
        "\n",
        "    grads = tape.gradient(loss_value, model.trainable_weights)\n",
        "    optimizer.apply_gradients(zip(grads, model.trainable_weights))\n",
        "    return loss_value"
      ]
    },
    {
      "cell_type": "markdown",
      "metadata": {
        "id": "NW8FmizflT76"
      },
      "source": [
        "- Entrenamiento"
      ]
    },
    {
      "cell_type": "code",
      "execution_count": 15,
      "metadata": {
        "id": "BY9MNkIf6Tr2"
      },
      "outputs": [],
      "source": [
        "model = tf.keras.Sequential([\n",
        "    Linear(256, 'relu'),\n",
        "    Linear(10),\n",
        "])\n",
        "\n",
        "optimizer = tf.keras.optimizers.Adam(0.0001)"
      ]
    },
    {
      "cell_type": "code",
      "execution_count": 16,
      "metadata": {
        "id": "uE4-o1AvL7qr",
        "colab": {
          "base_uri": "https://localhost:8080/"
        },
        "outputId": "4343ec92-e8ae-4ae7-8f1e-52f76b9e3ee2"
      },
      "outputs": [
        {
          "output_type": "stream",
          "name": "stdout",
          "text": [
            "tf.Tensor(0.6552077, shape=(), dtype=float32)\n",
            "tf.Tensor(0.2902704, shape=(), dtype=float32)\n",
            "tf.Tensor(0.23472665, shape=(), dtype=float32)\n",
            "tf.Tensor(0.20083404, shape=(), dtype=float32)\n",
            "tf.Tensor(0.17599782, shape=(), dtype=float32)\n",
            "tf.Tensor(0.15675485, shape=(), dtype=float32)\n",
            "tf.Tensor(0.14098766, shape=(), dtype=float32)\n",
            "tf.Tensor(0.12813853, shape=(), dtype=float32)\n",
            "tf.Tensor(0.11708063, shape=(), dtype=float32)\n",
            "tf.Tensor(0.10749421, shape=(), dtype=float32)\n"
          ]
        }
      ],
      "source": [
        "epochs = 10\n",
        "loss_epoch = []\n",
        "\n",
        "for epoch in range(epochs):\n",
        "    loss = 0.0\n",
        "    for batch in train_ds:\n",
        "        loss += train_step(batch, model, optimizer)\n",
        "    total_loss = loss / len(train_ds)\n",
        "    print(total_loss)\n",
        "    loss_epoch.append(total_loss.numpy())"
      ]
    },
    {
      "cell_type": "markdown",
      "metadata": {
        "id": "nhMX-AXmezn-"
      },
      "source": [
        "## Ejercicio"
      ]
    },
    {
      "cell_type": "markdown",
      "metadata": {
        "id": "67j85p3fDxbk"
      },
      "source": [
        "- Definir función __test_step()__ para evaluación\n",
        "- Modificar la arquitectura para mejorar el modelo\n",
        "- Experimentar con diferentes funciones de activación\n"
      ]
    }
  ],
  "metadata": {
    "colab": {
      "collapsed_sections": [],
      "provenance": []
    },
    "kernelspec": {
      "display_name": "Python 3 (ipykernel)",
      "language": "python",
      "name": "python3"
    },
    "language_info": {
      "codemirror_mode": {
        "name": "ipython",
        "version": 3
      },
      "file_extension": ".py",
      "mimetype": "text/x-python",
      "name": "python",
      "nbconvert_exporter": "python",
      "pygments_lexer": "ipython3",
      "version": "3.8.13"
    },
    "accelerator": "GPU",
    "gpuClass": "standard"
  },
  "nbformat": 4,
  "nbformat_minor": 0
}