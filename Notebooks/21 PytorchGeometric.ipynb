{
 "cells": [
  {
   "cell_type": "markdown",
   "id": "2bf5da54",
   "metadata": {},
   "source": [
    "# Pytorch Geometric\n",
    "\n",
    "La paquetería de pytorch geometric está pensada para elaborar capas de redes gráficas. Esta paquetería ya contiene algunas capas pre-definidas, pero también nos permite elaborar nuestras propias capas para integrarlas en un modelo de red neuronal de gráfica. Pytorch geometric se suele utilizar junto con torch, pues dependen uno del otro.\n",
    "\n",
    "Importamos entonces torch, torch.nn, torch_geometric y torch_geometric.nn además de otras paqueterías auxiliares."
   ]
  },
  {
   "cell_type": "code",
   "execution_count": 1,
   "id": "f524bdec",
   "metadata": {},
   "outputs": [],
   "source": [
    "import torch\n",
    "import torch.nn as nn\n",
    "import torch_geometric as geo_torch\n",
    "import torch_geometric.nn as geo_nn\n",
    "import numpy as np\n",
    "import networkx as nx"
   ]
  },
  {
   "cell_type": "markdown",
   "id": "1cb0e456",
   "metadata": {},
   "source": [
    "## Creación de datos\n",
    "\n",
    "En primer lugar, definiremos nuestros datos. En este caso, podemos usar tensores en formato torch. Declararemos unos datos de entrada, unas clases de salida y una matriz de adyacencia."
   ]
  },
  {
   "cell_type": "code",
   "execution_count": 2,
   "id": "94515334",
   "metadata": {},
   "outputs": [],
   "source": [
    "x = torch.tensor([[-1], [0], [1]], dtype=torch.float)\n",
    "y = torch.tensor([0, 1, 0], dtype=torch.long)\n",
    "A = torch.tensor([[0, 1, 0],[1, 0, 1],[0, 1, 0]])"
   ]
  },
  {
   "cell_type": "markdown",
   "id": "069c27ba",
   "metadata": {},
   "source": [
    "Pytorch geometric trabaj con un formato particular para indicar las aristas de la gráfica. Este formato está basado en dos renglones donde cada columna presenta una adyacencia. Por ejemplo, si tenemos una adyacencia $(n_i,n_j) \\in E$, entonces crearemos la columna:\n",
    "\n",
    "$$\\begin{bmatrix} n_i \\\\ n_j \\end{bmatrix}$$\n",
    "\n",
    "En el caso anterior, por ejemplo, tendríamos el siguiente ínidice de aristas:\n",
    "\n",
    "$$\\begin{bmatrix} n_0 & n_1 & n_1 & n_2 \\\\ n_1 & n_0 & n_2 & n_1 \\end{bmatrix}$$"
   ]
  },
  {
   "cell_type": "code",
   "execution_count": 3,
   "id": "55301bd8",
   "metadata": {},
   "outputs": [
    {
     "name": "stdout",
     "output_type": "stream",
     "text": [
      "tensor([[0, 1, 1, 2],\n",
      "        [1, 0, 2, 1]])\n"
     ]
    }
   ],
   "source": [
    "edge_index = A.nonzero().t().contiguous() \n",
    "print(edge_index)"
   ]
  },
  {
   "cell_type": "markdown",
   "id": "83e7f5ac",
   "metadata": {},
   "source": [
    "Para generar los datos, se puede utilizar la función de torch_geometric.data.Data, la cual guardará los datos, las clases, y la información de adyacencia."
   ]
  },
  {
   "cell_type": "code",
   "execution_count": 4,
   "id": "8cfe896b",
   "metadata": {},
   "outputs": [
    {
     "data": {
      "text/plain": [
       "tensor([[-1.],\n",
       "        [ 0.],\n",
       "        [ 1.]])"
      ]
     },
     "execution_count": 4,
     "metadata": {},
     "output_type": "execute_result"
    }
   ],
   "source": [
    "data = geo_torch.data.Data(x=x, y=y, edge_index=edge_index)\n",
    "data.x"
   ]
  },
  {
   "cell_type": "markdown",
   "id": "ee2154ce",
   "metadata": {},
   "source": [
    "También podemos obtener una gráfica en formato networkx a partir de la función to_networkx:"
   ]
  },
  {
   "cell_type": "code",
   "execution_count": 5,
   "id": "f11d5cb9",
   "metadata": {},
   "outputs": [
    {
     "data": {
      "image/png": "[encoded data removed]",
      "text/plain": [
       "<Figure size 432x288 with 1 Axes>"
      ]
     },
     "metadata": {},
     "output_type": "display_data"
    }
   ],
   "source": [
    "G = geo_torch.utils.to_networkx(data, to_undirected=True)\n",
    "nx.draw_networkx(G, with_labels=True)"
   ]
  },
  {
   "cell_type": "markdown",
   "id": "aa12586f",
   "metadata": {},
   "source": [
    "## Creación de capas\n",
    "\n",
    "Para crear capas de redes de gráficas, pytroch geometric nos permite definir el procesamiento de estas capas de manera sencilla. Para esto se ocupa <b>torch_geometric.nn.MessagePassing</b>, crearemos entonces una capa de tipo Message Passing que necesita especificar lo siguiente: \n",
    "\n",
    "* La función de agregación, esto se hace después del __init__ de la siguiente forma:\n",
    "```python\n",
    "  super().__init__(aggr='Método_de_agregación')\n",
    "``` \n",
    "Se pueden tomar diferentes métodos de agregación: 1) 'add' - suma; 2) 'mean' - meadia; y 3) 'max' - máximo\n",
    "* Indicar las capas que se van a usar, ya sean de pytorch o pytorch_geometric.\n",
    "* En el forward se indicará el preprocesamiento de los datos y se obtendrá la salida. En el forward mandaremos llamar la función de message por medio de:\n",
    "```python\n",
    "    self.propagate(x=x, edge_index=edge_index)\n",
    "```\n",
    "propagate refiere a la función de la capa $F(x, X_{\\mathcal{N}_x})$, que propaga el mensaje en base a la adyacencia de la gráfica. Se puede agregar un factor de normalización norm=norm si la función de difusión recibe algún tipo de normalización.\n",
    "* La función message se encarga de propagar el mensaje, en este caso, debemos indicar la función de difusión. El mesanje se propagará según la función de agregación que hemos indicado con anterioridad.\n",
    "\n",
    "En la capa de abajo indicamos que queremos agregación de suma en __init__, forward aplicamos una transformación lineal a los datos y calculamos una normalización $norm = \\frac{1}{deg(x_i) deg(x_j)}$, entonces enviamos $x$ y la normalización para que se propaguen. La propagación final, considerando la agregación y demás será de la forma:\n",
    "\n",
    "$$h_i = \\sum_{j \\in \\mathcal{N}_i} \\frac{1}{deg(i)deg(j)} \\psi(x_j) + b$$\n",
    "\n",
    "donde $\\psi(x)$ es una capa lineal."
   ]
  },
  {
   "cell_type": "code",
   "execution_count": 6,
   "id": "3c2fefa7",
   "metadata": {},
   "outputs": [],
   "source": [
    "class GCNConv(geo_nn.MessagePassing):\n",
    "    def __init__(self, in_channels=1, out_channels=2):\n",
    "        super().__init__(aggr='add') #La agregación será por suma\n",
    "        #Capa lineal\n",
    "        self.lin = nn.Linear(in_channels, out_channels, bias=False)\n",
    "        self.bias = nn.Parameter(torch.Tensor(out_channels))\n",
    "        self.reset_parameters()\n",
    "\n",
    "    def reset_parameters(self):\n",
    "        \"\"\"Reinicia los parámetros de la red\"\"\"\n",
    "        self.lin.reset_parameters()\n",
    "        self.bias.data.zero_()\n",
    "\n",
    "    def forward(self, x, edge_index):\n",
    "        #Añade lazos a la adyacencia para que un nodo sea vecino siempre de sí mismo\n",
    "        edge_index, _ = geo_torch.utils.add_self_loops(edge_index, num_nodes=x.size(0))\n",
    "\n",
    "        #Transformación lineal sobre x\n",
    "        x = self.lin(x)\n",
    "\n",
    "        #Computar normalización, raíz cuadrada de grados\n",
    "        row, col = edge_index\n",
    "        deg = geo_torch.utils.degree(col, x.size(0), dtype=x.dtype)\n",
    "        deg_inv_sqrt = deg.pow(-0.5)\n",
    "        deg_inv_sqrt[deg_inv_sqrt == float('inf')] = 0\n",
    "        norm = deg_inv_sqrt[row] * deg_inv_sqrt[col]\n",
    "\n",
    "        #Hacer la difusión de los mensajes\n",
    "        #propagate hace referencia a la función message de abajo\n",
    "        out = self.propagate(edge_index, x=x, norm=norm)\n",
    "\n",
    "        #Aplicar el vector del bias después de la difusión\n",
    "        out += self.bias\n",
    "\n",
    "        return out\n",
    "\n",
    "    def message(self, x_j, norm):\n",
    "        \"\"\"Determina la difusión del mensaje\"\"\"\n",
    "        #Propagación del mensaje por método aggr\n",
    "        return norm.view(-1, 1) * x_j"
   ]
  },
  {
   "cell_type": "markdown",
   "id": "60337c70",
   "metadata": {},
   "source": [
    "Una vez definida nuestra capa gráfica, podemos definir nuestro modelo de red neuronal, ya sea por medio de un Módulo o usando el método $torch_geometric.nn.Sequential$, que funciona de forma similar a Sequential en torch, pero indicamos los valores que entran (x, y la adyacencia) y como trabajan las capas gráficas."
   ]
  },
  {
   "cell_type": "code",
   "execution_count": 7,
   "id": "00751895",
   "metadata": {},
   "outputs": [],
   "source": [
    "#Creación del modelo con Sequential\n",
    "model = geo_nn.Sequential('x, edge_index', [(GCNConv(data.num_node_features, 64), 'x,edge_index->x'),\n",
    "                                           nn.ReLU(inplace=True), nn.Linear(64, 2), nn.Softmax(1)])"
   ]
  },
  {
   "cell_type": "markdown",
   "id": "fecb13bc",
   "metadata": {},
   "source": [
    "Entrenamos nuestro modelo de forma similar que en torch, sólo notamos que el modelo toma como inputs al vector de entrada y a su adyacencia."
   ]
  },
  {
   "cell_type": "code",
   "execution_count": 8,
   "id": "8a3937ff",
   "metadata": {},
   "outputs": [],
   "source": [
    "risk = nn.CrossEntropyLoss()\n",
    "optimizer = torch.optim.Adam(model.parameters(), lr=0.01, weight_decay=5e-4)\n",
    "\n",
    "model.train()\n",
    "for epoch in range(200):\n",
    "    optimizer.zero_grad()\n",
    "    out = model(data.x, data.edge_index)\n",
    "    loss = risk(out, data.y)\n",
    "    loss.backward()\n",
    "    optimizer.step()"
   ]
  },
  {
   "cell_type": "markdown",
   "id": "069796cc",
   "metadata": {},
   "source": [
    "Podemos entonces ya usar nuestra red de gráfica con los pesos óptimos."
   ]
  },
  {
   "cell_type": "code",
   "execution_count": 9,
   "id": "40a3e4cd",
   "metadata": {},
   "outputs": [
    {
     "data": {
      "text/plain": [
       "tensor([0, 1, 0])"
      ]
     },
     "execution_count": 9,
     "metadata": {},
     "output_type": "execute_result"
    }
   ],
   "source": [
    "model.eval()\n",
    "model(data.x, data.edge_index).argmax(axis=1)"
   ]
  },
  {
   "cell_type": "markdown",
   "id": "7aac5551",
   "metadata": {},
   "source": [
    "## Ejemplo: Sparse AutoEncoder con redes gráficas\n",
    "\n",
    "Para hacer un ejemplo más complejo, podemos definir una especie de sparse autoencoder. En este caso tomaremos imagenes que tengan un sólo canal, y los codificaremos a imagenes con 3 canales. Tomamos el dataset MNIST donde los digitos cuentan con sólo un canal."
   ]
  },
  {
   "cell_type": "code",
   "execution_count": 10,
   "id": "2ad3e8e1",
   "metadata": {},
   "outputs": [
    {
     "data": {
      "image/png": "[encoded data removed]",
      "text/plain": [
       "<Figure size 720x216 with 10 Axes>"
      ]
     },
     "metadata": {
      "needs_background": "light"
     },
     "output_type": "display_data"
    }
   ],
   "source": [
    "from sklearn.datasets import load_digits\n",
    "from tqdm import tqdm\n",
    "import matplotlib.pyplot as plt\n",
    "\n",
    "data = np.array([x_i.reshape(8,8) for x_i in load_digits().data])\n",
    "\n",
    "def plot_images(images, num=4):\n",
    "    \"\"\"Visualización de imagenes\"\"\"\n",
    "    _, axes = plt.subplots(nrows=1, ncols=num, figsize=(10, 3))\n",
    "    for ax, image in zip(axes, images):\n",
    "        ax.set_axis_off()\n",
    "        ax.imshow(image)\n",
    "        \n",
    "plot_images(data, num=10)"
   ]
  },
  {
   "cell_type": "markdown",
   "id": "a54f86a3",
   "metadata": {},
   "source": [
    "Definimos los ejemplos. En este caso, tendremos que codificar los datos en imágenes de 3 canales, después decodificarlo para obtener una reconstrucción de la imagen original. La imagen deseada estará entonces en el medio de la red. La entrada y la salida serán los mismos, definiremos una adyacencia basada en la estructura de grid."
   ]
  },
  {
   "cell_type": "code",
   "execution_count": 11,
   "id": "29b3c89b",
   "metadata": {},
   "outputs": [],
   "source": [
    "#Entrada\n",
    "x = torch.Tensor([x_i.reshape(64,1) for x_i in data])\n",
    "#Salida\n",
    "y = torch.Tensor([x_i.reshape(64) for x_i in data])\n",
    "#Adyacencia grid\n",
    "edge_index,_ = geo_torch.utils.grid(8, 8, dtype=torch.long)"
   ]
  },
  {
   "cell_type": "markdown",
   "id": "106a60b5",
   "metadata": {},
   "source": [
    "Usaremos las capas de pytorch_geometric que ya vienen pre-definidas. Algunas de estas capas pueden encontrarse en: https://pytorch-geometric.readthedocs.io/en/latest/modules/nn.html\n",
    "Definiremos un encoder que tomará las imagenes con 1 canal y las llevará hacia 3 canales. El decoder tomará estos 3 canales y buscará reconstruir las imágenes originales."
   ]
  },
  {
   "cell_type": "code",
   "execution_count": 12,
   "id": "f7b5c83d",
   "metadata": {},
   "outputs": [
    {
     "data": {
      "text/plain": [
       "<All keys matched successfully>"
      ]
     },
     "execution_count": 12,
     "metadata": {},
     "output_type": "execute_result"
    }
   ],
   "source": [
    "#encoder = geo_nn.Sequential('x, edge_index', [(geo_nn.GCNConv(1, 2), 'x,edge_index->x'),nn.ReLU(),\n",
    "#                                              (geo_nn.GCNConv(2, 3), 'x,edge_index->x'), nn.Sigmoid()])\n",
    "#decoder = geo_nn.Sequential('x, edge_index', [(geo_nn.GCNConv(3, 2), 'x,edge_index->x'), nn.ReLU(),\n",
    "#                                              (geo_nn.GCNConv(2, 1), 'x,edge_index->x'), nn.ReLU()])\n",
    "\n",
    "#encoder = geo_nn.Sequential('x, edge_index', [(geo_nn.FeaStConv(1, 2), 'x,edge_index->x'),nn.ReLU(),\n",
    "#                                              (geo_nn.FeaStConv(2, 3), 'x,edge_index->x'), nn.Sigmoid()])\n",
    "#decoder = geo_nn.Sequential('x, edge_index', [(geo_nn.FeaStConv(3, 2), 'x,edge_index->x'), nn.ReLU(),\n",
    "#                                              (geo_nn.FeaStConv(2, 1), 'x,edge_index->x'), nn.ReLU()])\n",
    "\n",
    "encoder = geo_nn.Sequential('x, edge_index', [(geo_nn.ARMAConv(1, 3), 'x,edge_index->x'), nn.Sigmoid()])\n",
    "decoder = geo_nn.Sequential('x, edge_index', [(geo_nn.FeaStConv(3, 1), 'x,edge_index->x'), nn.ReLU()])\n",
    "\n",
    "encoder.load_state_dict(torch.load('MNISTArma.model'))"
   ]
  },
  {
   "cell_type": "markdown",
   "id": "2325c9c2",
   "metadata": {},
   "source": [
    "Nuestro error será el error cuadrático medio, pues buscaremos que la imagen reconstruida sea lo más similar a la imagen de entrada:\n",
    "\n",
    "$$R(\\theta) = \\frac{1}{2}\\sum_x||x-\\hat{x}||^2$$\n",
    "\n",
    "Donde $\\hat{x}$ es la salida del decoder. "
   ]
  },
  {
   "cell_type": "code",
   "execution_count": 123,
   "id": "2ab75cee",
   "metadata": {},
   "outputs": [
    {
     "name": "stderr",
     "output_type": "stream",
     "text": [
      "100%|██████████| 100/100 [06:27<00:00,  3.88s/it]\n"
     ]
    }
   ],
   "source": [
    "risk = nn.MSELoss()\n",
    "optimizer = torch.optim.Adam(list(encoder.parameters())+list(decoder.parameters()), lr=0.01, weight_decay=5e-4)\n",
    "\n",
    "for epoch in tqdm(range(100)):\n",
    "    for x_i,y_i in zip(x,y):\n",
    "        h = encoder(x_i, edge_index)\n",
    "        out = decoder(h, edge_index)\n",
    "        optimizer.zero_grad()\n",
    "        y_i = y_i.reshape(64)\n",
    "        loss = risk(out, y_i)\n",
    "        loss.backward()\n",
    "        optimizer.step()"
   ]
  },
  {
   "cell_type": "code",
   "execution_count": 124,
   "id": "96f3e798",
   "metadata": {},
   "outputs": [],
   "source": [
    "torch.save(encoder.state_dict(), 'MNISTArma100.model')"
   ]
  },
  {
   "cell_type": "markdown",
   "id": "68bcc5b7",
   "metadata": {},
   "source": [
    "Podemos entonces ver cuál es el resultado."
   ]
  },
  {
   "cell_type": "code",
   "execution_count": 13,
   "id": "e57817f2",
   "metadata": {},
   "outputs": [],
   "source": [
    "def encode(x_i):\n",
    "    edge_index,_ = geo_torch.utils.grid(8, 8, dtype=torch.long)\n",
    "    h = encoder(x_i, edge_index).detach().numpy()\n",
    "    h = h.reshape(8,8,3)\n",
    "    return h"
   ]
  },
  {
   "cell_type": "code",
   "execution_count": 14,
   "id": "a90de077",
   "metadata": {},
   "outputs": [
    {
     "data": {
      "image/png": "[encoded data removed]",
      "text/plain": [
       "<Figure size 720x216 with 10 Axes>"
      ]
     },
     "metadata": {
      "needs_background": "light"
     },
     "output_type": "display_data"
    }
   ],
   "source": [
    "result = [encode(x_i) for x_i in x[:10]]\n",
    "plot_images(result, num=10)"
   ]
  },
  {
   "cell_type": "code",
   "execution_count": null,
   "id": "94f2d157",
   "metadata": {},
   "outputs": [],
   "source": []
  }
 ],
 "metadata": {
  "kernelspec": {
   "display_name": "Python 3",
   "language": "python",
   "name": "python3"
  },
  "language_info": {
   "codemirror_mode": {
    "name": "ipython",
    "version": 3
   },
   "file_extension": ".py",
   "mimetype": "text/x-python",
   "name": "python",
   "nbconvert_exporter": "python",
   "pygments_lexer": "ipython3",
   "version": "3.8.8"
  }
 },
 "nbformat": 4,
 "nbformat_minor": 5
}
